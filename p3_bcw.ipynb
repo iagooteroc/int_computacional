{
 "cells": [
  {
   "cell_type": "code",
   "execution_count": 186,
   "metadata": {},
   "outputs": [],
   "source": [
    "import pandas as pd\n",
    "import os\n",
    "from sklearn import datasets\n",
    "import numpy as np\n",
    "import matplotlib.pyplot as plt\n",
    "import itertools as it\n",
    "from sklearn.neighbors import LocalOutlierFactor\n",
    "from sklearn.model_selection import train_test_split, GridSearchCV, KFold\n",
    "from sklearn.discriminant_analysis import (LinearDiscriminantAnalysis,\n",
    "                                           QuadraticDiscriminantAnalysis)\n",
    "from sklearn.metrics import confusion_matrix, classification_report\n",
    "from sklearn.utils import shuffle\n",
    "from scipy import stats\n",
    "from statsmodels.stats.multicomp import (pairwise_tukeyhsd,\n",
    "                                         MultiComparison)\n",
    "from statsmodels.sandbox.stats.multicomp import TukeyHSDResults\n",
    "from sklearn.metrics import roc_curve\n",
    "from sklearn import preprocessing\n",
    "from sklearn.pipeline import Pipeline\n",
    "from sklearn.model_selection import StratifiedKFold, cross_val_score\n",
    "from sklearn.utils.class_weight import compute_class_weight\n",
    "from sklearn.metrics import roc_auc_score\n",
    "from sklearn.preprocessing import StandardScaler\n",
    "from sklearn.tree import DecisionTreeClassifier\n",
    "from sklearn.svm import SVC\n",
    "import random\n",
    "import warnings\n",
    "warnings.filterwarnings(\"ignore\", category=DeprecationWarning)\n",
    "\n"
   ]
  },
  {
   "cell_type": "markdown",
   "metadata": {},
   "source": [
    "## Cargamos dataset"
   ]
  },
  {
   "cell_type": "code",
   "execution_count": 187,
   "metadata": {},
   "outputs": [],
   "source": [
    "# Cargamos dataset Breast Cancer Wisconsin (Original)\n",
    "ds = pd.read_csv('./breast-cancer-wisconsin.data', usecols=[1,2,3,4,5,6,7,8,9,10], \n",
    "                 names=[0,1,2,3,4,5,6,7,8,9], header=None)"
   ]
  },
  {
   "cell_type": "code",
   "execution_count": 188,
   "metadata": {},
   "outputs": [],
   "source": [
    "output = 9\n",
    "# Transformamos la columna de clases a 0-1 (actualmente son 2,4)\n",
    "ds[output] = np.uint8(ds[output]/2-1)\n",
    "y = ds[output].values\n",
    "X = ds.drop(output,axis=1).values\n",
    "seed = 42\n",
    "random.seed(seed)\n",
    "np.random.seed(seed)"
   ]
  },
  {
   "cell_type": "markdown",
   "metadata": {},
   "source": [
    "## Preprocesado de datos"
   ]
  },
  {
   "cell_type": "markdown",
   "metadata": {},
   "source": [
    "**Comprobamos que no haya \"missing values\"**  \n",
    "Según https://archive.ics.uci.edu/ml/datasets, los Missing Values están etiquetados como '?'.  \n",
    "Eliminamos las filas con dicho valor."
   ]
  },
  {
   "cell_type": "code",
   "execution_count": 189,
   "metadata": {},
   "outputs": [],
   "source": [
    "rows = np.argwhere(X == '?')[:,0]\n",
    "X = np.delete(X,rows,0)\n",
    "y = np.delete(y,rows)\n",
    "X = X.astype(np.uint8)"
   ]
  },
  {
   "cell_type": "code",
   "execution_count": 190,
   "metadata": {
    "scrolled": true
   },
   "outputs": [
    {
     "data": {
      "text/plain": [
       "True"
      ]
     },
     "execution_count": 190,
     "metadata": {},
     "output_type": "execute_result"
    }
   ],
   "source": [
    "attr = []\n",
    "# Iteramos los atributos del dataset\n",
    "for i in ds.columns:\n",
    "    # Comprobamos los valores de cada atributo\n",
    "    attr.append(np.all(ds[i].notna()))\n",
    "# Ningún atributo tiene missing values:\n",
    "np.all(np.array(attr))"
   ]
  },
  {
   "cell_type": "markdown",
   "metadata": {},
   "source": [
    "**Comprobamos que no haya variables con \"near-zero variance\"**  \n",
    "Vemos que no hay ninguna."
   ]
  },
  {
   "cell_type": "code",
   "execution_count": 191,
   "metadata": {
    "scrolled": true
   },
   "outputs": [
    {
     "data": {
      "text/plain": [
       "Int64Index([], dtype='int64')"
      ]
     },
     "execution_count": 191,
     "metadata": {},
     "output_type": "execute_result"
    }
   ],
   "source": [
    "ds.columns.drop(output)[ds.std() < 0.001]"
   ]
  },
  {
   "cell_type": "markdown",
   "metadata": {},
   "source": [
    "**Comprobamos que no haya variables iguales**  \n",
    "Vemos que no hay ninguna."
   ]
  },
  {
   "cell_type": "code",
   "execution_count": 192,
   "metadata": {},
   "outputs": [],
   "source": [
    "resultados = np.zeros((len(ds.columns), len(ds.columns)))\n",
    "for i in range(len(ds.columns)):\n",
    "    for j in range(len(ds.columns)):\n",
    "        resultados[i, j] = np.mean(ds.iloc[:, i] == ds.iloc[:, j])"
   ]
  },
  {
   "cell_type": "code",
   "execution_count": 193,
   "metadata": {},
   "outputs": [],
   "source": [
    "iguales = []\n",
    "for i, j in it.combinations(range(len(ds.columns)), 2):\n",
    "    if round(resultados[i, j], 4) == 1:\n",
    "        iguales.append(ds.columns[i])\n",
    "        print(ds.columns[i], ds.columns[j])"
   ]
  },
  {
   "cell_type": "markdown",
   "metadata": {},
   "source": [
    "**Comprobamos que las clases no estén desbalanceadas**  \n",
    "Están un poco desbalanceadas."
   ]
  },
  {
   "cell_type": "code",
   "execution_count": 194,
   "metadata": {
    "scrolled": false
   },
   "outputs": [
    {
     "name": "stdout",
     "output_type": "stream",
     "text": [
      "Proporción clase 0:  0.6500732064421669\n",
      "Proporción clase 1:  0.34992679355783307\n"
     ]
    }
   ],
   "source": [
    "print('Proporción clase 0: ',np.mean(y==0))\n",
    "print('Proporción clase 1: ',np.mean(y==1))"
   ]
  },
  {
   "cell_type": "markdown",
   "metadata": {},
   "source": [
    "**Desordenamos los datos**"
   ]
  },
  {
   "cell_type": "code",
   "execution_count": 195,
   "metadata": {},
   "outputs": [],
   "source": [
    "X,y = shuffle(X,y)"
   ]
  },
  {
   "cell_type": "markdown",
   "metadata": {},
   "source": [
    "## Entrenamiento de Modelos"
   ]
  },
  {
   "cell_type": "markdown",
   "metadata": {},
   "source": [
    "**kFold - Decision Tree Classifier**"
   ]
  },
  {
   "cell_type": "code",
   "execution_count": 196,
   "metadata": {},
   "outputs": [],
   "source": [
    "kf = KFold(n_splits=10,shuffle=True)\n",
    "resultados_train = []\n",
    "resultados_valid = []\n",
    "model = []\n",
    "res_train = np.empty((30,0))\n",
    "res_valid = np.empty((30,0))\n",
    "test_indices = []\n",
    "etiquetas = ['DT Normal',\n",
    "             'DT Profundidad',\n",
    "             'DT Minimo de muestras por hoja',\n",
    "             'DT Minimo de muestras en subarbol',\n",
    "             'DT Minimo de impureza',\n",
    "             'LDA lsqr',\n",
    "             'LDA eigen',\n",
    "             'LDA svd',\n",
    "             'QDA']\n",
    "dicc = [{'max_depth': None, 'min_samples_leaf': 1, 'min_samples_split': 2, 'min_impurity_decrease': 0.0},\n",
    "        {'max_depth': 5,    'min_samples_leaf': 1, 'min_samples_split': 2, 'min_impurity_decrease': 0.0},\n",
    "        {'max_depth': None, 'min_samples_leaf': 3, 'min_samples_split': 2, 'min_impurity_decrease': 0.0},\n",
    "        {'max_depth': None, 'min_samples_leaf': 1, 'min_samples_split': 5, 'min_impurity_decrease': 0.0},\n",
    "        {'max_depth': None, 'min_samples_leaf': 1, 'min_samples_split': 2, 'min_impurity_decrease': 0.2}]\n",
    "\n",
    "for i in range(len(dicc)):\n",
    "    test_indices2 = []\n",
    "    for j in range(3):\n",
    "        for train_index, test_index in kf.split(X):\n",
    "    #         train_test_split del conjunto train y pillar 1/9 para validación\n",
    "            X_train, X_valid, y_train, y_valid = train_test_split(X[train_index],y[train_index],test_size=1/9)\n",
    "            test_indices2.append(test_index)\n",
    "    #         print('X_train: {}\\n, X_valid: {}\\n, X_test: {}'.format(X_train, X_valid, X_test))\n",
    "            alg = DecisionTreeClassifier(**dicc[i])\n",
    "            alg.fit(X_train, y_train)\n",
    "            model.append(alg)\n",
    "            resultados_train.append(alg.score(X_train, y_train))\n",
    "            resultados_valid.append(alg.score(X_valid, y_valid))\n",
    "    res_train = np.hstack((res_train, np.array(resultados_train,ndmin=2).T))\n",
    "    res_valid = np.hstack((res_valid, np.array(resultados_valid,ndmin=2).T))\n",
    "    resultados_train = []\n",
    "    resultados_valid = []\n",
    "    test_indices.append(test_indices2)\n",
    "\n",
    "    \n",
    "            "
   ]
  },
  {
   "cell_type": "markdown",
   "metadata": {},
   "source": [
    "**kFold - Linear Discriminant Analysis**"
   ]
  },
  {
   "cell_type": "code",
   "execution_count": 197,
   "metadata": {},
   "outputs": [],
   "source": [
    "for tipo in ('lsqr', 'eigen', 'svd'):\n",
    "    test_indices2 = []\n",
    "    for _ in range(3):\n",
    "        for train_index, test_index in kf.split(X):\n",
    "            X_train, X_valid, y_train, y_valid = train_test_split(X[train_index],y[train_index],test_size=1/9)\n",
    "            alg = LinearDiscriminantAnalysis(solver=tipo, shrinkage=None)\n",
    "            test_indices2.append(test_index)\n",
    "            alg.fit(X_train, y_train)\n",
    "            resultados_train.append(alg.score(X_train, y_train))\n",
    "            resultados_valid.append(alg.score(X_valid, y_valid))\n",
    "    res_train = np.hstack((res_train, np.array(resultados_train,ndmin=2).T))\n",
    "    res_valid = np.hstack((res_valid, np.array(resultados_valid,ndmin=2).T))\n",
    "    resultados_train = []\n",
    "    resultados_valid = []\n",
    "    test_indices.append(test_indices2)"
   ]
  },
  {
   "cell_type": "markdown",
   "metadata": {},
   "source": [
    "**kFold - Quadratic Discriminant Analysis**"
   ]
  },
  {
   "cell_type": "code",
   "execution_count": 198,
   "metadata": {},
   "outputs": [],
   "source": [
    "\n",
    "test_indices2 = []\n",
    "for _ in range(3):\n",
    "    for train_index, test_index in kf.split(X):\n",
    "        X_train, X_valid, y_train, y_valid = train_test_split(X[train_index],y[train_index],test_size=1/9)\n",
    "        test_indices2.append(test_index)\n",
    "        alg = QuadraticDiscriminantAnalysis()\n",
    "        alg.fit(X_train, y_train)\n",
    "        resultados_train.append(alg.score(X_train, y_train))\n",
    "        resultados_valid.append(alg.score(X_valid, y_valid))\n",
    "res_train = np.hstack((res_train, np.array(resultados_train,ndmin=2).T))\n",
    "res_valid = np.hstack((res_valid, np.array(resultados_valid,ndmin=2).T))\n",
    "resultados_train = []\n",
    "resultados_valid = []\n",
    "test_indices.append(test_indices2)\n"
   ]
  },
  {
   "cell_type": "markdown",
   "metadata": {},
   "source": [
    "**kFold - Support Vector Classification**"
   ]
  },
  {
   "cell_type": "code",
   "execution_count": 199,
   "metadata": {},
   "outputs": [],
   "source": [
    "# kf = KFold(n_splits=10,shuffle=True)\n",
    "# res_train = np.empty((30,0))\n",
    "# res_valid = np.empty((30,0))\n",
    "# test_indices = []\n",
    "etiquetas.extend(['SVM linear C1',\n",
    "             'SVM poly 2º C1',\n",
    "             'SVM poly 3º C1',\n",
    "             'SVM poly 4º C1',\n",
    "             'SVM rfb auto C1',\n",
    "             'SVM rfb 0.05 C1',\n",
    "             'SVM rfb 0.1 C1',\n",
    "             'SVM rfb 0.2 C1'])\n",
    "etiquetas.extend(['SVM linear C100',\n",
    "             'SVM poly 2º C100',\n",
    "             'SVM poly 3º C100',\n",
    "             'SVM poly 4º C100',\n",
    "             'SVM rfb auto C100',\n",
    "             'SVM rfb 0.05 C100',\n",
    "             'SVM rfb 0.1 C100',\n",
    "             'SVM rfb 0.2 C100'])\n",
    "etiquetas.extend(['SVM linear C1000',\n",
    "             'SVM poly 2º C1000',\n",
    "             'SVM poly 3º C1000',\n",
    "             'SVM poly 4º C1000',\n",
    "             'SVM rfb auto C1000',\n",
    "             'SVM rfb 0.05 C1000',\n",
    "             'SVM rfb 0.1 C1000',\n",
    "             'SVM rfb 0.2 C1000'])\n",
    "dicc = [{'C': 1.0, 'kernel': 'linear', 'degree': 2, 'gamma': 'auto'},\n",
    "        {'C': 1.0, 'kernel': 'poly', 'degree': 2, 'gamma': 'auto'},\n",
    "        {'C': 1.0, 'kernel': 'poly', 'degree': 3, 'gamma': 'auto'},\n",
    "        {'C': 1.0, 'kernel': 'poly', 'degree': 4, 'gamma': 'auto'},\n",
    "        {'C': 1.0, 'kernel': 'rbf', 'degree': 2, 'gamma': 'auto'},\n",
    "        {'C': 1.0, 'kernel': 'rbf', 'degree': 2, 'gamma': 0.05},\n",
    "        {'C': 1.0, 'kernel': 'rbf', 'degree': 2, 'gamma': 0.1},\n",
    "        {'C': 1.0, 'kernel': 'rbf', 'degree': 2, 'gamma': 0.2},\n",
    "        {'C': 100.0, 'kernel': 'linear', 'degree': 2, 'gamma': 'auto'},\n",
    "        {'C': 100.0, 'kernel': 'poly', 'degree': 2, 'gamma': 'auto'},\n",
    "        {'C': 100.0, 'kernel': 'poly', 'degree': 3, 'gamma': 'auto'},\n",
    "        {'C': 100.0, 'kernel': 'poly', 'degree': 4, 'gamma': 'auto'},\n",
    "        {'C': 100.0, 'kernel': 'rbf', 'degree': 2, 'gamma': 'auto'},\n",
    "        {'C': 100.0, 'kernel': 'rbf', 'degree': 2, 'gamma': 0.05},\n",
    "        {'C': 100.0, 'kernel': 'rbf', 'degree': 2, 'gamma': 0.1},\n",
    "        {'C': 100.0, 'kernel': 'rbf', 'degree': 2, 'gamma': 0.2},\n",
    "        {'C': 1000.0, 'kernel': 'linear', 'degree': 2, 'gamma': 'auto'},\n",
    "        {'C': 1000.0, 'kernel': 'poly', 'degree': 2, 'gamma': 'auto'},\n",
    "        {'C': 1000.0, 'kernel': 'poly', 'degree': 3, 'gamma': 'auto'},\n",
    "        {'C': 1000.0, 'kernel': 'poly', 'degree': 4, 'gamma': 'auto'},\n",
    "        {'C': 1000.0, 'kernel': 'rbf', 'degree': 2, 'gamma': 'auto'},\n",
    "        {'C': 1000.0, 'kernel': 'rbf', 'degree': 2, 'gamma': 0.05},\n",
    "        {'C': 1000.0, 'kernel': 'rbf', 'degree': 2, 'gamma': 0.1},\n",
    "        {'C': 1000.0, 'kernel': 'rbf', 'degree': 2, 'gamma': 0.2}]\n",
    "\n",
    "for i in range(len(dicc)):\n",
    "    test_indices2 = []\n",
    "    for j in range(3):\n",
    "        for train_index, test_index in kf.split(X):\n",
    "    #         train_test_split del conjunto train y pillar 1/9 para validación\n",
    "            X_train, X_valid, y_train, y_valid = train_test_split(X[train_index],y[train_index],test_size=1/9)\n",
    "            test_indices2.append(test_index)\n",
    "    #         print('X_train: {}\\n, X_valid: {}\\n, X_test: {}'.format(X_train, X_valid, X_test))\n",
    "            alg = SVC(**dicc[i])\n",
    "            alg.fit(X_train, y_train)\n",
    "            model.append(alg)\n",
    "            resultados_train.append(alg.score(X_train, y_train))\n",
    "            resultados_valid.append(alg.score(X_valid, y_valid))\n",
    "    res_train = np.hstack((res_train, np.array(resultados_train,ndmin=2).T))\n",
    "    res_valid = np.hstack((res_valid, np.array(resultados_valid,ndmin=2).T))\n",
    "    resultados_train = []\n",
    "    resultados_valid = []\n",
    "    test_indices.append(test_indices2)"
   ]
  },
  {
   "cell_type": "markdown",
   "metadata": {},
   "source": [
    "**Test de normalidad**  \n",
    "Rechazamos normalidad, podriamos asumir normalidad en alguno de ellos pero como en algunos no, realizamos el test no paramétrico de Kruskal-Wallis en lugar de un Anova "
   ]
  },
  {
   "cell_type": "code",
   "execution_count": 200,
   "metadata": {},
   "outputs": [
    {
     "data": {
      "text/plain": [
       "array([8.53491798e-02, 1.96003079e-01, 8.02860111e-02, 2.97894359e-01,\n",
       "       7.17464626e-01, 3.61306896e-03, 5.14273066e-04, 1.15977705e-01,\n",
       "       1.65745944e-01, 2.23817639e-02, 4.16895635e-02, 1.16042599e-01,\n",
       "       1.59264505e-01, 2.95169763e-02, 1.87424961e-02, 3.78326252e-02,\n",
       "       1.60980016e-01, 1.29251638e-02, 2.48236835e-01, 2.52142102e-01,\n",
       "       1.17922083e-01, 1.78050295e-01, 1.54845035e-02, 8.15578364e-03,\n",
       "       9.32917148e-02, 2.49839062e-03, 4.52430220e-03, 5.98724127e-01,\n",
       "       2.97513962e-01, 7.22023193e-03, 1.57393795e-02, 5.55503033e-02,\n",
       "       8.03606138e-02])"
      ]
     },
     "execution_count": 200,
     "metadata": {},
     "output_type": "execute_result"
    }
   ],
   "source": [
    "np.apply_along_axis(lambda x: stats.shapiro(x)[1], axis=0, arr=res_valid)\n"
   ]
  },
  {
   "cell_type": "markdown",
   "metadata": {},
   "source": [
    "**Test de Kruskal-Wallis**  \n",
    "Rechazamos que las precisiones sean similares"
   ]
  },
  {
   "cell_type": "code",
   "execution_count": 201,
   "metadata": {
    "scrolled": false
   },
   "outputs": [
    {
     "name": "stdout",
     "output_type": "stream",
     "text": [
      "KruskalResult(statistic=266.4624743015203, pvalue=8.758240139684885e-39)\n"
     ]
    }
   ],
   "source": [
    "print(stats.kruskal(*zip(*list(res_valid))))"
   ]
  },
  {
   "cell_type": "code",
   "execution_count": 202,
   "metadata": {},
   "outputs": [],
   "source": [
    "labels = [etiquetas[i] for i in range(res_valid.shape[1]) for _ in range(res_valid.shape[0])]\n",
    "arr_valid = res_valid.flatten('F')\n",
    "resultados = pairwise_tukeyhsd(arr_valid,labels)\n",
    "# resultados.summary()"
   ]
  },
  {
   "cell_type": "code",
   "execution_count": 203,
   "metadata": {},
   "outputs": [],
   "source": [
    "#seleccionamos el que tiene mejor media y vemos en el anterior cuales son iguales\n",
    "best_group = np.argmax(np.mean(res_valid, axis = 0))\n",
    "best_group = etiquetas[int(best_group)]"
   ]
  },
  {
   "cell_type": "code",
   "execution_count": 204,
   "metadata": {},
   "outputs": [
    {
     "name": "stdout",
     "output_type": "stream",
     "text": [
      "Figure(720x432)\n"
     ]
    },
    {
     "data": {
      "image/png": "[encoded data removed]",
      "text/plain": [
       "<Figure size 720x432 with 1 Axes>"
      ]
     },
     "metadata": {
      "needs_background": "light"
     },
     "output_type": "display_data"
    }
   ],
   "source": [
    "print(resultados.plot_simultaneous(comparison_name=best_group))"
   ]
  },
  {
   "cell_type": "code",
   "execution_count": 205,
   "metadata": {},
   "outputs": [],
   "source": [
    "resultados = resultados._results_table.data"
   ]
  },
  {
   "cell_type": "code",
   "execution_count": 206,
   "metadata": {},
   "outputs": [
    {
     "data": {
      "text/plain": [
       "['LDA eigen',\n",
       " 'LDA lsqr',\n",
       " 'LDA svd',\n",
       " 'QDA',\n",
       " 'SVM linear C1',\n",
       " 'SVM linear C100',\n",
       " 'SVM linear C1000',\n",
       " 'SVM rfb 0.05 C1',\n",
       " 'SVM rfb 0.05 C1000',\n",
       " 'SVM rfb 0.1 C1',\n",
       " 'SVM rfb 0.1 C100',\n",
       " 'SVM rfb 0.1 C1000',\n",
       " 'SVM rfb 0.2 C1000',\n",
       " 'SVM rfb auto C1',\n",
       " 'SVM rfb auto C100',\n",
       " 'SVM rfb auto C1000']"
      ]
     },
     "execution_count": 206,
     "metadata": {},
     "output_type": "execute_result"
    }
   ],
   "source": [
    "group1 = resultados[0].index('group1')\n",
    "group2 = resultados[0].index('group2')\n",
    "reject = resultados[0].index('reject')\n",
    "best_groups = []\n",
    "for row in resultados[1:]:\n",
    "    if (row[group1] == str(best_group) or row[group2] == str(best_group)) and not row[reject]:\n",
    "        best_groups.append(row[group1])\n",
    "        best_groups.append(row[group2])\n",
    "best_groups = set(best_groups)\n",
    "sorted(best_groups)"
   ]
  },
  {
   "cell_type": "markdown",
   "metadata": {},
   "source": [
    "**Nos quedamos con el más sencillo**  \n",
    "El cual asumimos que es el Lineal Discriminant Analysis con lsqr (Minimos cuadrados)"
   ]
  },
  {
   "cell_type": "code",
   "execution_count": 207,
   "metadata": {},
   "outputs": [],
   "source": [
    "def performance_indexes(CM, PositiveClass):\n",
    "    classNum = len(CM)\n",
    "    TP = CM[PositiveClass, PositiveClass]\n",
    "    TN = 0\n",
    "    FP = 0\n",
    "    FN = 0\n",
    "    for real in range(classNum):\n",
    "        for predicted in range(classNum):\n",
    "            if (real != PositiveClass and predicted != PositiveClass):\n",
    "                TN += CM[real, predicted]\n",
    "            if (real != PositiveClass and predicted == PositiveClass):\n",
    "                FP += CM[real, predicted]\n",
    "            if (real == PositiveClass and predicted != PositiveClass):\n",
    "                FN += CM[real, predicted]\n",
    "    Sens = TP/(TP+FN)\n",
    "    Spec = TN/(TN+FP)\n",
    "    PPV = TP/(TP+FP)\n",
    "    NPV = TN/(TN+FN)\n",
    "    ACC = (TP+TN)/(TP+TN+FP+FN)\n",
    "    return Sens,Spec,PPV,NPV,ACC"
   ]
  },
  {
   "cell_type": "code",
   "execution_count": 208,
   "metadata": {},
   "outputs": [
    {
     "name": "stdout",
     "output_type": "stream",
     "text": [
      "Sens: 0.92, Spec: 0.98, PPV: 0.97, NPV: 0.96, ACC: 0.96\n"
     ]
    }
   ],
   "source": [
    "# Escogemos el modelo más simple de entre los mejores\n",
    "simple = etiquetas.index('LDA svd')\n",
    "tipo = 'svd'\n",
    "Sens_l = []\n",
    "Spec_l = []\n",
    "PPV_l = []\n",
    "NPV_l = []\n",
    "ACC_l = []\n",
    "for test_index in test_indices[simple]:\n",
    "    train_index = np.ones(y.shape, dtype=bool)\n",
    "    train_index[test_index] = False\n",
    "    X_test, y_test = X[test_index], y[test_index]\n",
    "    X_train, y_train = X[train_index], y[train_index]\n",
    "    alg = LinearDiscriminantAnalysis(solver=tipo, shrinkage=None)\n",
    "    alg.fit(X_train, y_train)\n",
    "    y_pred = alg.predict(X_test)\n",
    "    CM = confusion_matrix(y_test, y_pred)\n",
    "    Sens,Spec,PPV,NPV,ACC = performance_indexes(CM,1)\n",
    "    Sens_l.append(Sens)\n",
    "    Spec_l.append(Spec)\n",
    "    PPV_l.append(PPV)\n",
    "    NPV_l.append(NPV)\n",
    "    ACC_l.append(ACC)\n",
    "print(('Sens: {:.2f}, Spec: {:.2f}, ' +\n",
    "       'PPV: {:.2f}, NPV: {:.2f}, ACC: {:.2f}').format(np.mean(Sens_l),\n",
    "                                                       np.mean(Spec_l),\n",
    "                                                       np.mean(PPV_l),\n",
    "                                                       np.mean(NPV_l),\n",
    "                                                       np.mean(ACC_l)))\n"
   ]
  },
  {
   "cell_type": "markdown",
   "metadata": {},
   "source": [
    "**----------------------------------------------------------------------------------------------------------------------------**"
   ]
  },
  {
   "cell_type": "code",
   "execution_count": 209,
   "metadata": {},
   "outputs": [
    {
     "name": "stdout",
     "output_type": "stream",
     "text": [
      "DT Normal: 0.95 +- 0.02\n",
      "DT Profundidad: 0.95 +- 0.03\n",
      "DT Minimo de muestras por hoja: 0.95 +- 0.03\n",
      "DT Minimo de muestras en subarbol: 0.95 +- 0.03\n",
      "DT Minimo de impureza: 0.91 +- 0.03\n",
      "LDA lsqr: 0.96 +- 0.03\n",
      "LDA eigen: 0.96 +- 0.02\n",
      "LDA svd: 0.96 +- 0.02\n",
      "QDA: 0.95 +- 0.02\n",
      "SVM linear C1: 0.97 +- 0.02\n",
      "SVM poly 2º C1: 0.95 +- 0.02\n",
      "SVM poly 3º C1: 0.94 +- 0.03\n",
      "SVM poly 4º C1: 0.93 +- 0.03\n",
      "SVM rfb auto C1: 0.97 +- 0.02\n",
      "SVM rfb 0.05 C1: 0.97 +- 0.02\n",
      "SVM rfb 0.1 C1: 0.96 +- 0.02\n",
      "SVM rfb 0.2 C1: 0.94 +- 0.03\n",
      "SVM linear C100: 0.98 +- 0.02\n",
      "SVM poly 2º C100: 0.93 +- 0.03\n",
      "SVM poly 3º C100: 0.94 +- 0.03\n",
      "SVM poly 4º C100: 0.93 +- 0.02\n",
      "SVM rfb auto C100: 0.95 +- 0.02\n",
      "SVM rfb 0.05 C100: 0.95 +- 0.03\n",
      "SVM rfb 0.1 C100: 0.97 +- 0.02\n",
      "SVM rfb 0.2 C100: 0.95 +- 0.02\n",
      "SVM linear C1000: 0.97 +- 0.02\n",
      "SVM poly 2º C1000: 0.93 +- 0.02\n",
      "SVM poly 3º C1000: 0.94 +- 0.03\n",
      "SVM poly 4º C1000: 0.93 +- 0.03\n",
      "SVM rfb auto C1000: 0.97 +- 0.02\n",
      "SVM rfb 0.05 C1000: 0.96 +- 0.02\n",
      "SVM rfb 0.1 C1000: 0.96 +- 0.02\n",
      "SVM rfb 0.2 C1000: 0.96 +- 0.03\n"
     ]
    }
   ],
   "source": [
    "for ind, tag in enumerate(etiquetas):\n",
    "    mean_val = np.mean(res_valid[:,ind])\n",
    "    std_val = np.std(res_valid[:,ind])\n",
    "    print('{}: {:.2f} +- {:.2f}'.format(tag, mean_val, std_val))"
   ]
  },
  {
   "cell_type": "markdown",
   "metadata": {},
   "source": [
    "## Persistencia"
   ]
  },
  {
   "cell_type": "code",
   "execution_count": 210,
   "metadata": {},
   "outputs": [],
   "source": [
    "# with open('RForest_Zika_oversampled.bin','wb') as file:\n",
    "#     pickle.dump(alg_o, file)\n",
    "# with open('RForest_Zika_undersampled.bin','wb') as file:\n",
    "#     pickle.dump(alg_u, file)"
   ]
  },
  {
   "cell_type": "markdown",
   "metadata": {},
   "source": [
    "## FIN"
   ]
  }
 ],
 "metadata": {
  "kernelspec": {
   "display_name": "Python 3",
   "language": "python",
   "name": "python3"
  },
  "language_info": {
   "codemirror_mode": {
    "name": "ipython",
    "version": 3
   },
   "file_extension": ".py",
   "mimetype": "text/x-python",
   "name": "python",
   "nbconvert_exporter": "python",
   "pygments_lexer": "ipython3",
   "version": "3.7.1"
  }
 },
 "nbformat": 4,
 "nbformat_minor": 2
}
