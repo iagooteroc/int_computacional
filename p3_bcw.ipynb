{
 "cells": [
  {
   "cell_type": "code",
   "execution_count": 1,
   "metadata": {},
   "outputs": [],
   "source": [
    "import pandas as pd\n",
    "import os\n",
    "from sklearn import datasets\n",
    "import numpy as np\n",
    "import matplotlib.pyplot as plt\n",
    "import itertools as it\n",
    "from sklearn.neighbors import LocalOutlierFactor\n",
    "from sklearn.model_selection import train_test_split, GridSearchCV, KFold\n",
    "from sklearn.discriminant_analysis import (LinearDiscriminantAnalysis,\n",
    "                                           QuadraticDiscriminantAnalysis)\n",
    "from sklearn.metrics import confusion_matrix, classification_report\n",
    "from sklearn.utils import shuffle\n",
    "from scipy import stats\n",
    "from statsmodels.stats.multicomp import (pairwise_tukeyhsd,\n",
    "                                         MultiComparison)\n",
    "from statsmodels.sandbox.stats.multicomp import TukeyHSDResults\n",
    "from sklearn.metrics import roc_curve\n",
    "from sklearn import preprocessing\n",
    "from sklearn.pipeline import Pipeline\n",
    "from sklearn.model_selection import StratifiedKFold, cross_val_score\n",
    "from sklearn.utils.class_weight import compute_class_weight\n",
    "from sklearn.metrics import roc_auc_score\n",
    "from sklearn.preprocessing import StandardScaler\n",
    "from sklearn.tree import DecisionTreeClassifier\n",
    "from sklearn.svm import SVC\n",
    "import pickle\n",
    "import random\n",
    "import warnings\n",
    "warnings.filterwarnings(\"ignore\", category=DeprecationWarning)\n",
    "\n"
   ]
  },
  {
   "cell_type": "markdown",
   "metadata": {},
   "source": [
    "## Cargamos dataset"
   ]
  },
  {
   "cell_type": "code",
   "execution_count": 2,
   "metadata": {},
   "outputs": [],
   "source": [
    "# Cargamos dataset Breast Cancer Wisconsin (Original)\n",
    "ds = pd.read_csv('./breast-cancer-wisconsin.data', usecols=[1,2,3,4,5,6,7,8,9,10], \n",
    "                 names=[0,1,2,3,4,5,6,7,8,9], header=None)"
   ]
  },
  {
   "cell_type": "code",
   "execution_count": 3,
   "metadata": {},
   "outputs": [],
   "source": [
    "output = 9\n",
    "# Transformamos la columna de clases a 0-1 (actualmente son 2,4)\n",
    "ds[output] = np.uint8(ds[output]/2-1)\n",
    "y = ds[output].values\n",
    "X = ds.drop(output,axis=1).values\n",
    "seed = 42\n",
    "random.seed(seed)\n",
    "np.random.seed(seed)"
   ]
  },
  {
   "cell_type": "markdown",
   "metadata": {},
   "source": [
    "## Preprocesado de datos"
   ]
  },
  {
   "cell_type": "markdown",
   "metadata": {},
   "source": [
    "**Comprobamos que no haya \"missing values\"**  \n",
    "Según https://archive.ics.uci.edu/ml/datasets, los Missing Values están etiquetados como '?'.  \n",
    "Eliminamos las filas con dicho valor."
   ]
  },
  {
   "cell_type": "code",
   "execution_count": 4,
   "metadata": {},
   "outputs": [],
   "source": [
    "rows = np.argwhere(X == '?')[:,0]\n",
    "X = np.delete(X,rows,0)\n",
    "y = np.delete(y,rows)\n",
    "X = X.astype(np.uint8)"
   ]
  },
  {
   "cell_type": "code",
   "execution_count": 5,
   "metadata": {
    "scrolled": true
   },
   "outputs": [
    {
     "data": {
      "text/plain": [
       "True"
      ]
     },
     "execution_count": 5,
     "metadata": {},
     "output_type": "execute_result"
    }
   ],
   "source": [
    "attr = []\n",
    "# Iteramos los atributos del dataset\n",
    "for i in ds.columns:\n",
    "    # Comprobamos los valores de cada atributo\n",
    "    attr.append(np.all(ds[i].notna()))\n",
    "# Ningún atributo tiene missing values:\n",
    "np.all(np.array(attr))"
   ]
  },
  {
   "cell_type": "markdown",
   "metadata": {},
   "source": [
    "**Comprobamos que no haya variables con \"near-zero variance\"**  \n",
    "Vemos que no hay ninguna."
   ]
  },
  {
   "cell_type": "code",
   "execution_count": 6,
   "metadata": {
    "scrolled": true
   },
   "outputs": [
    {
     "data": {
      "text/plain": [
       "Int64Index([], dtype='int64')"
      ]
     },
     "execution_count": 6,
     "metadata": {},
     "output_type": "execute_result"
    }
   ],
   "source": [
    "ds.columns.drop(output)[ds.std() < 0.001]"
   ]
  },
  {
   "cell_type": "markdown",
   "metadata": {},
   "source": [
    "**Comprobamos que no haya variables iguales**  \n",
    "Vemos que no hay ninguna."
   ]
  },
  {
   "cell_type": "code",
   "execution_count": 7,
   "metadata": {},
   "outputs": [],
   "source": [
    "resultados = np.zeros((len(ds.columns), len(ds.columns)))\n",
    "for i in range(len(ds.columns)):\n",
    "    for j in range(len(ds.columns)):\n",
    "        resultados[i, j] = np.mean(ds.iloc[:, i] == ds.iloc[:, j])"
   ]
  },
  {
   "cell_type": "code",
   "execution_count": 8,
   "metadata": {},
   "outputs": [],
   "source": [
    "iguales = []\n",
    "for i, j in it.combinations(range(len(ds.columns)), 2):\n",
    "    if round(resultados[i, j], 4) == 1:\n",
    "        iguales.append(ds.columns[i])\n",
    "        print(ds.columns[i], ds.columns[j])"
   ]
  },
  {
   "cell_type": "markdown",
   "metadata": {},
   "source": [
    "**Comprobamos que las clases no estén desbalanceadas**  \n",
    "Están un poco desbalanceadas."
   ]
  },
  {
   "cell_type": "code",
   "execution_count": 9,
   "metadata": {
    "scrolled": false
   },
   "outputs": [
    {
     "name": "stdout",
     "output_type": "stream",
     "text": [
      "Proporción clase 0:  0.6500732064421669\n",
      "Proporción clase 1:  0.34992679355783307\n"
     ]
    }
   ],
   "source": [
    "print('Proporción clase 0: ',np.mean(y==0))\n",
    "print('Proporción clase 1: ',np.mean(y==1))"
   ]
  },
  {
   "cell_type": "markdown",
   "metadata": {},
   "source": [
    "**Estandarizamos los datos**"
   ]
  },
  {
   "cell_type": "code",
   "execution_count": 13,
   "metadata": {},
   "outputs": [],
   "source": [
    "X = (X - np.mean(X)) / np.std(X)"
   ]
  },
  {
   "cell_type": "markdown",
   "metadata": {},
   "source": [
    "**Desordenamos los datos**"
   ]
  },
  {
   "cell_type": "code",
   "execution_count": 16,
   "metadata": {},
   "outputs": [],
   "source": [
    "X,y = shuffle(X,y)"
   ]
  },
  {
   "cell_type": "markdown",
   "metadata": {},
   "source": [
    "## Entrenamiento de Modelos"
   ]
  },
  {
   "cell_type": "markdown",
   "metadata": {},
   "source": [
    "**kFold - Decision Tree Classifier**"
   ]
  },
  {
   "cell_type": "code",
   "execution_count": 23,
   "metadata": {},
   "outputs": [
    {
     "name": "stdout",
     "output_type": "stream",
     "text": [
      "Wall time: 221 ms\n"
     ]
    }
   ],
   "source": [
    "%%time\n",
    "kf = KFold(n_splits=10,shuffle=True)\n",
    "resultados_train = []\n",
    "resultados_test = []\n",
    "model = []\n",
    "res_train = np.empty((30,0))\n",
    "res_test = np.empty((30,0))\n",
    "train_indices = []\n",
    "test_indices = []\n",
    "etiquetas = ['DT Normal',\n",
    "             'DT Profundidad',\n",
    "             'DT Minimo de muestras por hoja',\n",
    "             'DT Minimo de muestras en subarbol',\n",
    "             'DT Minimo de impureza',\n",
    "             'LDA lsqr',\n",
    "             'LDA eigen',\n",
    "             'LDA svd',\n",
    "             'QDA']\n",
    "dicc = [{'max_depth': None, 'min_samples_leaf': 1, 'min_samples_split': 2, 'min_impurity_decrease': 0.0},\n",
    "        {'max_depth': 5,    'min_samples_leaf': 1, 'min_samples_split': 2, 'min_impurity_decrease': 0.0},\n",
    "        {'max_depth': None, 'min_samples_leaf': 3, 'min_samples_split': 2, 'min_impurity_decrease': 0.0},\n",
    "        {'max_depth': None, 'min_samples_leaf': 1, 'min_samples_split': 5, 'min_impurity_decrease': 0.0},\n",
    "        {'max_depth': None, 'min_samples_leaf': 1, 'min_samples_split': 2, 'min_impurity_decrease': 0.2}]\n",
    "\n",
    "for i in range(len(dicc)):\n",
    "    train_indices2 = []\n",
    "    test_indices2 = []\n",
    "    for j in range(3):\n",
    "        for train_index, test_index in kf.split(X):\n",
    "            X_train, X_test, y_train, y_test = X[train_index],X[test_index],y[train_index],y[test_index]\n",
    "            train_indices2.append(train_index)\n",
    "            test_indices2.append(test_index)\n",
    "            alg = DecisionTreeClassifier(**dicc[i])\n",
    "            alg.fit(X_train, y_train)\n",
    "            model.append(alg)\n",
    "            resultados_train.append(alg.score(X_train, y_train))\n",
    "            resultados_test.append(alg.score(X_test, y_test))\n",
    "    res_train = np.hstack((res_train, np.array(resultados_train,ndmin=2).T))\n",
    "    res_test = np.hstack((res_test, np.array(resultados_test,ndmin=2).T))\n",
    "    resultados_train = []\n",
    "    resultados_test = []\n",
    "    train_indices.append(train_indices2)\n",
    "    test_indices.append(test_indices2)"
   ]
  },
  {
   "cell_type": "markdown",
   "metadata": {},
   "source": [
    "**kFold - Linear Discriminant Analysis**"
   ]
  },
  {
   "cell_type": "code",
   "execution_count": 24,
   "metadata": {},
   "outputs": [
    {
     "name": "stdout",
     "output_type": "stream",
     "text": [
      "Wall time: 1.11 s\n"
     ]
    }
   ],
   "source": [
    "%%time\n",
    "for tipo in ('lsqr', 'eigen', 'svd'):\n",
    "    train_indices2 = []\n",
    "    test_indices2 = []\n",
    "    for _ in range(3):\n",
    "        for train_index, test_index in kf.split(X):\n",
    "            X_train, X_test, y_train, y_test = X[train_index],X[test_index],y[train_index],y[test_index]\n",
    "            alg = LinearDiscriminantAnalysis(solver=tipo, shrinkage=None)\n",
    "            train_indices2.append(train_index)\n",
    "            test_indices2.append(test_index)\n",
    "            alg.fit(X_train, y_train)\n",
    "            resultados_train.append(alg.score(X_train, y_train))\n",
    "            resultados_test.append(alg.score(X_test, y_test))\n",
    "    res_train = np.hstack((res_train, np.array(resultados_train,ndmin=2).T))\n",
    "    res_test = np.hstack((res_test, np.array(resultados_test,ndmin=2).T))\n",
    "    resultados_train = []\n",
    "    resultados_test = []\n",
    "    train_indices.append(train_indices2)\n",
    "    test_indices.append(test_indices2)"
   ]
  },
  {
   "cell_type": "markdown",
   "metadata": {},
   "source": [
    "**kFold - Quadratic Discriminant Analysis**"
   ]
  },
  {
   "cell_type": "code",
   "execution_count": 25,
   "metadata": {},
   "outputs": [
    {
     "name": "stdout",
     "output_type": "stream",
     "text": [
      "Wall time: 292 ms\n"
     ]
    }
   ],
   "source": [
    "%%time\n",
    "train_indices2 = []\n",
    "test_indices2 = []\n",
    "for _ in range(3):\n",
    "    for train_index, test_index in kf.split(X):\n",
    "        X_train, X_test, y_train, y_test = X[train_index],X[test_index],y[train_index],y[test_index]\n",
    "        train_indices2.append(train_index)\n",
    "        test_indices2.append(test_index)\n",
    "        alg = QuadraticDiscriminantAnalysis()\n",
    "        alg.fit(X_train, y_train)\n",
    "        resultados_train.append(alg.score(X_train, y_train))\n",
    "        resultados_test.append(alg.score(X_test, y_test))\n",
    "res_train = np.hstack((res_train, np.array(resultados_train,ndmin=2).T))\n",
    "res_test = np.hstack((res_test, np.array(resultados_test,ndmin=2).T))\n",
    "resultados_train = []\n",
    "resultados_test = []\n",
    "train_indices.append(train_indices2)\n",
    "test_indices.append(test_indices2)"
   ]
  },
  {
   "cell_type": "markdown",
   "metadata": {},
   "source": [
    "**kFold - Support Vector Classification**"
   ]
  },
  {
   "cell_type": "code",
   "execution_count": 26,
   "metadata": {},
   "outputs": [
    {
     "name": "stdout",
     "output_type": "stream",
     "text": [
      "Wall time: 16.1 s\n"
     ]
    }
   ],
   "source": [
    "%%time\n",
    "etiquetas.extend(['SVM linear C1',\n",
    "             'SVM poly 2º C1',\n",
    "             'SVM poly 3º C1',\n",
    "             'SVM poly 4º C1',\n",
    "             'SVM rfb auto C1',\n",
    "             'SVM rfb 0.05 C1',\n",
    "             'SVM rfb 0.1 C1',\n",
    "             'SVM rfb 0.2 C1'])\n",
    "etiquetas.extend(['SVM linear C100',\n",
    "             'SVM poly 2º C100',\n",
    "             'SVM poly 3º C100',\n",
    "             'SVM poly 4º C100',\n",
    "             'SVM rfb auto C100',\n",
    "             'SVM rfb 0.05 C100',\n",
    "             'SVM rfb 0.1 C100',\n",
    "             'SVM rfb 0.2 C100'])\n",
    "etiquetas.extend(['SVM linear C1000',\n",
    "             'SVM poly 2º C1000',\n",
    "             'SVM poly 3º C1000',\n",
    "             'SVM poly 4º C1000',\n",
    "             'SVM rfb auto C1000',\n",
    "             'SVM rfb 0.05 C1000',\n",
    "             'SVM rfb 0.1 C1000',\n",
    "             'SVM rfb 0.2 C1000'])\n",
    "dicc = [{'C': 1.0, 'kernel': 'linear', 'degree': 2, 'gamma': 'auto'},\n",
    "        {'C': 1.0, 'kernel': 'poly', 'degree': 2, 'gamma': 'auto'},\n",
    "        {'C': 1.0, 'kernel': 'poly', 'degree': 3, 'gamma': 'auto'},\n",
    "        {'C': 1.0, 'kernel': 'poly', 'degree': 4, 'gamma': 'auto'},\n",
    "        {'C': 1.0, 'kernel': 'rbf', 'degree': 2, 'gamma': 'auto'},\n",
    "        {'C': 1.0, 'kernel': 'rbf', 'degree': 2, 'gamma': 0.05},\n",
    "        {'C': 1.0, 'kernel': 'rbf', 'degree': 2, 'gamma': 0.1},\n",
    "        {'C': 1.0, 'kernel': 'rbf', 'degree': 2, 'gamma': 0.2},\n",
    "        {'C': 100.0, 'kernel': 'linear', 'degree': 2, 'gamma': 'auto'},\n",
    "        {'C': 100.0, 'kernel': 'poly', 'degree': 2, 'gamma': 'auto'},\n",
    "        {'C': 100.0, 'kernel': 'poly', 'degree': 3, 'gamma': 'auto'},\n",
    "        {'C': 100.0, 'kernel': 'poly', 'degree': 4, 'gamma': 'auto'},\n",
    "        {'C': 100.0, 'kernel': 'rbf', 'degree': 2, 'gamma': 'auto'},\n",
    "        {'C': 100.0, 'kernel': 'rbf', 'degree': 2, 'gamma': 0.05},\n",
    "        {'C': 100.0, 'kernel': 'rbf', 'degree': 2, 'gamma': 0.1},\n",
    "        {'C': 100.0, 'kernel': 'rbf', 'degree': 2, 'gamma': 0.2},\n",
    "        {'C': 1000.0, 'kernel': 'linear', 'degree': 2, 'gamma': 'auto'},\n",
    "        {'C': 1000.0, 'kernel': 'poly', 'degree': 2, 'gamma': 'auto'},\n",
    "        {'C': 1000.0, 'kernel': 'poly', 'degree': 3, 'gamma': 'auto'},\n",
    "        {'C': 1000.0, 'kernel': 'poly', 'degree': 4, 'gamma': 'auto'},\n",
    "        {'C': 1000.0, 'kernel': 'rbf', 'degree': 2, 'gamma': 'auto'},\n",
    "        {'C': 1000.0, 'kernel': 'rbf', 'degree': 2, 'gamma': 0.05},\n",
    "        {'C': 1000.0, 'kernel': 'rbf', 'degree': 2, 'gamma': 0.1},\n",
    "        {'C': 1000.0, 'kernel': 'rbf', 'degree': 2, 'gamma': 0.2}]\n",
    "\n",
    "for i in range(len(dicc)):\n",
    "    train_indices2 = []\n",
    "    test_indices2 = []\n",
    "    for j in range(3):\n",
    "        for train_index, test_index in kf.split(X):\n",
    "            X_train, X_test, y_train, y_test = X[train_index],X[test_index],y[train_index],y[test_index]\n",
    "            train_indices2.append(train_index)\n",
    "            test_indices2.append(test_index)\n",
    "            alg = SVC(**dicc[i])\n",
    "            alg.fit(X_train, y_train)\n",
    "            model.append(alg)\n",
    "            resultados_train.append(alg.score(X_train, y_train))\n",
    "            resultados_test.append(alg.score(X_test, y_test))\n",
    "    res_train = np.hstack((res_train, np.array(resultados_train,ndmin=2).T))\n",
    "    res_test = np.hstack((res_test, np.array(resultados_test,ndmin=2).T))\n",
    "    resultados_train = []\n",
    "    resultados_test = []\n",
    "    train_indices.append(train_indices2)\n",
    "    test_indices.append(test_indices2)"
   ]
  },
  {
   "cell_type": "markdown",
   "metadata": {},
   "source": [
    "**kFold - Multi-layer Perceptron Classifier**"
   ]
  },
  {
   "cell_type": "code",
   "execution_count": null,
   "metadata": {},
   "outputs": [],
   "source": [
    "%%time\n",
    "etiquetas.extend(['MLPR sgd 10 relu',\n",
    "             'MLPR sgd 30 relu',\n",
    "             'MLPR sgd 50 relu',\n",
    "             'MLPR adam 10 relu',\n",
    "             'MLPR adam 30 relu',\n",
    "             'MLPR adam 50 relu'])\n",
    "etiquetas.extend(['MLPR sgd 10 tanh',\n",
    "             'MLPR sgd 30 tanh',\n",
    "             'MLPR sgd 50 tanh',\n",
    "             'MLPR adam 10 tanh',\n",
    "             'MLPR adam 30 tanh',\n",
    "             'MLPR adam 50 tanh'])\n",
    "dicc = [{'hidden_layer_sizes': (10,), 'solver': 'sgd',  'activation': 'relu','early_stopping': True, 'max_iter': 1500},\n",
    "        {'hidden_layer_sizes': (30,), 'solver': 'sgd',  'activation': 'relu','early_stopping': True, 'max_iter': 1500},\n",
    "        {'hidden_layer_sizes': (50,), 'solver': 'sgd',  'activation': 'relu','early_stopping': True, 'max_iter': 1500},\n",
    "        {'hidden_layer_sizes': (10,), 'solver': 'adam', 'activation': 'relu','early_stopping': True, 'max_iter': 1500},\n",
    "        {'hidden_layer_sizes': (30,), 'solver': 'adam', 'activation': 'relu','early_stopping': True, 'max_iter': 1500},\n",
    "        {'hidden_layer_sizes': (50,), 'solver': 'adam', 'activation': 'relu','early_stopping': True, 'max_iter': 1500},\n",
    "        {'hidden_layer_sizes': (10,), 'solver': 'sgd',  'activation': 'tanh','early_stopping': True, 'max_iter': 1500},\n",
    "        {'hidden_layer_sizes': (30,), 'solver': 'sgd',  'activation': 'tanh','early_stopping': True, 'max_iter': 1500},\n",
    "        {'hidden_layer_sizes': (50,), 'solver': 'sgd',  'activation': 'tanh','early_stopping': True, 'max_iter': 1500},\n",
    "        {'hidden_layer_sizes': (10,), 'solver': 'adam', 'activation': 'tanh','early_stopping': True, 'max_iter': 1500},\n",
    "        {'hidden_layer_sizes': (30,), 'solver': 'adam', 'activation': 'tanh','early_stopping': True, 'max_iter': 1500},\n",
    "        {'hidden_layer_sizes': (50,), 'solver': 'adam', 'activation': 'tanh','early_stopping': True, 'max_iter': 1500}]\n",
    "\n",
    "for i in range(len(dicc)):\n",
    "    train_indices2 = []\n",
    "    test_indices2 = []\n",
    "    for j in range(3):\n",
    "        for train_index, test_index in kf.split(X):\n",
    "            X_train, X_test,y_train, y_test = X[train_index],X[test_index],y[train_index],y[test_index]\n",
    "            train_indices2.append(train_index)\n",
    "            test_indices2.append(test_index)\n",
    "            alg = MLPClassifier(**dicc[i])\n",
    "            alg.fit(X_train, y_train)\n",
    "            model.append(alg)\n",
    "            y_pred_test = alg.predict(X_test)\n",
    "            y_pred_train = alg.predict(X_train)\n",
    "            resultados_train.append(mean_squared_error(y_train,y_pred_train))\n",
    "            resultados_test.append(mean_squared_error(y_test,y_pred_test))\n",
    "    res_train = np.hstack((res_train, np.array(resultados_train,ndmin=2).T))\n",
    "    res_test = np.hstack((res_test, np.array(resultados_test,ndmin=2).T))\n",
    "    resultados_train = []\n",
    "    resultados_test = []\n",
    "    train_indices.append(train_indices2)\n",
    "    test_indices.append(test_indices2)"
   ]
  },
  {
   "cell_type": "markdown",
   "metadata": {},
   "source": [
    "**Persistencia**"
   ]
  },
  {
   "cell_type": "code",
   "execution_count": 57,
   "metadata": {},
   "outputs": [],
   "source": [
    "with open('p3_bcw-res_test.bin','wb') as file:\n",
    "    pickle.dump(res_test, file)\n",
    "with open('p3_bcw-train_indices.bin','wb') as file:\n",
    "    pickle.dump(train_indices, file)\n",
    "with open('p3_bcw-test_indices.bin','wb') as file:\n",
    "    pickle.dump(test_indices, file)\n",
    "with open('p3_bcw-models.bin','wb') as file:\n",
    "    pickle.dump(model, file)"
   ]
  },
  {
   "cell_type": "code",
   "execution_count": 49,
   "metadata": {},
   "outputs": [],
   "source": [
    "# with open('p3_bcw-res_test.bin','rb') as file:\n",
    "#     res_test = pickle.load(file)\n",
    "# with open('p3_bcw-train_indices.bin','wb') as file:\n",
    "#     train_indices = pickle.load(file)\n",
    "# with open('p3_bcw-test_indices.bin','wb') as file:\n",
    "#     test_indices = pickle.load(file)\n",
    "# with open('p3_bcw-models.bin','wb') as file:\n",
    "#     model = pickle.load(file)"
   ]
  },
  {
   "cell_type": "markdown",
   "metadata": {},
   "source": [
    "**Test de normalidad**  \n",
    "Rechazamos normalidad, podriamos asumir normalidad en alguno de ellos pero como en algunos no, realizamos el test no paramétrico de Kruskal-Wallis en lugar de un Anova "
   ]
  },
  {
   "cell_type": "code",
   "execution_count": 50,
   "metadata": {},
   "outputs": [
    {
     "data": {
      "text/plain": [
       "array([0.00773167, 0.01608513, 0.29503348, 0.26505393, 0.19222261,\n",
       "       0.00118902, 0.04123024, 0.08289318, 0.0187826 , 0.01324168,\n",
       "       0.12920152, 0.07278208, 0.00853397, 0.04711825, 0.05954009,\n",
       "       0.02757493, 0.00516647, 0.02271414, 0.03063507, 0.00689297,\n",
       "       0.02283189, 0.06829198, 0.05251196, 0.00185355, 0.13190438,\n",
       "       0.04063509, 0.0540189 , 0.45333266, 0.03174687, 0.22972415,\n",
       "       0.07355431, 0.14341931, 0.05033809])"
      ]
     },
     "execution_count": 50,
     "metadata": {},
     "output_type": "execute_result"
    }
   ],
   "source": [
    "np.apply_along_axis(lambda x: stats.shapiro(x)[1], axis=0, arr=res_test)"
   ]
  },
  {
   "cell_type": "markdown",
   "metadata": {},
   "source": [
    "**Test de Kruskal-Wallis**  \n",
    "Rechazamos que las precisiones sean similares"
   ]
  },
  {
   "cell_type": "code",
   "execution_count": 51,
   "metadata": {
    "scrolled": false
   },
   "outputs": [
    {
     "name": "stdout",
     "output_type": "stream",
     "text": [
      "KruskalResult(statistic=179.45431991797508, pvalue=1.9393880289369438e-22)\n"
     ]
    }
   ],
   "source": [
    "print(stats.kruskal(*zip(*list(res_test))))"
   ]
  },
  {
   "cell_type": "code",
   "execution_count": 52,
   "metadata": {},
   "outputs": [],
   "source": [
    "labels = [etiquetas[i] for i in range(res_test.shape[1]) for _ in range(res_test.shape[0])]\n",
    "arr_test = res_test.flatten('F')\n",
    "resultados = pairwise_tukeyhsd(arr_test,labels)\n",
    "# resultados.summary()"
   ]
  },
  {
   "cell_type": "code",
   "execution_count": 53,
   "metadata": {},
   "outputs": [],
   "source": [
    "#seleccionamos el que tiene mejor media y vemos en el anterior cuales son iguales\n",
    "best_group = np.argmax(np.mean(res_test, axis = 0))\n",
    "best_group = etiquetas[int(best_group)]"
   ]
  },
  {
   "cell_type": "code",
   "execution_count": 54,
   "metadata": {},
   "outputs": [
    {
     "name": "stdout",
     "output_type": "stream",
     "text": [
      "Figure(720x432)\n"
     ]
    },
    {
     "data": {
      "image/png": "[encoded data removed]",
      "text/plain": [
       "<Figure size 720x432 with 1 Axes>"
      ]
     },
     "metadata": {
      "needs_background": "light"
     },
     "output_type": "display_data"
    }
   ],
   "source": [
    "print(resultados.plot_simultaneous(comparison_name=best_group))"
   ]
  },
  {
   "cell_type": "code",
   "execution_count": 55,
   "metadata": {},
   "outputs": [],
   "source": [
    "resultados = resultados._results_table.data"
   ]
  },
  {
   "cell_type": "code",
   "execution_count": 56,
   "metadata": {},
   "outputs": [
    {
     "data": {
      "text/plain": [
       "['DT Profundidad',\n",
       " 'LDA eigen',\n",
       " 'LDA lsqr',\n",
       " 'LDA svd',\n",
       " 'QDA',\n",
       " 'SVM linear C1',\n",
       " 'SVM linear C100',\n",
       " 'SVM linear C1000',\n",
       " 'SVM poly 2º C1',\n",
       " 'SVM poly 3º C1',\n",
       " 'SVM poly 3º C100',\n",
       " 'SVM poly 3º C1000',\n",
       " 'SVM poly 4º C1',\n",
       " 'SVM rfb 0.05 C1',\n",
       " 'SVM rfb 0.05 C100',\n",
       " 'SVM rfb 0.1 C1',\n",
       " 'SVM rfb 0.1 C100',\n",
       " 'SVM rfb 0.1 C1000',\n",
       " 'SVM rfb 0.2 C1',\n",
       " 'SVM rfb 0.2 C100',\n",
       " 'SVM rfb 0.2 C1000',\n",
       " 'SVM rfb auto C1',\n",
       " 'SVM rfb auto C100',\n",
       " 'SVM rfb auto C1000']"
      ]
     },
     "execution_count": 56,
     "metadata": {},
     "output_type": "execute_result"
    }
   ],
   "source": [
    "group1 = resultados[0].index('group1')\n",
    "group2 = resultados[0].index('group2')\n",
    "reject = resultados[0].index('reject')\n",
    "best_groups = []\n",
    "for row in resultados[1:]:\n",
    "    if (row[group1] == str(best_group) or row[group2] == str(best_group)) and not row[reject]:\n",
    "        best_groups.append(row[group1])\n",
    "        best_groups.append(row[group2])\n",
    "best_groups.append(best_group)\n",
    "best_groups = set(best_groups)\n",
    "sorted(best_groups)"
   ]
  },
  {
   "cell_type": "markdown",
   "metadata": {},
   "source": [
    "**Nos quedamos con el más sencillo**  \n",
    "El cual asumimos que es el Lineal Discriminant Analysis con lsqr (Minimos cuadrados)"
   ]
  },
  {
   "cell_type": "code",
   "execution_count": 58,
   "metadata": {},
   "outputs": [],
   "source": [
    "def performance_indexes(CM, PositiveClass):\n",
    "    classNum = len(CM)\n",
    "    TP = CM[PositiveClass, PositiveClass]\n",
    "    TN = 0\n",
    "    FP = 0\n",
    "    FN = 0\n",
    "    for real in range(classNum):\n",
    "        for predicted in range(classNum):\n",
    "            if (real != PositiveClass and predicted != PositiveClass):\n",
    "                TN += CM[real, predicted]\n",
    "            if (real != PositiveClass and predicted == PositiveClass):\n",
    "                FP += CM[real, predicted]\n",
    "            if (real == PositiveClass and predicted != PositiveClass):\n",
    "                FN += CM[real, predicted]\n",
    "    Sens = TP/(TP+FN)\n",
    "    Spec = TN/(TN+FP)\n",
    "    PPV = TP/(TP+FP)\n",
    "    NPV = TN/(TN+FN)\n",
    "    ACC = (TP+TN)/(TP+TN+FP+FN)\n",
    "    return Sens,Spec,PPV,NPV,ACC"
   ]
  },
  {
   "cell_type": "code",
   "execution_count": 59,
   "metadata": {},
   "outputs": [
    {
     "name": "stdout",
     "output_type": "stream",
     "text": [
      "Sens: 0.92, Spec: 0.98, PPV: 0.96, NPV: 0.96, ACC: 0.96\n"
     ]
    }
   ],
   "source": [
    "# Escogemos el modelo más simple de entre los mejores\n",
    "simple = etiquetas.index('LDA svd')\n",
    "tipo = 'svd'\n",
    "Sens_l = []\n",
    "Spec_l = []\n",
    "PPV_l = []\n",
    "NPV_l = []\n",
    "ACC_l = []\n",
    "for test_index in test_indices[simple]:\n",
    "    train_index = np.ones(y.shape, dtype=bool)\n",
    "    train_index[test_index] = False\n",
    "    X_test, y_test = X[test_index], y[test_index]\n",
    "    X_train, y_train = X[train_index], y[train_index]\n",
    "    alg = LinearDiscriminantAnalysis(solver=tipo, shrinkage=None)\n",
    "    alg.fit(X_train, y_train)\n",
    "    y_pred = alg.predict(X_test)\n",
    "    CM = confusion_matrix(y_test, y_pred)\n",
    "    Sens,Spec,PPV,NPV,ACC = performance_indexes(CM,1)\n",
    "    Sens_l.append(Sens)\n",
    "    Spec_l.append(Spec)\n",
    "    PPV_l.append(PPV)\n",
    "    NPV_l.append(NPV)\n",
    "    ACC_l.append(ACC)\n",
    "print(('Sens: {:.2f}, Spec: {:.2f}, ' +\n",
    "       'PPV: {:.2f}, NPV: {:.2f}, ACC: {:.2f}').format(np.mean(Sens_l),\n",
    "                                                       np.mean(Spec_l),\n",
    "                                                       np.mean(PPV_l),\n",
    "                                                       np.mean(NPV_l),\n",
    "                                                       np.mean(ACC_l)))\n"
   ]
  },
  {
   "cell_type": "markdown",
   "metadata": {},
   "source": [
    "**----------------------------------------------------------------------------------------------------------------------------**"
   ]
  },
  {
   "cell_type": "code",
   "execution_count": 61,
   "metadata": {},
   "outputs": [
    {
     "name": "stdout",
     "output_type": "stream",
     "text": [
      "DT Normal: 0.95 +- 0.03\n",
      "DT Profundidad: 0.95 +- 0.03\n",
      "DT Minimo de muestras por hoja: 0.95 +- 0.02\n",
      "DT Minimo de muestras en subarbol: 0.94 +- 0.03\n",
      "DT Minimo de impureza: 0.91 +- 0.03\n",
      "LDA lsqr: 0.96 +- 0.03\n",
      "LDA eigen: 0.96 +- 0.02\n",
      "LDA svd: 0.96 +- 0.02\n",
      "QDA: 0.95 +- 0.03\n",
      "SVM linear C1: 0.97 +- 0.02\n",
      "SVM poly 2º C1: 0.95 +- 0.03\n",
      "SVM poly 3º C1: 0.96 +- 0.03\n",
      "SVM poly 4º C1: 0.95 +- 0.02\n",
      "SVM rfb auto C1: 0.97 +- 0.02\n",
      "SVM rfb 0.05 C1: 0.97 +- 0.02\n",
      "SVM rfb 0.1 C1: 0.97 +- 0.02\n",
      "SVM rfb 0.2 C1: 0.97 +- 0.02\n",
      "SVM linear C100: 0.97 +- 0.02\n",
      "SVM poly 2º C100: 0.95 +- 0.03\n",
      "SVM poly 3º C100: 0.95 +- 0.03\n",
      "SVM poly 4º C100: 0.93 +- 0.03\n",
      "SVM rfb auto C100: 0.95 +- 0.02\n",
      "SVM rfb 0.05 C100: 0.95 +- 0.02\n",
      "SVM rfb 0.1 C100: 0.95 +- 0.02\n",
      "SVM rfb 0.2 C100: 0.95 +- 0.02\n",
      "SVM linear C1000: 0.97 +- 0.02\n",
      "SVM poly 2º C1000: 0.94 +- 0.03\n",
      "SVM poly 3º C1000: 0.95 +- 0.03\n",
      "SVM poly 4º C1000: 0.93 +- 0.03\n",
      "SVM rfb auto C1000: 0.95 +- 0.02\n",
      "SVM rfb 0.05 C1000: 0.94 +- 0.02\n",
      "SVM rfb 0.1 C1000: 0.95 +- 0.03\n",
      "SVM rfb 0.2 C1000: 0.95 +- 0.02\n"
     ]
    }
   ],
   "source": [
    "for ind, tag in enumerate(etiquetas):\n",
    "    mean_test = np.mean(res_test[:,ind])\n",
    "    std_test = np.std(res_test[:,ind])\n",
    "    print('{}: {:.2f} +- {:.2f}'.format(tag, mean_test, std_test))"
   ]
  },
  {
   "cell_type": "markdown",
   "metadata": {},
   "source": [
    "## Persistencia"
   ]
  },
  {
   "cell_type": "code",
   "execution_count": 210,
   "metadata": {},
   "outputs": [],
   "source": [
    "# with open('RForest_Zika_oversampled.bin','wb') as file:\n",
    "#     pickle.dump(alg_o, file)\n",
    "# with open('RForest_Zika_undersampled.bin','wb') as file:\n",
    "#     pickle.dump(alg_u, file)"
   ]
  },
  {
   "cell_type": "markdown",
   "metadata": {},
   "source": [
    "## FIN"
   ]
  }
 ],
 "metadata": {
  "kernelspec": {
   "display_name": "Python 3",
   "language": "python",
   "name": "python3"
  },
  "language_info": {
   "codemirror_mode": {
    "name": "ipython",
    "version": 3
   },
   "file_extension": ".py",
   "mimetype": "text/x-python",
   "name": "python",
   "nbconvert_exporter": "python",
   "pygments_lexer": "ipython3",
   "version": "3.7.1"
  }
 },
 "nbformat": 4,
 "nbformat_minor": 2
}
