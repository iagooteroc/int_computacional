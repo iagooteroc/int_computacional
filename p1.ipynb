{
 "cells": [
  {
   "cell_type": "markdown",
   "metadata": {},
   "source": [
    "- Construir una matriz INPUTS 150 x 4\n",
    "- Crear una matriz OUTPUT 150 x 1\n",
    "- Crear variable numEjemplos (size) (150)\n",
    "- Crear variable numClases (unique(OUTPUT)) (3)\n",
    "- Guardar las 4 variables 'iris'"
   ]
  },
  {
   "cell_type": "code",
   "execution_count": 1,
   "metadata": {},
   "outputs": [],
   "source": [
    "import pandas as pd\n",
    "import os\n",
    "from sklearn import datasets\n",
    "import numpy as np\n",
    "import matplotlib.pyplot as plt\n",
    "import itertools as it"
   ]
  },
  {
   "cell_type": "code",
   "execution_count": 4,
   "metadata": {},
   "outputs": [],
   "source": [
    "# Cargamos dataset iris\n",
    "iris = pd.read_csv('iris.data', header=None, names=['largo_sepalo','ancho_sepalo','largo_petalo','ancho_petalo','clase'])"
   ]
  },
  {
   "cell_type": "code",
   "execution_count": 5,
   "metadata": {},
   "outputs": [],
   "source": [
    "y = iris.clase.values\n",
    "X = iris.drop('clase',axis=1).values"
   ]
  },
  {
   "cell_type": "code",
   "execution_count": 3,
   "metadata": {},
   "outputs": [],
   "source": [
    "bcw = pd.read_csv('./breast-cancer-wisconsin.data', header=None)"
   ]
  },
  {
   "cell_type": "code",
   "execution_count": 46,
   "metadata": {},
   "outputs": [],
   "source": [
    "X_t = df.drop('y', axis=1)\n",
    "y_t = df['y']"
   ]
  },
  {
   "cell_type": "code",
   "execution_count": 28,
   "metadata": {},
   "outputs": [
    {
     "data": {
      "image/png": "[encoded data removed]",
      "text/plain": [
       "<Figure size 648x432 with 1 Axes>"
      ]
     },
     "metadata": {
      "needs_background": "light"
     },
     "output_type": "display_data"
    },
    {
     "data": {
      "image/png": "[encoded data removed]",
      "text/plain": [
       "<Figure size 648x432 with 1 Axes>"
      ]
     },
     "metadata": {
      "needs_background": "light"
     },
     "output_type": "display_data"
    },
    {
     "data": {
      "image/png": "[encoded data removed]",
      "text/plain": [
       "<Figure size 648x432 with 1 Axes>"
      ]
     },
     "metadata": {
      "needs_background": "light"
     },
     "output_type": "display_data"
    }
   ],
   "source": [
    "# X[y == 'Iris-versicolor']\n",
    "for i in set(y):\n",
    "    # Create a figure instance\n",
    "    fig = plt.figure(figsize=(9, 6))\n",
    "\n",
    "    # Create an axes instance\n",
    "    ax = fig.add_subplot(111)\n",
    "    temp = X[y == i]\n",
    "    data = []\n",
    "    for j in range(X.shape[1]):\n",
    "        data.append(temp[:,j])\n",
    "    bp = ax.boxplot(data)\n",
    "#         print(temp[:,j])\n",
    "plt.show()"
   ]
  },
  {
   "cell_type": "code",
   "execution_count": 29,
   "metadata": {},
   "outputs": [
    {
     "data": {
      "image/png": "[encoded data removed]",
      "text/plain": [
       "<Figure size 648x432 with 1 Axes>"
      ]
     },
     "metadata": {
      "needs_background": "light"
     },
     "output_type": "display_data"
    }
   ],
   "source": [
    "# Create a figure instance\n",
    "fig = plt.figure(figsize=(9, 6))\n",
    "# Create an axes instance\n",
    "ax = fig.add_subplot(111)\n",
    "data = []\n",
    "for j in range(X.shape[1]):\n",
    "    data.append(X[:,j])\n",
    "bp = ax.boxplot(data)\n",
    "plt.show()"
   ]
  },
  {
   "cell_type": "markdown",
   "metadata": {},
   "source": [
    "## Preprocesado de datos"
   ]
  },
  {
   "cell_type": "markdown",
   "metadata": {},
   "source": [
    "**Comprobamos que no haya \"missing values\"**  \n",
    "Dado que no los hay, seguimos adelante."
   ]
  },
  {
   "cell_type": "code",
   "execution_count": 7,
   "metadata": {
    "scrolled": true
   },
   "outputs": [
    {
     "data": {
      "text/plain": [
       "True"
      ]
     },
     "execution_count": 7,
     "metadata": {},
     "output_type": "execute_result"
    }
   ],
   "source": [
    "attr = []\n",
    "# Iteramos los atributos del dataset\n",
    "for i in iris.columns:\n",
    "    # Comprobamos los valores de cada atributo\n",
    "    attr.append(np.all(iris[i].notna()))\n",
    "# Ningún atributo tiene missing values:\n",
    "np.all(np.array(attr))"
   ]
  },
  {
   "cell_type": "markdown",
   "metadata": {},
   "source": [
    "**Comprobamos que no haya variables con \"near-zero variance\"**  \n",
    "Vemos que no hay ninguna."
   ]
  },
  {
   "cell_type": "code",
   "execution_count": 42,
   "metadata": {},
   "outputs": [
    {
     "name": "stdout",
     "output_type": "stream",
     "text": [
      "Index([], dtype='object')\n"
     ]
    }
   ],
   "source": [
    "print(df.columns[df.std(axis=0) <= 0.001])"
   ]
  },
  {
   "cell_type": "markdown",
   "metadata": {},
   "source": [
    "**Comprobamos que no haya variables iguales**  \n",
    "Vemos que no hay ninguna."
   ]
  },
  {
   "cell_type": "code",
   "execution_count": 44,
   "metadata": {},
   "outputs": [
    {
     "ename": "IndexError",
     "evalue": "index 4 is out of bounds for axis 1 with size 4",
     "output_type": "error",
     "traceback": [
      "\u001b[1;31m---------------------------------------------------------------------------\u001b[0m",
      "\u001b[1;31mIndexError\u001b[0m                                Traceback (most recent call last)",
      "\u001b[1;32m<ipython-input-44-4ae56ac6f9a4>\u001b[0m in \u001b[0;36m<module>\u001b[1;34m\u001b[0m\n\u001b[0;32m      1\u001b[0m \u001b[0miguales\u001b[0m \u001b[1;33m=\u001b[0m \u001b[1;33m[\u001b[0m\u001b[1;33m]\u001b[0m\u001b[1;33m\u001b[0m\u001b[1;33m\u001b[0m\u001b[0m\n\u001b[0;32m      2\u001b[0m \u001b[1;32mfor\u001b[0m \u001b[0mi\u001b[0m\u001b[1;33m,\u001b[0m \u001b[0mj\u001b[0m \u001b[1;32min\u001b[0m \u001b[0mit\u001b[0m\u001b[1;33m.\u001b[0m\u001b[0mcombinations\u001b[0m\u001b[1;33m(\u001b[0m\u001b[0mrange\u001b[0m\u001b[1;33m(\u001b[0m\u001b[0mlen\u001b[0m\u001b[1;33m(\u001b[0m\u001b[0mdf\u001b[0m\u001b[1;33m.\u001b[0m\u001b[0mcolumns\u001b[0m\u001b[1;33m)\u001b[0m\u001b[1;33m)\u001b[0m\u001b[1;33m,\u001b[0m \u001b[1;36m2\u001b[0m\u001b[1;33m)\u001b[0m\u001b[1;33m:\u001b[0m\u001b[1;33m\u001b[0m\u001b[1;33m\u001b[0m\u001b[0m\n\u001b[1;32m----> 3\u001b[1;33m     \u001b[1;32mif\u001b[0m \u001b[0mresultados\u001b[0m\u001b[1;33m[\u001b[0m\u001b[0mi\u001b[0m\u001b[1;33m,\u001b[0m \u001b[0mj\u001b[0m\u001b[1;33m]\u001b[0m \u001b[1;33m==\u001b[0m \u001b[1;36m1\u001b[0m\u001b[1;33m:\u001b[0m\u001b[1;33m\u001b[0m\u001b[1;33m\u001b[0m\u001b[0m\n\u001b[0m\u001b[0;32m      4\u001b[0m         \u001b[0miguales\u001b[0m\u001b[1;33m.\u001b[0m\u001b[0mappend\u001b[0m\u001b[1;33m(\u001b[0m\u001b[0mdf\u001b[0m\u001b[1;33m.\u001b[0m\u001b[0mcolumns\u001b[0m\u001b[1;33m[\u001b[0m\u001b[0mi\u001b[0m\u001b[1;33m]\u001b[0m\u001b[1;33m)\u001b[0m\u001b[1;33m\u001b[0m\u001b[1;33m\u001b[0m\u001b[0m\n\u001b[0;32m      5\u001b[0m         \u001b[0mprint\u001b[0m\u001b[1;33m(\u001b[0m\u001b[0mdf\u001b[0m\u001b[1;33m.\u001b[0m\u001b[0mcolumns\u001b[0m\u001b[1;33m[\u001b[0m\u001b[0mi\u001b[0m\u001b[1;33m]\u001b[0m\u001b[1;33m,\u001b[0m \u001b[0mdf\u001b[0m\u001b[1;33m.\u001b[0m\u001b[0mcolumns\u001b[0m\u001b[1;33m[\u001b[0m\u001b[0mj\u001b[0m\u001b[1;33m]\u001b[0m\u001b[1;33m)\u001b[0m\u001b[1;33m\u001b[0m\u001b[1;33m\u001b[0m\u001b[0m\n",
      "\u001b[1;31mIndexError\u001b[0m: index 4 is out of bounds for axis 1 with size 4"
     ]
    }
   ],
   "source": [
    "iguales = []\n",
    "for i, j in it.combinations(range(len(df.columns)), 2):\n",
    "    if round(resultados[i, j], 4) == 1:\n",
    "        iguales.append(df.columns[i])\n",
    "        print(df.columns[i], df.columns[j])"
   ]
  },
  {
   "cell_type": "markdown",
   "metadata": {},
   "source": [
    "**Comprobamos que las clases no estén desbalanceadas**  \n"
   ]
  },
  {
   "cell_type": "code",
   "execution_count": 30,
   "metadata": {},
   "outputs": [
    {
     "name": "stdout",
     "output_type": "stream",
     "text": [
      "      0    1    2    3\n",
      "0   5.1  3.5  1.4  0.2\n",
      "0   4.9  3.0  1.4  0.2\n",
      "0   4.7  3.2  1.3  0.2\n",
      "0   4.6  3.1  1.5  0.2\n",
      "0   5.0  3.6  1.4  0.2\n",
      "0   5.4  3.9  1.7  0.4\n",
      "0   4.6  3.4  1.4  0.3\n",
      "0   5.0  3.4  1.5  0.2\n",
      "0   4.4  2.9  1.4  0.2\n",
      "0   4.9  3.1  1.5  0.1\n",
      "0   5.4  3.7  1.5  0.2\n",
      "0   4.8  3.4  1.6  0.2\n",
      "0   4.8  3.0  1.4  0.1\n",
      "0   4.3  3.0  1.1  0.1\n",
      "0   5.8  4.0  1.2  0.2\n",
      "0   5.7  4.4  1.5  0.4\n",
      "0   5.4  3.9  1.3  0.4\n",
      "0   5.1  3.5  1.4  0.3\n",
      "0   5.7  3.8  1.7  0.3\n",
      "0   5.1  3.8  1.5  0.3\n",
      "0   5.4  3.4  1.7  0.2\n",
      "0   5.1  3.7  1.5  0.4\n",
      "0   4.6  3.6  1.0  0.2\n",
      "0   5.1  3.3  1.7  0.5\n",
      "0   4.8  3.4  1.9  0.2\n",
      "0   5.0  3.0  1.6  0.2\n",
      "0   5.0  3.4  1.6  0.4\n",
      "0   5.2  3.5  1.5  0.2\n",
      "0   5.2  3.4  1.4  0.2\n",
      "0   4.7  3.2  1.6  0.2\n",
      "..  ...  ...  ...  ...\n",
      "2   6.9  3.2  5.7  2.3\n",
      "2   5.6  2.8  4.9  2.0\n",
      "2   7.7  2.8  6.7  2.0\n",
      "2   6.3  2.7  4.9  1.8\n",
      "2   6.7  3.3  5.7  2.1\n",
      "2   7.2  3.2  6.0  1.8\n",
      "2   6.2  2.8  4.8  1.8\n",
      "2   6.1  3.0  4.9  1.8\n",
      "2   6.4  2.8  5.6  2.1\n",
      "2   7.2  3.0  5.8  1.6\n",
      "2   7.4  2.8  6.1  1.9\n",
      "2   7.9  3.8  6.4  2.0\n",
      "2   6.4  2.8  5.6  2.2\n",
      "2   6.3  2.8  5.1  1.5\n",
      "2   6.1  2.6  5.6  1.4\n",
      "2   7.7  3.0  6.1  2.3\n",
      "2   6.3  3.4  5.6  2.4\n",
      "2   6.4  3.1  5.5  1.8\n",
      "2   6.0  3.0  4.8  1.8\n",
      "2   6.9  3.1  5.4  2.1\n",
      "2   6.7  3.1  5.6  2.4\n",
      "2   6.9  3.1  5.1  2.3\n",
      "2   5.8  2.7  5.1  1.9\n",
      "2   6.8  3.2  5.9  2.3\n",
      "2   6.7  3.3  5.7  2.5\n",
      "2   6.7  3.0  5.2  2.3\n",
      "2   6.3  2.5  5.0  1.9\n",
      "2   6.5  3.0  5.2  2.0\n",
      "2   6.2  3.4  5.4  2.3\n",
      "2   5.9  3.0  5.1  1.8\n",
      "\n",
      "[150 rows x 4 columns]\n"
     ]
    }
   ],
   "source": [
    "# Comprobamos la proporción\n",
    "print(df)"
   ]
  },
  {
   "cell_type": "markdown",
   "metadata": {},
   "source": [
    "**----------------------------------------------------------------------------------------------------------------------------**"
   ]
  },
  {
   "cell_type": "code",
   "execution_count": 1,
   "metadata": {},
   "outputs": [],
   "source": [
    "%matplotlib inline\n",
    "import os\n",
    "import numpy as np\n",
    "import pandas as pd\n",
    "import matplotlib.pyplot as plt\n",
    "from sklearn.preprocessing import StandardScaler\n",
    "from sklearn.utils import shuffle\n",
    "from sklearn.neighbors import KNeighborsClassifier\n",
    "from sklearn.ensemble import RandomForestClassifier\n",
    "from sklearn.discriminant_analysis import LinearDiscriminantAnalysis\n",
    "from sklearn.naive_bayes import GaussianNB\n",
    "from sklearn.neural_network import MLPClassifier\n",
    "from sklearn.svm import SVC\n",
    "from sklearn.model_selection import (train_test_split, GridSearchCV,\n",
    "                                     ParameterGrid, cross_val_score,\n",
    "                                    learning_curve, ShuffleSplit)\n",
    "from imblearn.over_sampling import SMOTE\n",
    "import warnings\n",
    "import itertools as it\n",
    "import pickle\n",
    "import seaborn as sns\n",
    "from sklearn.metrics import confusion_matrix"
   ]
  },
  {
   "cell_type": "code",
   "execution_count": 2,
   "metadata": {},
   "outputs": [],
   "source": [
    "# Cargamos dataset\n",
    "df = pd.read_csv(os.path.join('ds_Zika.csv'))"
   ]
  },
  {
   "cell_type": "code",
   "execution_count": 7,
   "metadata": {},
   "outputs": [],
   "source": [
    "# Eliminamos esas columnas\n",
    "df = df.drop(columns=[df.columns[5],df.columns[9]])\n",
    "resultados = np.delete(resultados, [5,9], axis=0)\n",
    "resultados = np.delete(resultados, [5,9], axis=1)"
   ]
  },
  {
   "cell_type": "code",
   "execution_count": 9,
   "metadata": {},
   "outputs": [],
   "source": [
    "# Eliminamos esas columnas\n",
    "df = df.drop(columns=list(set(iguales)))"
   ]
  },
  {
   "cell_type": "markdown",
   "metadata": {},
   "source": [
    "**Undersampling**  \n",
    "Reducimos el número de muestras negativas al número de muestras positivas, seleccionandolas de forma aleatoria."
   ]
  },
  {
   "cell_type": "code",
   "execution_count": 11,
   "metadata": {},
   "outputs": [],
   "source": [
    "df_u = df.copy()\n",
    "# Número de casos positivos\n",
    "nposit = len(df_u[df_u['Output'] == 1])\n",
    "# Índices de casos negativos\n",
    "inegat = df_u[df_u.Output == 0].index\n",
    "# Cogemos aleatoriamente un número de índices negativos igual al número de casos positivos\n",
    "random_indices = np.random.choice(inegat, nposit, replace=False)\n",
    "# Obtenemos todos los índices positivos\n",
    "iposit = df_u[df_u.Output == 1].index\n",
    "# Unimos las dos listas de índices\n",
    "new_indices = np.concatenate([iposit, random_indices])\n",
    "df_u = df_u.loc[new_indices]\n",
    "# y las desordenamos\n",
    "df_u = shuffle(df_u).reset_index(drop=True)\n",
    "\n",
    "X_u = df_u.drop('Output', axis=1)\n",
    "y_u = df_u['Output']\n",
    "\n",
    "Xdata_u = X_u.values\n",
    "ydata_u = y_u.values"
   ]
  },
  {
   "cell_type": "markdown",
   "metadata": {},
   "source": [
    "**Oversampling**  \n",
    "Se generan muestras sinteticas positivas que siguen la misma distribución que las originales."
   ]
  },
  {
   "cell_type": "code",
   "execution_count": 12,
   "metadata": {},
   "outputs": [],
   "source": [
    "df_o = df.copy()\n",
    "X_o = df_o.drop('Output', axis=1)\n",
    "y_o = df_o['Output']\n",
    "Xdata_o = X_o.values\n",
    "ydata_o = y_o.values\n",
    "Xdata_o, ydata_o = SMOTE().fit_resample(Xdata_o, ydata_o)"
   ]
  },
  {
   "cell_type": "markdown",
   "metadata": {},
   "source": [
    "## Entrenamiento de Modelos - Undersampled"
   ]
  },
  {
   "cell_type": "code",
   "execution_count": 13,
   "metadata": {},
   "outputs": [],
   "source": [
    "# Suprimimos warnings para legibilidad (nota: no recomendamos hacer esto)\n",
    "warnings.filterwarnings(\"ignore\")"
   ]
  },
  {
   "cell_type": "code",
   "execution_count": 14,
   "metadata": {},
   "outputs": [],
   "source": [
    "# Probamos con undersampling\n",
    "Xdata = Xdata_u\n",
    "ydata = ydata_u"
   ]
  },
  {
   "cell_type": "markdown",
   "metadata": {},
   "source": [
    "### Selección del modelo  \n",
    "Se prueba con una batería de diferentes modelos de clasificación, con los parámetros por defecto."
   ]
  },
  {
   "cell_type": "code",
   "execution_count": 15,
   "metadata": {},
   "outputs": [
    {
     "data": {
      "text/html": [
       "<div>\n",
       "<style scoped>\n",
       "    .dataframe tbody tr th:only-of-type {\n",
       "        vertical-align: middle;\n",
       "    }\n",
       "\n",
       "    .dataframe tbody tr th {\n",
       "        vertical-align: top;\n",
       "    }\n",
       "\n",
       "    .dataframe thead th {\n",
       "        text-align: right;\n",
       "    }\n",
       "</style>\n",
       "<table border=\"1\" class=\"dataframe\">\n",
       "  <thead>\n",
       "    <tr style=\"text-align: right;\">\n",
       "      <th></th>\n",
       "      <th>Mean</th>\n",
       "      <th>Standard Deviation</th>\n",
       "    </tr>\n",
       "  </thead>\n",
       "  <tbody>\n",
       "    <tr>\n",
       "      <th>KNeighborsClassifier</th>\n",
       "      <td>0.901379</td>\n",
       "      <td>0.025319</td>\n",
       "    </tr>\n",
       "    <tr>\n",
       "      <th>LinearDiscriminantAnalysis</th>\n",
       "      <td>0.873247</td>\n",
       "      <td>0.015974</td>\n",
       "    </tr>\n",
       "    <tr>\n",
       "      <th>GaussianNB</th>\n",
       "      <td>0.791616</td>\n",
       "      <td>0.030786</td>\n",
       "    </tr>\n",
       "    <tr>\n",
       "      <th>MLPClassifier</th>\n",
       "      <td>0.910884</td>\n",
       "      <td>0.019924</td>\n",
       "    </tr>\n",
       "    <tr>\n",
       "      <th>SVC</th>\n",
       "      <td>0.791616</td>\n",
       "      <td>0.030786</td>\n",
       "    </tr>\n",
       "    <tr>\n",
       "      <th>RandomForestClassifier</th>\n",
       "      <td>0.925389</td>\n",
       "      <td>0.012770</td>\n",
       "    </tr>\n",
       "  </tbody>\n",
       "</table>\n",
       "</div>"
      ],
      "text/plain": [
       "                                Mean  Standard Deviation\n",
       "KNeighborsClassifier        0.901379            0.025319\n",
       "LinearDiscriminantAnalysis  0.873247            0.015974\n",
       "GaussianNB                  0.791616            0.030786\n",
       "MLPClassifier               0.910884            0.019924\n",
       "SVC                         0.791616            0.030786\n",
       "RandomForestClassifier      0.925389            0.012770"
      ]
     },
     "execution_count": 15,
     "metadata": {},
     "output_type": "execute_result"
    }
   ],
   "source": [
    "# K Neighbors\n",
    "knb = KNeighborsClassifier()\n",
    "\n",
    "# LDC:\n",
    "ldc = LinearDiscriminantAnalysis()\n",
    "\n",
    "# Bayesian:\n",
    "gnb = GaussianNB()\n",
    "\n",
    "# Multilayer Perceptron\n",
    "mlp = MLPClassifier()\n",
    "\n",
    "# SVM:\n",
    "svm = SVC()\n",
    "\n",
    "# Random Forest\n",
    "rndf = RandomForestClassifier()\n",
    "\n",
    "models = [knb, ldc, gnb, mlp, svm, rndf]\n",
    "model_names = ['KNeighborsClassifier', 'LinearDiscriminantAnalysis', 'GaussianNB',\n",
    "               'MLPClassifier', 'SVC', 'RandomForestClassifier']\n",
    "scores = []\n",
    "for model in models:\n",
    "    score = cross_val_score(model, Xdata, ydata, cv=10)\n",
    "    scores.append((np.mean(score), np.std(score)))\n",
    "x = pd.DataFrame(np.array(scores), columns=['Mean','Standard Deviation'], index=model_names)\n",
    "x\n",
    "# Nos quedamos con RandomForest"
   ]
  },
  {
   "cell_type": "markdown",
   "metadata": {},
   "source": [
    "### Búsqueda de hiperparámetros\n",
    "- n_estimators: Número de árboles\n",
    "- max_depth: Profundidad máxima del árbol\n",
    "- min_samples_leaf: Número mínimo de muestras requeridas en una hoja"
   ]
  },
  {
   "cell_type": "code",
   "execution_count": 16,
   "metadata": {},
   "outputs": [
    {
     "name": "stdout",
     "output_type": "stream",
     "text": [
      "{'max_depth': 16, 'min_samples_leaf': 1, 'n_estimators': 71}\n",
      "validation accuracy: 0.9993734335839599\n",
      "test accuracy: 0.935\n"
     ]
    }
   ],
   "source": [
    "# División entre training y test\n",
    "X_train, X_test, y_train, y_test = train_test_split(Xdata, ydata,\n",
    "                                                    test_size=0.2,\n",
    "                                                    stratify=ydata, random_state=1234)\n",
    "# Hiperparámetros a probar\n",
    "param_grid = {'n_estimators': range(1, 101, 10),\n",
    "               'max_depth': range(1, 26, 5),\n",
    "               'min_samples_leaf': range(1, 11, 5)}\n",
    "\n",
    "alg = RandomForestClassifier(random_state=1234)\n",
    "# Grid Search con cross validation\n",
    "cv = ShuffleSplit(n_splits=10, test_size=0.2, random_state=1234)\n",
    "grid = GridSearchCV(alg, param_grid=param_grid, cv=cv, return_train_score=True)\n",
    "grid.fit(X_train, y_train)\n",
    "print(grid.best_params_)\n",
    "print('validation accuracy:', grid.score(X_train, y_train))\n",
    "print('test accuracy:', grid.score(X_test, y_test))"
   ]
  },
  {
   "cell_type": "markdown",
   "metadata": {},
   "source": [
    "**Mejores parámetros**  \n",
    "La función GridSearchCV devuelve unos parámetros que tienen una gran diferencia entre el train score y el test score, por lo tanto establecemos un nuevo criterio para la selección de los mismos."
   ]
  },
  {
   "cell_type": "code",
   "execution_count": 17,
   "metadata": {},
   "outputs": [
    {
     "data": {
      "text/html": [
       "<div>\n",
       "<style scoped>\n",
       "    .dataframe tbody tr th:only-of-type {\n",
       "        vertical-align: middle;\n",
       "    }\n",
       "\n",
       "    .dataframe tbody tr th {\n",
       "        vertical-align: top;\n",
       "    }\n",
       "\n",
       "    .dataframe thead th {\n",
       "        text-align: right;\n",
       "    }\n",
       "</style>\n",
       "<table border=\"1\" class=\"dataframe\">\n",
       "  <thead>\n",
       "    <tr style=\"text-align: right;\">\n",
       "      <th></th>\n",
       "      <th>mean_train_score</th>\n",
       "      <th>mean_test_score</th>\n",
       "      <th>train_test_difference</th>\n",
       "    </tr>\n",
       "  </thead>\n",
       "  <tbody>\n",
       "    <tr>\n",
       "      <th>36</th>\n",
       "      <td>0.925705</td>\n",
       "      <td>0.910000</td>\n",
       "      <td>0.015705</td>\n",
       "    </tr>\n",
       "    <tr>\n",
       "      <th>38</th>\n",
       "      <td>0.926803</td>\n",
       "      <td>0.909375</td>\n",
       "      <td>0.017428</td>\n",
       "    </tr>\n",
       "    <tr>\n",
       "      <th>39</th>\n",
       "      <td>0.927351</td>\n",
       "      <td>0.909375</td>\n",
       "      <td>0.017976</td>\n",
       "    </tr>\n",
       "    <tr>\n",
       "      <th>37</th>\n",
       "      <td>0.926254</td>\n",
       "      <td>0.909062</td>\n",
       "      <td>0.017191</td>\n",
       "    </tr>\n",
       "    <tr>\n",
       "      <th>34</th>\n",
       "      <td>0.926019</td>\n",
       "      <td>0.908125</td>\n",
       "      <td>0.017894</td>\n",
       "    </tr>\n",
       "    <tr>\n",
       "      <th>32</th>\n",
       "      <td>0.924060</td>\n",
       "      <td>0.906875</td>\n",
       "      <td>0.017185</td>\n",
       "    </tr>\n",
       "    <tr>\n",
       "      <th>33</th>\n",
       "      <td>0.925392</td>\n",
       "      <td>0.906875</td>\n",
       "      <td>0.018517</td>\n",
       "    </tr>\n",
       "    <tr>\n",
       "      <th>35</th>\n",
       "      <td>0.925784</td>\n",
       "      <td>0.906875</td>\n",
       "      <td>0.018909</td>\n",
       "    </tr>\n",
       "  </tbody>\n",
       "</table>\n",
       "</div>"
      ],
      "text/plain": [
       "    mean_train_score  mean_test_score  train_test_difference\n",
       "36          0.925705         0.910000               0.015705\n",
       "38          0.926803         0.909375               0.017428\n",
       "39          0.927351         0.909375               0.017976\n",
       "37          0.926254         0.909062               0.017191\n",
       "34          0.926019         0.908125               0.017894\n",
       "32          0.924060         0.906875               0.017185\n",
       "33          0.925392         0.906875               0.018517\n",
       "35          0.925784         0.906875               0.018909"
      ]
     },
     "execution_count": 17,
     "metadata": {},
     "output_type": "execute_result"
    }
   ],
   "source": [
    "# Queremos que haya poca diferencia entre validación y test\n",
    "c = pd.DataFrame(grid.cv_results_)\n",
    "c['train_test_difference'] = c.mean_train_score - c.mean_test_score\n",
    "# Diferencia máxima entre validación y test\n",
    "max_diff = 0.02\n",
    "# Precisión mínima en test\n",
    "min_test_score = 0.90\n",
    "c_sorted = c[(c.mean_test_score >= min_test_score) & (c.train_test_difference <= max_diff)][(\n",
    "    ['mean_train_score', 'mean_test_score','train_test_difference'])].sort_values('mean_test_score', ascending=False)\n",
    "# Ordenamos por error en test\n",
    "c_sorted.head(n=10)"
   ]
  },
  {
   "cell_type": "code",
   "execution_count": 18,
   "metadata": {},
   "outputs": [
    {
     "name": "stdout",
     "output_type": "stream",
     "text": [
      "Max depth: 6 - Min. samples leaf: 6 - Num. estimators: 61\n"
     ]
    }
   ],
   "source": [
    "# Obtenemos los mejores hiperparámetros según nuestro criterio\n",
    "i = c_sorted.first_valid_index()\n",
    "max_depth = c.param_max_depth.iloc[i]\n",
    "min_samples_leaf = c.param_min_samples_leaf.iloc[i]\n",
    "n_estimators = c.param_n_estimators.iloc[i]\n",
    "print('Max depth: {} - Min. samples leaf: {} - Num. estimators: {}'.format(max_depth, min_samples_leaf, n_estimators))"
   ]
  },
  {
   "cell_type": "markdown",
   "metadata": {},
   "source": [
    "## Resultados - Undersampled"
   ]
  },
  {
   "cell_type": "code",
   "execution_count": 19,
   "metadata": {},
   "outputs": [],
   "source": [
    "# Obtenemos el modelo con los hiperparámetros elegidos\n",
    "alg_u = RandomForestClassifier(random_state=1234, max_depth=max_depth,\n",
    "                              min_samples_leaf=min_samples_leaf, n_estimators=n_estimators)"
   ]
  },
  {
   "cell_type": "code",
   "execution_count": 20,
   "metadata": {},
   "outputs": [
    {
     "data": {
      "image/png": "[encoded data removed]",
      "text/plain": [
       "<Figure size 432x288 with 1 Axes>"
      ]
     },
     "metadata": {
      "needs_background": "light"
     },
     "output_type": "display_data"
    }
   ],
   "source": [
    "# Calculamos la curva de aprendizaje\n",
    "cv = ShuffleSplit(n_splits=100, test_size=0.2)\n",
    "train_sizes = np.linspace(0.05, 1, num=20)\n",
    "train_sizes, train_scores, test_scores = learning_curve(\n",
    "        alg_u, Xdata, ydata, cv=cv, train_sizes=train_sizes)\n",
    "\n",
    "train_scores_mean = np.mean(train_scores, axis=1)\n",
    "train_scores_std = np.std(train_scores, axis=1)\n",
    "test_scores_mean = np.mean(test_scores, axis=1)\n",
    "test_scores_std = np.std(test_scores, axis=1)\n",
    "\n",
    "# plot\n",
    "plt.figure()\n",
    "plt.title('Learning curve RFC')\n",
    "plt.xlabel('Training size')\n",
    "plt.ylabel('Score')\n",
    "plt.grid()\n",
    "plt.fill_between(train_sizes, train_scores_mean - train_scores_std,\n",
    "                 train_scores_mean + train_scores_std, alpha=0.1, color='r')\n",
    "plt.fill_between(train_sizes, test_scores_mean - test_scores_std,\n",
    "                 test_scores_mean + test_scores_std, alpha=0.1, color='b')\n",
    "plt.plot(train_sizes, train_scores_mean, 'ro-', label='Training score')\n",
    "plt.plot(train_sizes, test_scores_mean, 'bo-', label='Test score')\n",
    "plt.legend(loc='best')\n",
    "plt.show()\n",
    "plt.close()"
   ]
  },
  {
   "cell_type": "code",
   "execution_count": 21,
   "metadata": {},
   "outputs": [
    {
     "name": "stdout",
     "output_type": "stream",
     "text": [
      "training accuracy: 0.9205440229062276\n",
      "test accuracy: 0.9081803005008348\n",
      "[[286  13]\n",
      " [ 42 258]]\n"
     ]
    }
   ],
   "source": [
    "# Cambiamos la división entre training y test\n",
    "X_train, X_test, y_train, y_test = train_test_split(Xdata, ydata,\n",
    "                                                    test_size=0.3,\n",
    "                                                    stratify=ydata, random_state=1234)\n",
    "alg_u.fit(X_train, y_train)\n",
    "print('training accuracy:', alg_u.score(X_train, y_train))\n",
    "print('test accuracy:', alg_u.score(X_test, y_test))\n",
    "y_pred = alg_u.predict(X_test)\n",
    "print(confusion_matrix(y_test, y_pred))"
   ]
  },
  {
   "cell_type": "markdown",
   "metadata": {},
   "source": [
    "**Mejores parámetros en función de la precisión en test**"
   ]
  },
  {
   "cell_type": "code",
   "execution_count": 22,
   "metadata": {},
   "outputs": [],
   "source": [
    "# Modelo con mejores resultados\n",
    "max_depth = grid.best_params_['max_depth']\n",
    "min_samples_leaf = grid.best_params_['min_samples_leaf']\n",
    "n_estimators = grid.best_params_['n_estimators']\n",
    "best = RandomForestClassifier(random_state=1234, max_depth=max_depth,\n",
    "                              min_samples_leaf=min_samples_leaf, n_estimators=n_estimators)"
   ]
  },
  {
   "cell_type": "code",
   "execution_count": 23,
   "metadata": {},
   "outputs": [
    {
     "data": {
      "image/png": "[encoded data removed]",
      "text/plain": [
       "<Figure size 432x288 with 1 Axes>"
      ]
     },
     "metadata": {
      "needs_background": "light"
     },
     "output_type": "display_data"
    }
   ],
   "source": [
    "# Calculamos la curva de aprendizaje\n",
    "cv = ShuffleSplit(n_splits=100, test_size=0.2)\n",
    "train_sizes = np.linspace(0.05, 1, num=20)\n",
    "train_sizes, train_scores, test_scores = learning_curve(\n",
    "        best, Xdata, ydata, cv=cv, train_sizes=train_sizes)\n",
    "\n",
    "train_scores_mean = np.mean(train_scores, axis=1)\n",
    "train_scores_std = np.std(train_scores, axis=1)\n",
    "test_scores_mean = np.mean(test_scores, axis=1)\n",
    "test_scores_std = np.std(test_scores, axis=1)\n",
    "\n",
    "# plot\n",
    "plt.figure()\n",
    "plt.title('Learning curve RFC')\n",
    "plt.xlabel('Training size')\n",
    "plt.ylabel('Score')\n",
    "plt.grid()\n",
    "plt.fill_between(train_sizes, train_scores_mean - train_scores_std,\n",
    "                 train_scores_mean + train_scores_std, alpha=0.1, color='r')\n",
    "plt.fill_between(train_sizes, test_scores_mean - test_scores_std,\n",
    "                 test_scores_mean + test_scores_std, alpha=0.1, color='b')\n",
    "plt.plot(train_sizes, train_scores_mean, 'ro-', label='Training score')\n",
    "plt.plot(train_sizes, test_scores_mean, 'bo-', label='Test score')\n",
    "plt.legend(loc='best')\n",
    "plt.show()\n",
    "plt.close()"
   ]
  },
  {
   "cell_type": "code",
   "execution_count": 34,
   "metadata": {},
   "outputs": [],
   "source": [
    "# Reactivamos warnings\n",
    "warnings.filterwarnings(\"default\")"
   ]
  },
  {
   "cell_type": "markdown",
   "metadata": {},
   "source": [
    "## Persistencia"
   ]
  },
  {
   "cell_type": "code",
   "execution_count": 35,
   "metadata": {},
   "outputs": [],
   "source": [
    "with open('RForest_Zika_oversampled.bin','wb') as file:\n",
    "    pickle.dump(alg_o, file)\n",
    "with open('RForest_Zika_undersampled.bin','wb') as file:\n",
    "    pickle.dump(alg_u, file)"
   ]
  },
  {
   "cell_type": "markdown",
   "metadata": {},
   "source": [
    "## FIN"
   ]
  }
 ],
 "metadata": {
  "kernelspec": {
   "display_name": "Python 3",
   "language": "python",
   "name": "python3"
  },
  "language_info": {
   "codemirror_mode": {
    "name": "ipython",
    "version": 3
   },
   "file_extension": ".py",
   "mimetype": "text/x-python",
   "name": "python",
   "nbconvert_exporter": "python",
   "pygments_lexer": "ipython3",
   "version": "3.7.1"
  }
 },
 "nbformat": 4,
 "nbformat_minor": 2
}
