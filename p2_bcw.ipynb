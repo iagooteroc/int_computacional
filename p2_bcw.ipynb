{
 "cells": [
  {
   "cell_type": "code",
   "execution_count": 1,
   "metadata": {},
   "outputs": [],
   "source": [
    "import pandas as pd\n",
    "import os\n",
    "from sklearn import datasets\n",
    "import numpy as np\n",
    "import matplotlib.pyplot as plt\n",
    "import itertools as it\n",
    "from sklearn.neighbors import LocalOutlierFactor\n",
    "from sklearn.model_selection import train_test_split, GridSearchCV, KFold\n",
    "from sklearn.discriminant_analysis import (LinearDiscriminantAnalysis,\n",
    "                                           QuadraticDiscriminantAnalysis)\n",
    "from sklearn.metrics import confusion_matrix, classification_report\n",
    "from sklearn.utils import shuffle\n",
    "from scipy import stats\n",
    "from statsmodels.stats.multicomp import (pairwise_tukeyhsd,\n",
    "                                         MultiComparison)\n",
    "from statsmodels.sandbox.stats.multicomp import TukeyHSDResults\n",
    "from sklearn.metrics import roc_curve\n",
    "from sklearn import preprocessing\n",
    "from sklearn.pipeline import Pipeline\n",
    "from sklearn.model_selection import StratifiedKFold, cross_val_score\n",
    "from sklearn.utils.class_weight import compute_class_weight\n",
    "from sklearn.metrics import roc_auc_score\n",
    "from sklearn.preprocessing import StandardScaler\n",
    "from sklearn.tree import DecisionTreeClassifier\n",
    "import random\n",
    "import warnings\n",
    "warnings.filterwarnings(\"ignore\", category=DeprecationWarning)\n",
    "\n"
   ]
  },
  {
   "cell_type": "markdown",
   "metadata": {},
   "source": [
    "## Cargamos dataset"
   ]
  },
  {
   "cell_type": "code",
   "execution_count": 2,
   "metadata": {},
   "outputs": [],
   "source": [
    "# Cargamos dataset Breast Cancer Wisconsin (Original)\n",
    "ds = pd.read_csv('./breast-cancer-wisconsin.data', usecols=[1,2,3,4,5,6,7,8,9,10], \n",
    "                 names=[0,1,2,3,4,5,6,7,8,9], header=None)"
   ]
  },
  {
   "cell_type": "code",
   "execution_count": 3,
   "metadata": {},
   "outputs": [],
   "source": [
    "output = 9\n",
    "# Transformamos la columna de clases a 0-1 (actualmente son 2,4)\n",
    "ds[output] = np.uint8(ds[output]/2-1)\n",
    "y = ds[output].values\n",
    "X = ds.drop(output,axis=1).values\n",
    "seed = 42\n",
    "random.seed(seed)\n",
    "np.random.seed(seed)"
   ]
  },
  {
   "cell_type": "markdown",
   "metadata": {},
   "source": [
    "## Preprocesado de datos"
   ]
  },
  {
   "cell_type": "markdown",
   "metadata": {},
   "source": [
    "**Comprobamos que no haya \"missing values\"**  \n",
    "Según https://archive.ics.uci.edu/ml/datasets, los Missing Values están etiquetados como '?'.  \n",
    "Eliminamos las filas con dicho valor."
   ]
  },
  {
   "cell_type": "code",
   "execution_count": 4,
   "metadata": {},
   "outputs": [],
   "source": [
    "rows = np.argwhere(X == '?')[:,0]\n",
    "X = np.delete(X,rows,0)\n",
    "y = np.delete(y,rows)\n",
    "X = X.astype(np.uint8)"
   ]
  },
  {
   "cell_type": "code",
   "execution_count": 5,
   "metadata": {
    "scrolled": true
   },
   "outputs": [
    {
     "data": {
      "text/plain": [
       "True"
      ]
     },
     "execution_count": 5,
     "metadata": {},
     "output_type": "execute_result"
    }
   ],
   "source": [
    "attr = []\n",
    "# Iteramos los atributos del dataset\n",
    "for i in ds.columns:\n",
    "    # Comprobamos los valores de cada atributo\n",
    "    attr.append(np.all(ds[i].notna()))\n",
    "# Ningún atributo tiene missing values:\n",
    "np.all(np.array(attr))"
   ]
  },
  {
   "cell_type": "markdown",
   "metadata": {},
   "source": [
    "**Comprobamos que no haya variables con \"near-zero variance\"**  \n",
    "Vemos que no hay ninguna."
   ]
  },
  {
   "cell_type": "code",
   "execution_count": 6,
   "metadata": {
    "scrolled": true
   },
   "outputs": [
    {
     "data": {
      "text/plain": [
       "Int64Index([], dtype='int64')"
      ]
     },
     "execution_count": 6,
     "metadata": {},
     "output_type": "execute_result"
    }
   ],
   "source": [
    "ds.columns.drop(output)[ds.std() < 0.001]"
   ]
  },
  {
   "cell_type": "markdown",
   "metadata": {},
   "source": [
    "**Comprobamos que no haya variables iguales**  \n",
    "Vemos que no hay ninguna."
   ]
  },
  {
   "cell_type": "code",
   "execution_count": 7,
   "metadata": {},
   "outputs": [],
   "source": [
    "resultados = np.zeros((len(ds.columns), len(ds.columns)))\n",
    "for i in range(len(ds.columns)):\n",
    "    for j in range(len(ds.columns)):\n",
    "        resultados[i, j] = np.mean(ds.iloc[:, i] == ds.iloc[:, j])"
   ]
  },
  {
   "cell_type": "code",
   "execution_count": 8,
   "metadata": {},
   "outputs": [],
   "source": [
    "iguales = []\n",
    "for i, j in it.combinations(range(len(ds.columns)), 2):\n",
    "    if round(resultados[i, j], 4) == 1:\n",
    "        iguales.append(ds.columns[i])\n",
    "        print(ds.columns[i], ds.columns[j])"
   ]
  },
  {
   "cell_type": "markdown",
   "metadata": {},
   "source": [
    "**Comprobamos que las clases no estén desbalanceadas**  \n",
    "Están un poco desbalanceadas."
   ]
  },
  {
   "cell_type": "code",
   "execution_count": 9,
   "metadata": {
    "scrolled": false
   },
   "outputs": [
    {
     "name": "stdout",
     "output_type": "stream",
     "text": [
      "Proporción clase 0:  0.6500732064421669\n",
      "Proporción clase 1:  0.34992679355783307\n"
     ]
    }
   ],
   "source": [
    "print('Proporción clase 0: ',np.mean(y==0))\n",
    "print('Proporción clase 1: ',np.mean(y==1))"
   ]
  },
  {
   "cell_type": "markdown",
   "metadata": {},
   "source": [
    "**Desordenamos los datos**"
   ]
  },
  {
   "cell_type": "code",
   "execution_count": 10,
   "metadata": {},
   "outputs": [],
   "source": [
    "X,y = shuffle(X,y)"
   ]
  },
  {
   "cell_type": "markdown",
   "metadata": {},
   "source": [
    "## Entrenamiento de Modelos"
   ]
  },
  {
   "cell_type": "markdown",
   "metadata": {},
   "source": [
    "**kFold - Decision Tree Classifier**"
   ]
  },
  {
   "cell_type": "code",
   "execution_count": 11,
   "metadata": {},
   "outputs": [],
   "source": [
    "kf = KFold(n_splits=10,shuffle=True)\n",
    "resultados_train = []\n",
    "resultados_valid = []\n",
    "model = []\n",
    "res_train = np.empty((30,0))\n",
    "res_valid = np.empty((30,0))\n",
    "test_indices = []\n",
    "etiquetas = ['DT Normal',\n",
    "             'DT Profundidad',\n",
    "             'DT Minimo de muestras por hoja',\n",
    "             'DT Minimo de muestras en subarbol',\n",
    "             'DT Minimo de impureza',\n",
    "             'LDA lsqr',\n",
    "             'LDA eigen',\n",
    "             'LDA svd',\n",
    "             'QDA']\n",
    "dicc = [{'max_depth': None, 'min_samples_leaf': 1, 'min_samples_split': 2, 'min_impurity_decrease': 0.0},\n",
    "        {'max_depth': 5,    'min_samples_leaf': 1, 'min_samples_split': 2, 'min_impurity_decrease': 0.0},\n",
    "        {'max_depth': None, 'min_samples_leaf': 3, 'min_samples_split': 2, 'min_impurity_decrease': 0.0},\n",
    "        {'max_depth': None, 'min_samples_leaf': 1, 'min_samples_split': 5, 'min_impurity_decrease': 0.0},\n",
    "        {'max_depth': None, 'min_samples_leaf': 1, 'min_samples_split': 2, 'min_impurity_decrease': 0.2}]\n",
    "\n",
    "for i in range(len(dicc)):\n",
    "    test_indices2 = []\n",
    "    for j in range(3):\n",
    "        for train_index, test_index in kf.split(X):\n",
    "    #         train_test_split del conjunto train y pillar 1/9 para validación\n",
    "            X_train, X_valid, y_train, y_valid = train_test_split(X[train_index],y[train_index],test_size=1/9)\n",
    "            test_indices2.append(test_index)\n",
    "    #         print('X_train: {}\\n, X_valid: {}\\n, X_test: {}'.format(X_train, X_valid, X_test))\n",
    "            alg = DecisionTreeClassifier(**dicc[i])\n",
    "            alg.fit(X_train, y_train)\n",
    "            model.append(alg)\n",
    "            resultados_train.append(alg.score(X_train, y_train))\n",
    "            resultados_valid.append(alg.score(X_valid, y_valid))\n",
    "    res_train = np.hstack((res_train, np.array(resultados_train,ndmin=2).T))\n",
    "    res_valid = np.hstack((res_valid, np.array(resultados_valid,ndmin=2).T))\n",
    "    resultados_train = []\n",
    "    resultados_valid = []\n",
    "    test_indices.append(test_indices2)\n",
    "\n",
    "    \n",
    "            "
   ]
  },
  {
   "cell_type": "markdown",
   "metadata": {},
   "source": [
    "**kFold - Linear Discriminant Analysis**"
   ]
  },
  {
   "cell_type": "code",
   "execution_count": 12,
   "metadata": {},
   "outputs": [],
   "source": [
    "for tipo in ('lsqr', 'eigen', 'svd'):\n",
    "    test_indices2 = []\n",
    "    for _ in range(3):\n",
    "        for train_index, test_index in kf.split(X):\n",
    "            X_train, X_valid, y_train, y_valid = train_test_split(X[train_index],y[train_index],test_size=1/9)\n",
    "            alg = LinearDiscriminantAnalysis(solver=tipo, shrinkage=None)\n",
    "            test_indices2.append(test_index)\n",
    "            alg.fit(X_train, y_train)\n",
    "            resultados_train.append(alg.score(X_train, y_train))\n",
    "            resultados_valid.append(alg.score(X_valid, y_valid))\n",
    "    res_train = np.hstack((res_train, np.array(resultados_train,ndmin=2).T))\n",
    "    res_valid = np.hstack((res_valid, np.array(resultados_valid,ndmin=2).T))\n",
    "    resultados_train = []\n",
    "    resultados_valid = []\n",
    "    test_indices.append(test_indices2)"
   ]
  },
  {
   "cell_type": "markdown",
   "metadata": {},
   "source": [
    "**kFold - Quadratic Discriminant Analysis**"
   ]
  },
  {
   "cell_type": "code",
   "execution_count": 13,
   "metadata": {},
   "outputs": [],
   "source": [
    "\n",
    "test_indices2 = []\n",
    "for _ in range(3):\n",
    "    for train_index, test_index in kf.split(X):\n",
    "        X_train, X_valid, y_train, y_valid = train_test_split(X[train_index],y[train_index],test_size=1/9)\n",
    "        test_indices2.append(test_index)\n",
    "        alg = QuadraticDiscriminantAnalysis()\n",
    "        alg.fit(X_train, y_train)\n",
    "        resultados_train.append(alg.score(X_train, y_train))\n",
    "        resultados_valid.append(alg.score(X_valid, y_valid))\n",
    "res_train = np.hstack((res_train, np.array(resultados_train,ndmin=2).T))\n",
    "res_valid = np.hstack((res_valid, np.array(resultados_valid,ndmin=2).T))\n",
    "test_indices.append(test_indices2)\n"
   ]
  },
  {
   "cell_type": "markdown",
   "metadata": {},
   "source": [
    "**Test de normalidad**  \n",
    "Rechazamos normalidad, podriamos asumir normalidad en alguno de ellos pero como en algunos no, realizamos el test no paramétrico de Kruskal-Wallis en lugar de un Anova "
   ]
  },
  {
   "cell_type": "code",
   "execution_count": 14,
   "metadata": {},
   "outputs": [
    {
     "data": {
      "text/plain": [
       "array([8.53491798e-02, 1.96003079e-01, 8.02869722e-02, 2.97891259e-01,\n",
       "       7.17464626e-01, 3.61303031e-03, 5.14273066e-04, 1.15977705e-01,\n",
       "       1.65743843e-01])"
      ]
     },
     "execution_count": 14,
     "metadata": {},
     "output_type": "execute_result"
    }
   ],
   "source": [
    "np.apply_along_axis(lambda x: stats.shapiro(x)[1], axis=0, arr=res_valid)\n"
   ]
  },
  {
   "cell_type": "markdown",
   "metadata": {},
   "source": [
    "**Test de Kruskal-Wallis**  \n",
    "Rechazamos que las precisiones sean similares"
   ]
  },
  {
   "cell_type": "code",
   "execution_count": 15,
   "metadata": {
    "scrolled": false
   },
   "outputs": [
    {
     "name": "stdout",
     "output_type": "stream",
     "text": [
      "KruskalResult(statistic=55.530677199054175, pvalue=3.4812240703330554e-09)\n"
     ]
    }
   ],
   "source": [
    "print(stats.kruskal(*zip(*list(res_valid))))"
   ]
  },
  {
   "cell_type": "code",
   "execution_count": 16,
   "metadata": {},
   "outputs": [
    {
     "data": {
      "text/html": [
       "<table class=\"simpletable\">\n",
       "<caption>Multiple Comparison of Means - Tukey HSD,FWER=0.05</caption>\n",
       "<tr>\n",
       "               <th>group1</th>                            <th>group2</th>               <th>meandiff</th>  <th>lower</th>   <th>upper</th> <th>reject</th>\n",
       "</tr>\n",
       "<tr>\n",
       "        <td>DT Minimo de impureza</td>       <td>DT Minimo de muestras en subarbol</td>  <td>0.0391</td>  <td>0.0177</td>  <td>0.0605</td>  <td>True</td> \n",
       "</tr>\n",
       "<tr>\n",
       "        <td>DT Minimo de impureza</td>        <td>DT Minimo de muestras por hoja</td>    <td>0.0415</td>  <td>0.0202</td>  <td>0.0629</td>  <td>True</td> \n",
       "</tr>\n",
       "<tr>\n",
       "        <td>DT Minimo de impureza</td>                   <td>DT Normal</td>              <td>0.0377</td>  <td>0.0163</td>  <td>0.0591</td>  <td>True</td> \n",
       "</tr>\n",
       "<tr>\n",
       "        <td>DT Minimo de impureza</td>                <td>DT Profundidad</td>            <td>0.0367</td>  <td>0.0153</td>  <td>0.0581</td>  <td>True</td> \n",
       "</tr>\n",
       "<tr>\n",
       "        <td>DT Minimo de impureza</td>                   <td>LDA eigen</td>              <td>0.0536</td>  <td>0.0322</td>   <td>0.075</td>  <td>True</td> \n",
       "</tr>\n",
       "<tr>\n",
       "        <td>DT Minimo de impureza</td>                   <td>LDA lsqr</td>               <td>0.0507</td>  <td>0.0293</td>  <td>0.0721</td>  <td>True</td> \n",
       "</tr>\n",
       "<tr>\n",
       "        <td>DT Minimo de impureza</td>                    <td>LDA svd</td>               <td>0.0522</td>  <td>0.0308</td>  <td>0.0736</td>  <td>True</td> \n",
       "</tr>\n",
       "<tr>\n",
       "        <td>DT Minimo de impureza</td>                      <td>QDA</td>                 <td>0.0435</td>  <td>0.0221</td>  <td>0.0649</td>  <td>True</td> \n",
       "</tr>\n",
       "<tr>\n",
       "  <td>DT Minimo de muestras en subarbol</td>  <td>DT Minimo de muestras por hoja</td>    <td>0.0024</td>  <td>-0.019</td>  <td>0.0238</td>  <td>False</td>\n",
       "</tr>\n",
       "<tr>\n",
       "  <td>DT Minimo de muestras en subarbol</td>             <td>DT Normal</td>              <td>-0.0014</td> <td>-0.0228</td> <td>0.0199</td>  <td>False</td>\n",
       "</tr>\n",
       "<tr>\n",
       "  <td>DT Minimo de muestras en subarbol</td>          <td>DT Profundidad</td>            <td>-0.0024</td> <td>-0.0238</td>  <td>0.019</td>  <td>False</td>\n",
       "</tr>\n",
       "<tr>\n",
       "  <td>DT Minimo de muestras en subarbol</td>             <td>LDA eigen</td>              <td>0.0145</td>  <td>-0.0069</td> <td>0.0359</td>  <td>False</td>\n",
       "</tr>\n",
       "<tr>\n",
       "  <td>DT Minimo de muestras en subarbol</td>             <td>LDA lsqr</td>               <td>0.0116</td>  <td>-0.0098</td>  <td>0.033</td>  <td>False</td>\n",
       "</tr>\n",
       "<tr>\n",
       "  <td>DT Minimo de muestras en subarbol</td>              <td>LDA svd</td>                <td>0.013</td>  <td>-0.0083</td> <td>0.0344</td>  <td>False</td>\n",
       "</tr>\n",
       "<tr>\n",
       "  <td>DT Minimo de muestras en subarbol</td>                <td>QDA</td>                 <td>0.0043</td>  <td>-0.017</td>  <td>0.0257</td>  <td>False</td>\n",
       "</tr>\n",
       "<tr>\n",
       "   <td>DT Minimo de muestras por hoja</td>               <td>DT Normal</td>              <td>-0.0039</td> <td>-0.0252</td> <td>0.0175</td>  <td>False</td>\n",
       "</tr>\n",
       "<tr>\n",
       "   <td>DT Minimo de muestras por hoja</td>            <td>DT Profundidad</td>            <td>-0.0048</td> <td>-0.0262</td> <td>0.0166</td>  <td>False</td>\n",
       "</tr>\n",
       "<tr>\n",
       "   <td>DT Minimo de muestras por hoja</td>               <td>LDA eigen</td>              <td>0.0121</td>  <td>-0.0093</td> <td>0.0335</td>  <td>False</td>\n",
       "</tr>\n",
       "<tr>\n",
       "   <td>DT Minimo de muestras por hoja</td>               <td>LDA lsqr</td>               <td>0.0092</td>  <td>-0.0122</td> <td>0.0306</td>  <td>False</td>\n",
       "</tr>\n",
       "<tr>\n",
       "   <td>DT Minimo de muestras por hoja</td>                <td>LDA svd</td>               <td>0.0106</td>  <td>-0.0108</td>  <td>0.032</td>  <td>False</td>\n",
       "</tr>\n",
       "<tr>\n",
       "   <td>DT Minimo de muestras por hoja</td>                  <td>QDA</td>                 <td>0.0019</td>  <td>-0.0195</td> <td>0.0233</td>  <td>False</td>\n",
       "</tr>\n",
       "<tr>\n",
       "              <td>DT Normal</td>                      <td>DT Profundidad</td>            <td>-0.001</td>  <td>-0.0224</td> <td>0.0204</td>  <td>False</td>\n",
       "</tr>\n",
       "<tr>\n",
       "              <td>DT Normal</td>                         <td>LDA eigen</td>              <td>0.0159</td>  <td>-0.0054</td> <td>0.0373</td>  <td>False</td>\n",
       "</tr>\n",
       "<tr>\n",
       "              <td>DT Normal</td>                         <td>LDA lsqr</td>                <td>0.013</td>  <td>-0.0083</td> <td>0.0344</td>  <td>False</td>\n",
       "</tr>\n",
       "<tr>\n",
       "              <td>DT Normal</td>                          <td>LDA svd</td>               <td>0.0145</td>  <td>-0.0069</td> <td>0.0359</td>  <td>False</td>\n",
       "</tr>\n",
       "<tr>\n",
       "              <td>DT Normal</td>                            <td>QDA</td>                 <td>0.0058</td>  <td>-0.0156</td> <td>0.0272</td>  <td>False</td>\n",
       "</tr>\n",
       "<tr>\n",
       "           <td>DT Profundidad</td>                       <td>LDA eigen</td>              <td>0.0169</td>  <td>-0.0045</td> <td>0.0383</td>  <td>False</td>\n",
       "</tr>\n",
       "<tr>\n",
       "           <td>DT Profundidad</td>                       <td>LDA lsqr</td>                <td>0.014</td>  <td>-0.0074</td> <td>0.0354</td>  <td>False</td>\n",
       "</tr>\n",
       "<tr>\n",
       "           <td>DT Profundidad</td>                        <td>LDA svd</td>               <td>0.0155</td>  <td>-0.0059</td> <td>0.0368</td>  <td>False</td>\n",
       "</tr>\n",
       "<tr>\n",
       "           <td>DT Profundidad</td>                          <td>QDA</td>                 <td>0.0068</td>  <td>-0.0146</td> <td>0.0281</td>  <td>False</td>\n",
       "</tr>\n",
       "<tr>\n",
       "              <td>LDA eigen</td>                         <td>LDA lsqr</td>               <td>-0.0029</td> <td>-0.0243</td> <td>0.0185</td>  <td>False</td>\n",
       "</tr>\n",
       "<tr>\n",
       "              <td>LDA eigen</td>                          <td>LDA svd</td>               <td>-0.0014</td> <td>-0.0228</td> <td>0.0199</td>  <td>False</td>\n",
       "</tr>\n",
       "<tr>\n",
       "              <td>LDA eigen</td>                            <td>QDA</td>                 <td>-0.0101</td> <td>-0.0315</td> <td>0.0112</td>  <td>False</td>\n",
       "</tr>\n",
       "<tr>\n",
       "              <td>LDA lsqr</td>                           <td>LDA svd</td>               <td>0.0014</td>  <td>-0.0199</td> <td>0.0228</td>  <td>False</td>\n",
       "</tr>\n",
       "<tr>\n",
       "              <td>LDA lsqr</td>                             <td>QDA</td>                 <td>-0.0072</td> <td>-0.0286</td> <td>0.0141</td>  <td>False</td>\n",
       "</tr>\n",
       "<tr>\n",
       "               <td>LDA svd</td>                             <td>QDA</td>                 <td>-0.0087</td> <td>-0.0301</td> <td>0.0127</td>  <td>False</td>\n",
       "</tr>\n",
       "</table>"
      ],
      "text/plain": [
       "<class 'statsmodels.iolib.table.SimpleTable'>"
      ]
     },
     "execution_count": 16,
     "metadata": {},
     "output_type": "execute_result"
    }
   ],
   "source": [
    "labels = [etiquetas[i] for i in range(res_valid.shape[1]) for _ in range(res_valid.shape[0])]\n",
    "arr_valid = res_valid.flatten('F')\n",
    "resultados = pairwise_tukeyhsd(arr_valid,labels)\n",
    "resultados.summary()"
   ]
  },
  {
   "cell_type": "code",
   "execution_count": 17,
   "metadata": {},
   "outputs": [],
   "source": [
    "#seleccionamos el que tiene mejor media y vemos en el anterior cuales son iguales\n",
    "best_group = np.argmax(np.mean(res_valid, axis = 0))\n",
    "best_group = etiquetas[int(best_group)]"
   ]
  },
  {
   "cell_type": "code",
   "execution_count": 18,
   "metadata": {},
   "outputs": [
    {
     "name": "stdout",
     "output_type": "stream",
     "text": [
      "Figure(720x432)\n"
     ]
    },
    {
     "data": {
      "image/png": "[encoded data removed]",
      "text/plain": [
       "<Figure size 720x432 with 1 Axes>"
      ]
     },
     "metadata": {
      "needs_background": "light"
     },
     "output_type": "display_data"
    }
   ],
   "source": [
    "print(resultados.plot_simultaneous(comparison_name=best_group))"
   ]
  },
  {
   "cell_type": "code",
   "execution_count": 19,
   "metadata": {},
   "outputs": [],
   "source": [
    "resultados = resultados._results_table.data"
   ]
  },
  {
   "cell_type": "code",
   "execution_count": 20,
   "metadata": {},
   "outputs": [
    {
     "data": {
      "text/plain": [
       "['DT Minimo de muestras en subarbol',\n",
       " 'DT Minimo de muestras por hoja',\n",
       " 'DT Normal',\n",
       " 'DT Profundidad',\n",
       " 'LDA eigen',\n",
       " 'LDA lsqr',\n",
       " 'LDA svd',\n",
       " 'QDA']"
      ]
     },
     "execution_count": 20,
     "metadata": {},
     "output_type": "execute_result"
    }
   ],
   "source": [
    "group1 = resultados[0].index('group1')\n",
    "group2 = resultados[0].index('group2')\n",
    "reject = resultados[0].index('reject')\n",
    "best_groups = []\n",
    "for row in resultados[1:]:\n",
    "    if (row[group1] == str(best_group) or row[group2] == str(best_group)) and not row[reject]:\n",
    "        best_groups.append(row[group1])\n",
    "        best_groups.append(row[group2])\n",
    "best_groups = set(best_groups)\n",
    "sorted(best_groups)"
   ]
  },
  {
   "cell_type": "markdown",
   "metadata": {},
   "source": [
    "**Nos quedamos con el más sencillo**  \n",
    "El cual asumimos que es el Lineal Discriminant Analysis con lsqr (Minimos cuadrados)"
   ]
  },
  {
   "cell_type": "code",
   "execution_count": 21,
   "metadata": {},
   "outputs": [],
   "source": [
    "def performance_indexes(CM, PositiveClass):\n",
    "    classNum = len(CM)\n",
    "    TP = CM[PositiveClass, PositiveClass]\n",
    "    TN = 0\n",
    "    FP = 0\n",
    "    FN = 0\n",
    "    for real in range(classNum):\n",
    "        for predicted in range(classNum):\n",
    "            if (real != PositiveClass and predicted != PositiveClass):\n",
    "                TN += CM[real, predicted]\n",
    "            if (real != PositiveClass and predicted == PositiveClass):\n",
    "                FP += CM[real, predicted]\n",
    "            if (real == PositiveClass and predicted != PositiveClass):\n",
    "                FN += CM[real, predicted]\n",
    "    Sens = TP/(TP+FN)\n",
    "    Spec = TN/(TN+FP)\n",
    "    PPV = TP/(TP+FP)\n",
    "    NPV = TN/(TN+FN)\n",
    "    ACC = (TP+TN)/(TP+TN+FP+FN)\n",
    "    return Sens,Spec,PPV,NPV,ACC"
   ]
  },
  {
   "cell_type": "code",
   "execution_count": 22,
   "metadata": {},
   "outputs": [
    {
     "name": "stdout",
     "output_type": "stream",
     "text": [
      "Sens: 0.92, Spec: 0.98, PPV: 0.97, NPV: 0.96, ACC: 0.96\n"
     ]
    }
   ],
   "source": [
    "# Escogemos el modelo más simple de entre los mejores\n",
    "simple = etiquetas.index('LDA svd')\n",
    "tipo = 'svd'\n",
    "Sens_l = []\n",
    "Spec_l = []\n",
    "PPV_l = []\n",
    "NPV_l = []\n",
    "ACC_l = []\n",
    "for test_index in test_indices[simple]:\n",
    "    train_index = np.ones(y.shape, dtype=bool)\n",
    "    train_index[test_index] = False\n",
    "    X_test, y_test = X[test_index], y[test_index]\n",
    "    X_train, y_train = X[train_index], y[train_index]\n",
    "    alg = LinearDiscriminantAnalysis(solver=tipo, shrinkage=None)\n",
    "    alg.fit(X_train, y_train)\n",
    "    y_pred = alg.predict(X_test)\n",
    "    CM = confusion_matrix(y_test, y_pred)\n",
    "    Sens,Spec,PPV,NPV,ACC = performance_indexes(CM,1)\n",
    "    Sens_l.append(Sens)\n",
    "    Spec_l.append(Spec)\n",
    "    PPV_l.append(PPV)\n",
    "    NPV_l.append(NPV)\n",
    "    ACC_l.append(ACC)\n",
    "print(('Sens: {:.2f}, Spec: {:.2f}, ' +\n",
    "       'PPV: {:.2f}, NPV: {:.2f}, ACC: {:.2f}').format(np.mean(Sens_l),\n",
    "                                                       np.mean(Spec_l),\n",
    "                                                       np.mean(PPV_l),\n",
    "                                                       np.mean(NPV_l),\n",
    "                                                       np.mean(ACC_l)))\n"
   ]
  },
  {
   "cell_type": "markdown",
   "metadata": {},
   "source": [
    "**----------------------------------------------------------------------------------------------------------------------------**"
   ]
  },
  {
   "cell_type": "code",
   "execution_count": 23,
   "metadata": {},
   "outputs": [
    {
     "name": "stdout",
     "output_type": "stream",
     "text": [
      "DT Normal: 0.95 +- 0.02\n",
      "DT Profundidad: 0.95 +- 0.03\n",
      "DT Minimo de muestras por hoja: 0.95 +- 0.03\n",
      "DT Minimo de muestras en subarbol: 0.95 +- 0.03\n",
      "DT Minimo de impureza: 0.91 +- 0.03\n",
      "LDA lsqr: 0.96 +- 0.03\n",
      "LDA eigen: 0.96 +- 0.02\n",
      "LDA svd: 0.96 +- 0.02\n",
      "QDA: 0.95 +- 0.02\n"
     ]
    }
   ],
   "source": [
    "for ind, tag in enumerate(etiquetas):\n",
    "    mean_val = np.mean(res_valid[:,ind])\n",
    "    std_val = np.std(res_valid[:,ind])\n",
    "    print('{}: {:.2f} +- {:.2f}'.format(tag, mean_val, std_val))"
   ]
  },
  {
   "cell_type": "markdown",
   "metadata": {},
   "source": [
    "## Persistencia"
   ]
  },
  {
   "cell_type": "code",
   "execution_count": 24,
   "metadata": {},
   "outputs": [],
   "source": [
    "# with open('RForest_Zika_oversampled.bin','wb') as file:\n",
    "#     pickle.dump(alg_o, file)\n",
    "# with open('RForest_Zika_undersampled.bin','wb') as file:\n",
    "#     pickle.dump(alg_u, file)"
   ]
  },
  {
   "cell_type": "markdown",
   "metadata": {},
   "source": [
    "## FIN"
   ]
  }
 ],
 "metadata": {
  "kernelspec": {
   "display_name": "Python 3",
   "language": "python",
   "name": "python3"
  },
  "language_info": {
   "codemirror_mode": {
    "name": "ipython",
    "version": 3
   },
   "file_extension": ".py",
   "mimetype": "text/x-python",
   "name": "python",
   "nbconvert_exporter": "python",
   "pygments_lexer": "ipython3",
   "version": "3.6.7"
  }
 },
 "nbformat": 4,
 "nbformat_minor": 2
}
