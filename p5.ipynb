{
 "cells": [
  {
   "cell_type": "code",
   "execution_count": 28,
   "metadata": {},
   "outputs": [],
   "source": [
    "import pandas as pd\n",
    "import os\n",
    "import numpy as np\n",
    "import matplotlib.pyplot as plt\n",
    "import itertools as it\n",
    "import random\n",
    "from sklearn.neighbors import LocalOutlierFactor\n",
    "from sklearn.model_selection import train_test_split, GridSearchCV, KFold\n",
    "from sklearn.discriminant_analysis import (LinearDiscriminantAnalysis, \n",
    "                                            QuadraticDiscriminantAnalysis)\n",
    "from sklearn.utils import shuffle\n",
    "from sklearn.decomposition import PCA\n",
    "from sklearn.neural_network import MLPClassifier\n",
    "from scipy import stats\n",
    "from statsmodels.stats.multicomp import (pairwise_tukeyhsd,\n",
    "                                         MultiComparison)\n",
    "from statsmodels.sandbox.stats.multicomp import TukeyHSDResults\n",
    "from sklearn.metrics import confusion_matrix\n",
    "import pickle\n",
    "from sklearn.feature_selection import RFE\n",
    "from sklearn.svm import SVC\n",
    "from sklearn.feature_selection import SelectKBest\n",
    "from sklearn.feature_selection import f_classif,mutual_info_classif"
   ]
  },
  {
   "cell_type": "code",
   "execution_count": 29,
   "metadata": {},
   "outputs": [],
   "source": [
    "ds = pd.read_csv('./musk.data', header = None)\n",
    "# Quitamos las dos primeras columnas ya que son nombres simbólicos\n",
    "ds = ds.drop([0,1], axis=1)\n",
    "\n",
    "ds.columns -= 2\n",
    "\n",
    "output = ds.shape[1]-1 # Columna de output\n",
    "y = ds[output].values\n",
    "X = ds.drop(output,axis=1).values\n",
    "seed = 42\n",
    "random.seed(seed)\n",
    "np.random.seed(seed)"
   ]
  },
  {
   "cell_type": "code",
   "execution_count": 30,
   "metadata": {},
   "outputs": [],
   "source": [
    "# Aqui realizamos la estandarización\n",
    "X = (X - np.mean(X)) / np.std(X)\n",
    "X,y = shuffle(X,y)"
   ]
  },
  {
   "cell_type": "code",
   "execution_count": 54,
   "metadata": {},
   "outputs": [],
   "source": [
    "def selector(X_train, X_test, y_train, porcentaje):\n",
    "    \"\"\"Introducir el porcentaje con el que nos queremos quedar.\"\"\"\n",
    "    m_info = mutual_info_classif(X_train, y_train,random_state=42)\n",
    "    th = np.percentile(m_info, 100 - porcentaje)\n",
    "    X_train_res = X_train[: , m_info >= th]\n",
    "    X_test_res = X_test[:,m_info >= th]\n",
    "    return X_train_res, X_test_res"
   ]
  },
  {
   "cell_type": "code",
   "execution_count": 32,
   "metadata": {},
   "outputs": [],
   "source": [
    "def principal_component_analisys(X_train, X_test, th=0.85):\n",
    "    alg = PCA()\n",
    "    X_train = alg.fit_transform(X_train)\n",
    "    X_test = alg.transform(X_test)\n",
    "    suma = 0\n",
    "    var = alg.explained_variance_ratio_\n",
    "    for i,j in enumerate(var):\n",
    "        suma += j\n",
    "        if suma >= th:\n",
    "            X_train, X_test = (X_train[:,:i + 1], X_test[:,:i + 1])\n",
    "            break\n",
    "    return X_train, X_test\n",
    "        "
   ]
  },
  {
   "cell_type": "code",
   "execution_count": 5,
   "metadata": {},
   "outputs": [],
   "source": [
    "def exec_MLPC():\n",
    "    global resultados_train\n",
    "    global resultados_test\n",
    "    global res_train\n",
    "    global res_test\n",
    "    global model\n",
    "    global train_indices\n",
    "    global test_indices\n",
    "    global etiquetas\n",
    "    global th\n",
    "    etiquetas.extend(['MLPR sgd 10 relu',\n",
    "                 'MLPR sgd 30 relu',\n",
    "                 'MLPR sgd 50 relu',\n",
    "                 'MLPR adam 10 relu',\n",
    "                 'MLPR adam 30 relu',\n",
    "                 'MLPR adam 50 relu'])\n",
    "    etiquetas.extend(['MLPR sgd 10 tanh',\n",
    "                 'MLPR sgd 30 tanh',\n",
    "                 'MLPR sgd 50 tanh',\n",
    "                 'MLPR adam 10 tanh',\n",
    "                 'MLPR adam 30 tanh',\n",
    "                 'MLPR adam 50 tanh'])\n",
    "    dicc = [{'hidden_layer_sizes': (10,), 'solver': 'sgd',  \n",
    "             'activation': 'relu','early_stopping': True, 'max_iter': 1500},\n",
    "            {'hidden_layer_sizes': (30,), 'solver': 'sgd',  \n",
    "             'activation': 'relu','early_stopping': True, 'max_iter': 1500},\n",
    "            {'hidden_layer_sizes': (50,), 'solver': 'sgd',  \n",
    "             'activation': 'relu','early_stopping': True, 'max_iter': 1500},\n",
    "            {'hidden_layer_sizes': (10,), 'solver': 'adam', \n",
    "             'activation': 'relu','early_stopping': True, 'max_iter': 1500},\n",
    "            {'hidden_layer_sizes': (30,), 'solver': 'adam', \n",
    "             'activation': 'relu','early_stopping': True, 'max_iter': 1500},\n",
    "            {'hidden_layer_sizes': (50,), 'solver': 'adam', \n",
    "             'activation': 'relu','early_stopping': True, 'max_iter': 1500},\n",
    "            {'hidden_layer_sizes': (10,), 'solver': 'sgd',  \n",
    "             'activation': 'tanh','early_stopping': True, 'max_iter': 1500},\n",
    "            {'hidden_layer_sizes': (30,), 'solver': 'sgd',  \n",
    "             'activation': 'tanh','early_stopping': True, 'max_iter': 1500},\n",
    "            {'hidden_layer_sizes': (50,), 'solver': 'sgd',  \n",
    "             'activation': 'tanh','early_stopping': True, 'max_iter': 1500},\n",
    "            {'hidden_layer_sizes': (10,), 'solver': 'adam', \n",
    "             'activation': 'tanh','early_stopping': True, 'max_iter': 1500},\n",
    "            {'hidden_layer_sizes': (30,), 'solver': 'adam', \n",
    "             'activation': 'tanh','early_stopping': True, 'max_iter': 1500},\n",
    "            {'hidden_layer_sizes': (50,), 'solver': 'adam', \n",
    "             'activation': 'tanh','early_stopping': True, 'max_iter': 1500}]\n",
    "\n",
    "    for i in range(len(dicc)):\n",
    "        train_indices2 = []\n",
    "        test_indices2 = []\n",
    "        for j in range(3):\n",
    "            for train_index, test_index in kf.split(X):\n",
    "                X_train, X_test = X[train_index],X[test_index]\n",
    "                y_train, y_test = y[train_index],y[test_index]\n",
    "                X_train_pca, X_test_pca = principal_component_analisys(X_train, X_test, th)\n",
    "                train_indices2.append(train_index)\n",
    "                test_indices2.append(test_index)\n",
    "                alg = MLPClassifier(**dicc[i])\n",
    "                alg.fit(X_train_pca, y_train)\n",
    "                model.append(alg)\n",
    "                resultados_train.append(alg.score(X_train_pca, y_train))\n",
    "                resultados_test.append(alg.score(X_test_pca, y_test))\n",
    "        res_train = np.hstack((res_train, np.array(resultados_train,ndmin=2).T))\n",
    "        res_test = np.hstack((res_test, np.array(resultados_test,ndmin=2).T))\n",
    "        resultados_train = []\n",
    "        resultados_test = []\n",
    "        train_indices.append(train_indices2)\n",
    "        test_indices.append(test_indices2)\n"
   ]
  },
  {
   "cell_type": "code",
   "execution_count": 8,
   "metadata": {},
   "outputs": [
    {
     "name": "stdout",
     "output_type": "stream",
     "text": [
      "Wall time: 27 ms\n"
     ]
    }
   ],
   "source": [
    "%%time\n",
    "kf = KFold(n_splits=10,shuffle=True)\n",
    "resultados_train = []\n",
    "resultados_test = []\n",
    "model = []\n",
    "res_train = np.empty((30,0))\n",
    "res_test = np.empty((30,0))\n",
    "train_indices = []\n",
    "test_indices = []\n",
    "etiquetas = []\n",
    "th = 0.85\n",
    "# exec_MLPC()"
   ]
  },
  {
   "cell_type": "code",
   "execution_count": 7,
   "metadata": {},
   "outputs": [],
   "source": [
    "with open('p5_musk-res_test.bin','wb') as file:\n",
    "    pickle.dump(res_test, file)\n",
    "with open('p5_musk-train_indices.bin','wb') as file:\n",
    "    pickle.dump(train_indices, file)\n",
    "with open('p5_musk-test_indices.bin','wb') as file:\n",
    "    pickle.dump(test_indices, file)\n",
    "with open('p5_musk-models.bin','wb') as file:\n",
    "    pickle.dump(model, file)\n",
    "with open('p5_musk-etiquetas.bin','wb') as file:\n",
    "    pickle.dump(etiquetas, file)"
   ]
  },
  {
   "cell_type": "code",
   "execution_count": 59,
   "metadata": {},
   "outputs": [],
   "source": [
    "with open('p5_musk-res_test.bin','rb') as file:\n",
    "    res_test = pickle.load(file)\n",
    "with open('p5_musk-train_indices.bin','rb') as file:\n",
    "    train_indices = pickle.load(file)\n",
    "with open('p5_musk-test_indices.bin','rb') as file:\n",
    "    test_indices = pickle.load(file)\n",
    "with open('p5_musk-models.bin','rb') as file:\n",
    "    model = pickle.load(file)\n",
    "with open('p5_musk-etiquetas.bin','rb') as file:\n",
    "    etiquetas = pickle.load(file)"
   ]
  },
  {
   "cell_type": "code",
   "execution_count": 60,
   "metadata": {},
   "outputs": [
    {
     "data": {
      "text/plain": [
       "array([0.56446493, 0.24124502, 0.22312698, 0.00912273, 0.73573595,\n",
       "       0.00377106, 0.36078659, 0.51721221, 0.61883986, 0.55610925,\n",
       "       0.52648097, 0.11561864])"
      ]
     },
     "execution_count": 60,
     "metadata": {},
     "output_type": "execute_result"
    }
   ],
   "source": [
    "np.apply_along_axis(lambda x: stats.shapiro(x)[1], axis=0, arr=res_test)"
   ]
  },
  {
   "cell_type": "code",
   "execution_count": 61,
   "metadata": {},
   "outputs": [
    {
     "name": "stdout",
     "output_type": "stream",
     "text": [
      "F_onewayResult(statistic=113.7962118086339, pvalue=4.438589600833857e-108)\n"
     ]
    }
   ],
   "source": [
    "print(stats.f_oneway(*zip(*list(res_test))))"
   ]
  },
  {
   "cell_type": "code",
   "execution_count": 62,
   "metadata": {},
   "outputs": [
    {
     "name": "stdout",
     "output_type": "stream",
     "text": [
      "KruskalResult(statistic=284.36447212090496, pvalue=1.7133755890884213e-54)\n"
     ]
    }
   ],
   "source": [
    "print(stats.kruskal(*zip(*list(res_test))))"
   ]
  },
  {
   "cell_type": "code",
   "execution_count": 63,
   "metadata": {},
   "outputs": [],
   "source": [
    "labels = [etiquetas[i] for i in range(res_test.shape[1]) for _ in range(res_test.shape[0])]\n",
    "arr_test = res_test.flatten('F')\n",
    "resultados = pairwise_tukeyhsd(arr_test,labels)\n",
    "# resultados.summary()"
   ]
  },
  {
   "cell_type": "code",
   "execution_count": 64,
   "metadata": {},
   "outputs": [],
   "source": [
    "#seleccionamos el que tiene mejor media y vemos en el anterior cuales son iguales\n",
    "best_group = np.argmax(np.mean(res_test, axis = 0))\n",
    "best_group = etiquetas[int(best_group)]"
   ]
  },
  {
   "cell_type": "code",
   "execution_count": 65,
   "metadata": {},
   "outputs": [
    {
     "name": "stdout",
     "output_type": "stream",
     "text": [
      "Figure(720x432)\n"
     ]
    },
    {
     "data": {
      "image/png": "[encoded data removed]",
      "text/plain": [
       "<Figure size 720x432 with 1 Axes>"
      ]
     },
     "metadata": {
      "needs_background": "light"
     },
     "output_type": "display_data"
    }
   ],
   "source": [
    "print(resultados.plot_simultaneous(comparison_name=best_group))"
   ]
  },
  {
   "cell_type": "code",
   "execution_count": 66,
   "metadata": {},
   "outputs": [],
   "source": [
    "resultados = resultados._results_table.data"
   ]
  },
  {
   "cell_type": "code",
   "execution_count": 67,
   "metadata": {},
   "outputs": [
    {
     "data": {
      "text/plain": [
       "['MLPR adam 30 relu',\n",
       " 'MLPR adam 30 tanh',\n",
       " 'MLPR adam 50 relu',\n",
       " 'MLPR adam 50 tanh']"
      ]
     },
     "execution_count": 67,
     "metadata": {},
     "output_type": "execute_result"
    }
   ],
   "source": [
    "group1 = resultados[0].index('group1')\n",
    "group2 = resultados[0].index('group2')\n",
    "reject = resultados[0].index('reject')\n",
    "best_groups = []\n",
    "for row in resultados[1:]:\n",
    "    if (row[group1] == str(best_group) or row[group2] == str(best_group)) and not row[reject]:\n",
    "        best_groups.append(row[group1])\n",
    "        best_groups.append(row[group2])\n",
    "best_groups.append(best_group)\n",
    "best_groups = set(best_groups)\n",
    "sorted(best_groups)"
   ]
  },
  {
   "cell_type": "code",
   "execution_count": 68,
   "metadata": {},
   "outputs": [],
   "source": [
    "def performance_indexes(CM, PositiveClass):\n",
    "    classNum = len(CM)\n",
    "    TP = CM[PositiveClass, PositiveClass]\n",
    "    TN = 0\n",
    "    FP = 0\n",
    "    FN = 0\n",
    "    for real in range(classNum):\n",
    "        for predicted in range(classNum):\n",
    "            if (real != PositiveClass and predicted != PositiveClass):\n",
    "                TN += CM[real, predicted]\n",
    "            if (real != PositiveClass and predicted == PositiveClass):\n",
    "                FP += CM[real, predicted]\n",
    "            if (real == PositiveClass and predicted != PositiveClass):\n",
    "                FN += CM[real, predicted]\n",
    "    Sens = TP/(TP+FN)\n",
    "    Spec = TN/(TN+FP)\n",
    "    PPV = TP/(TP+FP)\n",
    "    NPV = TN/(TN+FN)\n",
    "    ACC = (TP+TN)/(TP+TN+FP+FN)\n",
    "    return Sens,Spec,PPV,NPV,ACC"
   ]
  },
  {
   "cell_type": "code",
   "execution_count": 70,
   "metadata": {},
   "outputs": [
    {
     "name": "stdout",
     "output_type": "stream",
     "text": [
      "MLPR adam 30 relu -> Sens: 0.69 +- 0.07, Spec: 0.99 +- 0.00, PPV: 0.91 +- 0.03, NPV: 0.95 +- 0.01, ACC: 0.94 +- 0.01\n",
      "MLPR adam 30 tanh -> Sens: 0.76 +- 0.07, Spec: 0.99 +- 0.01, PPV: 0.91 +- 0.04, NPV: 0.96 +- 0.01, ACC: 0.95 +- 0.01\n",
      "MLPR adam 50 relu -> Sens: 0.72 +- 0.09, Spec: 0.99 +- 0.01, PPV: 0.92 +- 0.04, NPV: 0.95 +- 0.02, ACC: 0.95 +- 0.01\n",
      "MLPR adam 50 tanh -> Sens: 0.80 +- 0.04, Spec: 0.99 +- 0.01, PPV: 0.92 +- 0.03, NPV: 0.96 +- 0.01, ACC: 0.96 +- 0.01\n"
     ]
    }
   ],
   "source": [
    "for etiqueta in sorted(best_groups):\n",
    "    i = etiquetas.index(etiqueta)\n",
    "    m_min = i*30\n",
    "    m_max = (i+1)*30\n",
    "    current_model = model[m_min:m_max]\n",
    "    Sens_l = []\n",
    "    Spec_l = []\n",
    "    PPV_l = []\n",
    "    NPV_l = []\n",
    "    ACC_l = []\n",
    "    for idx, test_index in enumerate(test_indices[i]):\n",
    "        train_index = train_indices[i][idx]\n",
    "        X_train, y_train = X[train_index], y[train_index]\n",
    "        X_test, y_test = X[test_index], y[test_index]\n",
    "        X_train_pca, X_test_pca = principal_component_analisys(X_train, X_test, th)\n",
    "        y_pred = current_model[idx].predict(X_test_pca)\n",
    "        CM = confusion_matrix(y_test, y_pred)\n",
    "        Sens,Spec,PPV,NPV,ACC = performance_indexes(CM,1)\n",
    "        Sens_l.append(Sens)\n",
    "        Spec_l.append(Spec)\n",
    "        PPV_l.append(PPV)\n",
    "        NPV_l.append(NPV)\n",
    "        ACC_l.append(ACC)\n",
    "    print(etiqueta,('-> Sens: {:.2f} +- {:.2f}, Spec: {:.2f} +- {:.2f}, ' +\n",
    "           'PPV: {:.2f} +- {:.2f}, NPV: {:.2f} +- {:.2f}, ACC: {:.2f} +- {:.2f}').format(\n",
    "        np.mean(Sens_l), np.std(Sens_l),\n",
    "        np.mean(Spec_l), np.std(Spec_l),\n",
    "        np.mean(PPV_l), np.std(PPV_l),\n",
    "        np.mean(NPV_l), np.std(NPV_l),\n",
    "        np.mean(ACC_l), np.std(ACC_l)))"
   ]
  },
  {
   "cell_type": "code",
   "execution_count": 58,
   "metadata": {},
   "outputs": [
    {
     "name": "stdout",
     "output_type": "stream",
     "text": [
      "MLPR sgd 10 relu: 0.86 +- 0.02\n",
      "MLPR sgd 30 relu: 0.88 +- 0.02\n",
      "MLPR sgd 50 relu: 0.88 +- 0.03\n",
      "MLPR adam 10 relu: 0.90 +- 0.03\n",
      "MLPR adam 30 relu: 0.94 +- 0.01\n",
      "MLPR adam 50 relu: 0.95 +- 0.01\n",
      "MLPR sgd 10 tanh: 0.85 +- 0.02\n",
      "MLPR sgd 30 tanh: 0.88 +- 0.02\n",
      "MLPR sgd 50 tanh: 0.87 +- 0.02\n",
      "MLPR adam 10 tanh: 0.92 +- 0.02\n",
      "MLPR adam 30 tanh: 0.95 +- 0.01\n",
      "MLPR adam 50 tanh: 0.96 +- 0.01\n"
     ]
    }
   ],
   "source": [
    "for ind, tag in enumerate(etiquetas):\n",
    "    mean_test = np.mean(res_test[:,ind])\n",
    "    std_test = np.std(res_test[:,ind])\n",
    "    print('{}: {:.2f} +- {:.2f}'.format(tag, mean_test, std_test))"
   ]
  },
  {
   "cell_type": "markdown",
   "metadata": {},
   "source": [
    "---------------------------------------------------------------------------"
   ]
  },
  {
   "cell_type": "code",
   "execution_count": 39,
   "metadata": {},
   "outputs": [],
   "source": [
    "def exec_MLPC_SEL():\n",
    "    global resultados_train\n",
    "    global resultados_test\n",
    "    global res_train\n",
    "    global res_test\n",
    "    global model\n",
    "    global train_indices\n",
    "    global test_indices\n",
    "    global etiquetas\n",
    "    etiquetas.extend(['MLPR sgd 10 relu SEL',\n",
    "                 'MLPR sgd 30 relu SEL',\n",
    "                 'MLPR sgd 50 relu SEL',\n",
    "                 'MLPR adam 10 relu SEL',\n",
    "                 'MLPR adam 30 relu SEL',\n",
    "                 'MLPR adam 50 relu SEL'])\n",
    "    etiquetas.extend(['MLPR sgd 10 tanh SEL',\n",
    "                 'MLPR sgd 30 tanh SEL',\n",
    "                 'MLPR sgd 50 tanh SEL',\n",
    "                 'MLPR adam 10 tanh SEL',\n",
    "                 'MLPR adam 30 tanh SEL',\n",
    "                 'MLPR adam 50 tanh SEL'])\n",
    "    dicc = [{'hidden_layer_sizes': (10,), 'solver': 'sgd',  \n",
    "             'activation': 'relu','early_stopping': True, 'max_iter': 1500},\n",
    "            {'hidden_layer_sizes': (30,), 'solver': 'sgd',  \n",
    "             'activation': 'relu','early_stopping': True, 'max_iter': 1500},\n",
    "            {'hidden_layer_sizes': (50,), 'solver': 'sgd',  \n",
    "             'activation': 'relu','early_stopping': True, 'max_iter': 1500},\n",
    "            {'hidden_layer_sizes': (10,), 'solver': 'adam', \n",
    "             'activation': 'relu','early_stopping': True, 'max_iter': 1500},\n",
    "            {'hidden_layer_sizes': (30,), 'solver': 'adam', \n",
    "             'activation': 'relu','early_stopping': True, 'max_iter': 1500},\n",
    "            {'hidden_layer_sizes': (50,), 'solver': 'adam', \n",
    "             'activation': 'relu','early_stopping': True, 'max_iter': 1500},\n",
    "            {'hidden_layer_sizes': (10,), 'solver': 'sgd',  \n",
    "             'activation': 'tanh','early_stopping': True, 'max_iter': 1500},\n",
    "            {'hidden_layer_sizes': (30,), 'solver': 'sgd',  \n",
    "             'activation': 'tanh','early_stopping': True, 'max_iter': 1500},\n",
    "            {'hidden_layer_sizes': (50,), 'solver': 'sgd',  \n",
    "             'activation': 'tanh','early_stopping': True, 'max_iter': 1500},\n",
    "            {'hidden_layer_sizes': (10,), 'solver': 'adam', \n",
    "             'activation': 'tanh','early_stopping': True, 'max_iter': 1500},\n",
    "            {'hidden_layer_sizes': (30,), 'solver': 'adam', \n",
    "             'activation': 'tanh','early_stopping': True, 'max_iter': 1500},\n",
    "            {'hidden_layer_sizes': (50,), 'solver': 'adam', \n",
    "             'activation': 'tanh','early_stopping': True, 'max_iter': 1500}]\n",
    "\n",
    "    for i in range(len(dicc)):\n",
    "        train_indices2 = []\n",
    "        test_indices2 = []\n",
    "        for j in range(3):\n",
    "            for train_index, test_index in kf.split(X):\n",
    "                X_train, X_test = X[train_index],X[test_index]\n",
    "                y_train, y_test = y[train_index],y[test_index]\n",
    "                X_train_sel, X_test_sel = selector(X_train, X_test, y_train, 20)\n",
    "                train_indices2.append(train_index)\n",
    "                test_indices2.append(test_index)\n",
    "                alg = MLPClassifier(**dicc[i])\n",
    "                alg.fit(X_train_sel, y_train)\n",
    "                model.append(alg)\n",
    "                resultados_train.append(alg.score(X_train_sel, y_train))\n",
    "                resultados_test.append(alg.score(X_test_sel, y_test))\n",
    "        res_train = np.hstack((res_train, np.array(resultados_train,ndmin=2).T))\n",
    "        res_test = np.hstack((res_test, np.array(resultados_test,ndmin=2).T))\n",
    "        resultados_train = []\n",
    "        resultados_test = []\n",
    "        train_indices.append(train_indices2)\n",
    "        test_indices.append(test_indices2)"
   ]
  },
  {
   "cell_type": "code",
   "execution_count": 40,
   "metadata": {},
   "outputs": [],
   "source": [
    "# %%time\n",
    "# kf = KFold(n_splits=10,shuffle=True)\n",
    "# resultados_train = []\n",
    "# resultados_test = []\n",
    "# model = []\n",
    "# etiquetas.extend(['MLPR sgd 10 relu RFE'])\n",
    "# dicc = [{'hidden_layer_sizes': (10,), 'solver': 'sgd',  \n",
    "#              'activation': 'relu','early_stopping': True, 'max_iter': 1500}]\n",
    "# for train_index, test_index in kf.split(X):\n",
    "#     X_train, X_test = X[train_index],X[test_index]\n",
    "#     y_train, y_test = y[train_index],y[test_index]\n",
    "#     X_train_sel, X_test_sel = selector(X_train, X_test, y_train,25)\n",
    "#     alg = MLPClassifier(**dicc[0])\n",
    "#     alg.fit(X_train_sel, y_train)\n",
    "#     model.append(alg)\n",
    "#     resultados_train.append(alg.score(X_train_sel, y_train))\n",
    "#     resultados_test.append(alg.score(X_test_sel, y_test))"
   ]
  },
  {
   "cell_type": "code",
   "execution_count": 41,
   "metadata": {},
   "outputs": [
    {
     "name": "stdout",
     "output_type": "stream",
     "text": [
      "Wall time: 59min\n"
     ]
    }
   ],
   "source": [
    "%%time\n",
    "kf = KFold(n_splits=10,shuffle=True)\n",
    "resultados_train = []\n",
    "resultados_test = []\n",
    "model = []\n",
    "res_train = np.empty((30,0))\n",
    "res_test = np.empty((30,0))\n",
    "train_indices = []\n",
    "test_indices = []\n",
    "etiquetas = []\n",
    "exec_MLPC_SEL()"
   ]
  },
  {
   "cell_type": "code",
   "execution_count": 49,
   "metadata": {},
   "outputs": [],
   "source": [
    "with open('p5_musk_sel-res_test.bin','wb') as file:\n",
    "    pickle.dump(res_test, file)\n",
    "with open('p5_musk_sel-train_indices.bin','wb') as file:\n",
    "    pickle.dump(train_indices, file)\n",
    "with open('p5_musk_sel-test_indices.bin','wb') as file:\n",
    "    pickle.dump(test_indices, file)\n",
    "with open('p5_musk_sel-models.bin','wb') as file:\n",
    "    pickle.dump(model, file)\n",
    "with open('p5_musk_sel-etiquetas.bin','wb') as file:\n",
    "    pickle.dump(etiquetas, file)"
   ]
  },
  {
   "cell_type": "code",
   "execution_count": 71,
   "metadata": {},
   "outputs": [],
   "source": [
    "with open('p5_musk_sel-res_test.bin','rb') as file:\n",
    "    res_test = pickle.load(file)\n",
    "with open('p5_musk_sel-train_indices.bin','rb') as file:\n",
    "    train_indices = pickle.load(file)\n",
    "with open('p5_musk_sel-test_indices.bin','rb') as file:\n",
    "    test_indices = pickle.load(file)\n",
    "with open('p5_musk_sel-models.bin','rb') as file:\n",
    "    model = pickle.load(file)\n",
    "with open('p5_musk_sel-etiquetas.bin','rb') as file:\n",
    "    etiquetas = pickle.load(file)"
   ]
  },
  {
   "cell_type": "code",
   "execution_count": 72,
   "metadata": {},
   "outputs": [
    {
     "data": {
      "text/plain": [
       "array([0.15064254, 0.16635221, 0.2011954 , 0.45883512, 0.61186612,\n",
       "       0.84204465, 0.03361492, 0.55804765, 0.06829573, 0.7591756 ,\n",
       "       0.43802506, 0.19722869])"
      ]
     },
     "execution_count": 72,
     "metadata": {},
     "output_type": "execute_result"
    }
   ],
   "source": [
    "np.apply_along_axis(lambda x: stats.shapiro(x)[1], axis=0, arr=res_test)"
   ]
  },
  {
   "cell_type": "markdown",
   "metadata": {},
   "source": [
    "**Test ANOVA**"
   ]
  },
  {
   "cell_type": "code",
   "execution_count": 73,
   "metadata": {},
   "outputs": [
    {
     "name": "stdout",
     "output_type": "stream",
     "text": [
      "F_onewayResult(statistic=73.22237780765498, pvalue=1.3946981121558203e-83)\n"
     ]
    }
   ],
   "source": [
    "print(stats.f_oneway(*zip(*list(res_test))))"
   ]
  },
  {
   "cell_type": "code",
   "execution_count": 74,
   "metadata": {},
   "outputs": [
    {
     "name": "stdout",
     "output_type": "stream",
     "text": [
      "KruskalResult(statistic=266.3695110178175, pvalue=1.03417834692319e-50)\n"
     ]
    }
   ],
   "source": [
    "print(stats.kruskal(*zip(*list(res_test))))"
   ]
  },
  {
   "cell_type": "code",
   "execution_count": 75,
   "metadata": {},
   "outputs": [],
   "source": [
    "labels = [etiquetas[i] for i in range(res_test.shape[1]) for _ in range(res_test.shape[0])]\n",
    "arr_test = res_test.flatten('F')\n",
    "resultados = pairwise_tukeyhsd(arr_test,labels)\n",
    "# resultados.summary()"
   ]
  },
  {
   "cell_type": "code",
   "execution_count": 76,
   "metadata": {},
   "outputs": [],
   "source": [
    "#seleccionamos el que tiene mejor media y vemos en el anterior cuales son iguales\n",
    "best_group = np.argmax(np.mean(res_test, axis = 0))\n",
    "best_group = etiquetas[int(best_group)]"
   ]
  },
  {
   "cell_type": "code",
   "execution_count": 77,
   "metadata": {},
   "outputs": [
    {
     "name": "stdout",
     "output_type": "stream",
     "text": [
      "Figure(720x432)\n"
     ]
    },
    {
     "data": {
      "image/png": "[encoded data removed]",
      "text/plain": [
       "<Figure size 720x432 with 1 Axes>"
      ]
     },
     "metadata": {
      "needs_background": "light"
     },
     "output_type": "display_data"
    }
   ],
   "source": [
    "print(resultados.plot_simultaneous(comparison_name=best_group))"
   ]
  },
  {
   "cell_type": "code",
   "execution_count": 78,
   "metadata": {},
   "outputs": [],
   "source": [
    "resultados = resultados._results_table.data"
   ]
  },
  {
   "cell_type": "code",
   "execution_count": 79,
   "metadata": {},
   "outputs": [
    {
     "data": {
      "text/plain": [
       "['MLPR adam 30 relu SEL',\n",
       " 'MLPR adam 30 tanh SEL',\n",
       " 'MLPR adam 50 relu SEL',\n",
       " 'MLPR adam 50 tanh SEL']"
      ]
     },
     "execution_count": 79,
     "metadata": {},
     "output_type": "execute_result"
    }
   ],
   "source": [
    "group1 = resultados[0].index('group1')\n",
    "group2 = resultados[0].index('group2')\n",
    "reject = resultados[0].index('reject')\n",
    "best_groups = []\n",
    "for row in resultados[1:]:\n",
    "    if (row[group1] == str(best_group) or row[group2] == str(best_group)) and not row[reject]:\n",
    "        best_groups.append(row[group1])\n",
    "        best_groups.append(row[group2])\n",
    "best_groups.append(best_group)\n",
    "best_groups = set(best_groups)\n",
    "sorted(best_groups)"
   ]
  },
  {
   "cell_type": "code",
   "execution_count": 80,
   "metadata": {},
   "outputs": [],
   "source": [
    "def performance_indexes(CM, PositiveClass):\n",
    "    classNum = len(CM)\n",
    "    TP = CM[PositiveClass, PositiveClass]\n",
    "    TN = 0\n",
    "    FP = 0\n",
    "    FN = 0\n",
    "    for real in range(classNum):\n",
    "        for predicted in range(classNum):\n",
    "            if (real != PositiveClass and predicted != PositiveClass):\n",
    "                TN += CM[real, predicted]\n",
    "            if (real != PositiveClass and predicted == PositiveClass):\n",
    "                FP += CM[real, predicted]\n",
    "            if (real == PositiveClass and predicted != PositiveClass):\n",
    "                FN += CM[real, predicted]\n",
    "    Sens = TP/(TP+FN)\n",
    "    Spec = TN/(TN+FP)\n",
    "    PPV = TP/(TP+FP)\n",
    "    NPV = TN/(TN+FN)\n",
    "    ACC = (TP+TN)/(TP+TN+FP+FN)\n",
    "    return Sens,Spec,PPV,NPV,ACC"
   ]
  },
  {
   "cell_type": "code",
   "execution_count": 81,
   "metadata": {},
   "outputs": [
    {
     "name": "stdout",
     "output_type": "stream",
     "text": [
      "MLPR adam 30 relu SEL -> Sens: 0.68 +- 0.07, Spec: 0.99 +- 0.01, PPV: 0.91 +- 0.05, NPV: 0.94 +- 0.01, ACC: 0.94 +- 0.01\n",
      "MLPR adam 30 tanh SEL -> Sens: 0.63 +- 0.07, Spec: 0.99 +- 0.00, PPV: 0.88 +- 0.03, NPV: 0.94 +- 0.01, ACC: 0.93 +- 0.01\n",
      "MLPR adam 50 relu SEL -> Sens: 0.72 +- 0.06, Spec: 0.99 +- 0.01, PPV: 0.91 +- 0.04, NPV: 0.95 +- 0.01, ACC: 0.95 +- 0.01\n",
      "MLPR adam 50 tanh SEL -> Sens: 0.65 +- 0.09, Spec: 0.99 +- 0.01, PPV: 0.89 +- 0.05, NPV: 0.94 +- 0.02, ACC: 0.93 +- 0.02\n",
      "Wall time: 18min 12s\n"
     ]
    }
   ],
   "source": [
    "%%time\n",
    "for etiqueta in sorted(best_groups):\n",
    "    i = etiquetas.index(etiqueta)\n",
    "    m_min = i*30\n",
    "    m_max = (i+1)*30\n",
    "    current_model = model[m_min:m_max]\n",
    "    Sens_l = []\n",
    "    Spec_l = []\n",
    "    PPV_l = []\n",
    "    NPV_l = []\n",
    "    ACC_l = []\n",
    "    for idx, test_index in enumerate(test_indices[i]):\n",
    "        train_index = train_indices[i][idx]\n",
    "        X_train, y_train = X[train_index], y[train_index]\n",
    "        X_test, y_test = X[test_index], y[test_index]\n",
    "        X_train_sel, X_test_sel = selector(X_train,X_test, y_train, 20)\n",
    "        y_pred = current_model[idx].predict(X_test_sel)\n",
    "        CM = confusion_matrix(y_test, y_pred)\n",
    "        Sens,Spec,PPV,NPV,ACC = performance_indexes(CM,1)\n",
    "        Sens_l.append(Sens)\n",
    "        Spec_l.append(Spec)\n",
    "        PPV_l.append(PPV)\n",
    "        NPV_l.append(NPV)\n",
    "        ACC_l.append(ACC)\n",
    "    print(etiqueta,('-> Sens: {:.2f} +- {:.2f}, Spec: {:.2f} +- {:.2f}, ' +\n",
    "           'PPV: {:.2f} +- {:.2f}, NPV: {:.2f} +- {:.2f}, ACC: {:.2f} +- {:.2f}').format(\n",
    "        np.mean(Sens_l), np.std(Sens_l),\n",
    "        np.mean(Spec_l), np.std(Spec_l),\n",
    "        np.mean(PPV_l), np.std(PPV_l),\n",
    "        np.mean(NPV_l), np.std(NPV_l),\n",
    "        np.mean(ACC_l), np.std(ACC_l)))"
   ]
  },
  {
   "cell_type": "code",
   "execution_count": 56,
   "metadata": {},
   "outputs": [
    {
     "name": "stdout",
     "output_type": "stream",
     "text": [
      "MLPR sgd 10 relu SEL: 0.87 +- 0.03\n",
      "MLPR sgd 30 relu SEL: 0.88 +- 0.03\n",
      "MLPR sgd 50 relu SEL: 0.89 +- 0.02\n",
      "MLPR adam 10 relu SEL: 0.92 +- 0.01\n",
      "MLPR adam 30 relu SEL: 0.94 +- 0.01\n",
      "MLPR adam 50 relu SEL: 0.95 +- 0.01\n",
      "MLPR sgd 10 tanh SEL: 0.86 +- 0.03\n",
      "MLPR sgd 30 tanh SEL: 0.88 +- 0.03\n",
      "MLPR sgd 50 tanh SEL: 0.89 +- 0.01\n",
      "MLPR adam 10 tanh SEL: 0.92 +- 0.02\n",
      "MLPR adam 30 tanh SEL: 0.93 +- 0.01\n",
      "MLPR adam 50 tanh SEL: 0.93 +- 0.02\n"
     ]
    }
   ],
   "source": [
    "for ind, tag in enumerate(etiquetas):\n",
    "    mean_test = np.mean(res_test[:,ind])\n",
    "    std_test = np.std(res_test[:,ind])\n",
    "    print('{}: {:.2f} +- {:.2f}'.format(tag, mean_test, std_test))"
   ]
  }
 ],
 "metadata": {
  "kernelspec": {
   "display_name": "Python 3",
   "language": "python",
   "name": "python3"
  },
  "language_info": {
   "codemirror_mode": {
    "name": "ipython",
    "version": 3
   },
   "file_extension": ".py",
   "mimetype": "text/x-python",
   "name": "python",
   "nbconvert_exporter": "python",
   "pygments_lexer": "ipython3",
   "version": "3.7.1"
  }
 },
 "nbformat": 4,
 "nbformat_minor": 2
}
