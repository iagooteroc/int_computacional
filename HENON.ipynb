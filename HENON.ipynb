{
 "cells": [
  {
   "cell_type": "code",
   "execution_count": 1,
   "metadata": {},
   "outputs": [],
   "source": [
    "import numpy as np\n",
    "from sklearn.svm import SVR\n",
    "from sklearn.neural_network import MLPRegressor\n",
    "from sklearn.metrics import mean_squared_error\n",
    "from sklearn.pipeline import Pipeline\n",
    "from sklearn.model_selection import KFold\n",
    "from sklearn.model_selection import cross_val_predict\n",
    "from sklearn.preprocessing import StandardScaler\n",
    "from scipy import stats\n",
    "from statsmodels.stats.multicomp import (pairwise_tukeyhsd,\n",
    "                                         MultiComparison)\n",
    "from statsmodels.sandbox.stats.multicomp import TukeyHSDResults\n",
    "import pickle\n",
    "from sklearn.metrics import confusion_matrix"
   ]
  },
  {
   "cell_type": "code",
   "execution_count": 2,
   "metadata": {},
   "outputs": [],
   "source": [
    "def Henon(n):\n",
    "    a = 1.4\n",
    "    b = 0.3\n",
    "    x = np.zeros((n+1))\n",
    "    y = np.zeros((n+1))\n",
    "    for i in range(n):\n",
    "        x[i+1] = 1-a*x[i]*x[i] + y[i]\n",
    "        y[i+1] = b*x[i]\n",
    "    return (x,y)"
   ]
  },
  {
   "cell_type": "code",
   "execution_count": 3,
   "metadata": {},
   "outputs": [],
   "source": [
    "def Ventanas(x,size):\n",
    "    size += 1\n",
    "    arr = np.empty((0,size))\n",
    "    for i in range(len(x) - size):\n",
    "        arr = np.vstack((arr,x[i:i + size]))\n",
    "    return (arr[:,:-1],arr[:,-1])"
   ]
  },
  {
   "cell_type": "code",
   "execution_count": null,
   "metadata": {},
   "outputs": [],
   "source": [
    "Xinicial,_ = Henon(1000)\n",
    "X,y = Ventanas(Xinicial,25)\n",
    "#X,y = Ventanas(Xinicial,50)"
   ]
  },
  {
   "cell_type": "markdown",
   "metadata": {},
   "source": [
    "## Entrenamiento de Modelos"
   ]
  },
  {
   "cell_type": "markdown",
   "metadata": {},
   "source": [
    "**kFold - Support Vector Regression**"
   ]
  },
  {
   "cell_type": "code",
   "execution_count": null,
   "metadata": {},
   "outputs": [],
   "source": [
    "def SVR_multiple():\n",
    "    \n",
    "    global resultados_train\n",
    "    global resultados_test\n",
    "    global res_train\n",
    "    global res_test\n",
    "    global model\n",
    "    global train_indices\n",
    "    global test_indices\n",
    "    global etiquetas\n",
    "    \n",
    "    etiquetas.extend(['SVR linear C1',\n",
    "                 'SVR poly 2º C1',\n",
    "                 'SVR poly 3º C1',\n",
    "                 'SVR poly 4º C1',\n",
    "                 'SVR rfb auto C1',\n",
    "                 'SVR rfb 0.05 C1',\n",
    "                 'SVR rfb 0.1 C1',\n",
    "                 'SVR rfb 0.2 C1'])\n",
    "    etiquetas.extend(['SVR linear C100',\n",
    "                 'SVR poly 2º C100',\n",
    "                 'SVR poly 3º C100',\n",
    "                 'SVR poly 4º C100',\n",
    "                 'SVR rfb auto C100',\n",
    "                 'SVR rfb 0.05 C100',\n",
    "                 'SVR rfb 0.1 C100',\n",
    "                 'SVR rfb 0.2 C100'])\n",
    "    dicc = [{'C': 1.0, 'kernel': 'linear', 'degree': 1, 'gamma': 'auto', 'tol': 0.1},\n",
    "            {'C': 1.0, 'kernel': 'poly', 'degree': 2, 'gamma': 'auto', 'tol': 0.1},\n",
    "            {'C': 1.0, 'kernel': 'poly', 'degree': 3, 'gamma': 'auto', 'tol': 0.1},\n",
    "            {'C': 1.0, 'kernel': 'poly', 'degree': 4, 'gamma': 'auto', 'tol': 0.1},\n",
    "            {'C': 1.0, 'kernel': 'rbf', 'degree': 2, 'gamma': 'auto', 'tol': 0.1},\n",
    "            {'C': 1.0, 'kernel': 'rbf', 'degree': 2, 'gamma': 0.05, 'tol': 0.1},\n",
    "            {'C': 1.0, 'kernel': 'rbf', 'degree': 2, 'gamma': 0.1, 'tol': 0.1},\n",
    "            {'C': 1.0, 'kernel': 'rbf', 'degree': 2, 'gamma': 0.2, 'tol': 0.1},\n",
    "            {'C': 100.0, 'kernel': 'linear', 'degree': 1, 'gamma': 'auto', 'tol': 0.1},\n",
    "            {'C': 100.0, 'kernel': 'poly', 'degree': 2, 'gamma': 'auto', 'tol': 0.1},\n",
    "            {'C': 100.0, 'kernel': 'poly', 'degree': 3, 'gamma': 'auto', 'tol': 0.1},\n",
    "            {'C': 100.0, 'kernel': 'poly', 'degree': 4, 'gamma': 'auto', 'tol': 0.1},\n",
    "            {'C': 100.0, 'kernel': 'rbf', 'degree': 2, 'gamma': 'auto', 'tol': 0.1},\n",
    "            {'C': 100.0, 'kernel': 'rbf', 'degree': 2, 'gamma': 0.05, 'tol': 0.1},\n",
    "            {'C': 100.0, 'kernel': 'rbf', 'degree': 2, 'gamma': 0.1, 'tol': 0.1},\n",
    "            {'C': 100.0, 'kernel': 'rbf', 'degree': 2, 'gamma': 0.2, 'tol': 0.1}]\n",
    "\n",
    "    for i in range(len(dicc)):\n",
    "        train_indices2 = []\n",
    "        test_indices2 = []\n",
    "        for j in range(3):\n",
    "            for train_index, test_index in kf.split(X):\n",
    "                X_train, X_test,y_train, y_test = X[train_index],X[test_index],y[train_index],y[test_index]\n",
    "                train_indices2.append(train_index)\n",
    "                test_indices2.append(test_index)\n",
    "                alg = SVR(**dicc[i])\n",
    "                alg.fit(X_train, y_train)\n",
    "                model.append(alg)\n",
    "                y_pred_test = alg.predict(X_test)\n",
    "                y_pred_train = alg.predict(X_train)\n",
    "                resultados_train.append(mean_squared_error(y_train,y_pred_train))\n",
    "                resultados_test.append(mean_squared_error(y_test,y_pred_test))\n",
    "        res_train = np.hstack((res_train, np.array(resultados_train,ndmin=2).T))\n",
    "        res_test = np.hstack((res_test, np.array(resultados_test,ndmin=2).T))\n",
    "        resultados_train = []\n",
    "        resultados_test = []\n",
    "        test_indices.append(test_indices2)"
   ]
  },
  {
   "cell_type": "markdown",
   "metadata": {},
   "source": [
    "**kFold - Multi-layer Perceptron Regressor**"
   ]
  },
  {
   "cell_type": "code",
   "execution_count": null,
   "metadata": {},
   "outputs": [],
   "source": [
    "def MLP_multiple():\n",
    "    \n",
    "    global resultados_train\n",
    "    global resultados_test\n",
    "    global res_train\n",
    "    global res_test\n",
    "    global model\n",
    "    global train_indices\n",
    "    global test_indices\n",
    "    global etiquetas\n",
    "    \n",
    "    etiquetas.extend(['MLPR sgd 10 relu',\n",
    "                 'MLPR sgd 30 relu',\n",
    "                 'MLPR sgd 50 relu',\n",
    "                 'MLPR adam 10 relu',\n",
    "                 'MLPR adam 30 relu',\n",
    "                 'MLPR adam 50 relu'])\n",
    "    etiquetas.extend(['MLPR sgd 10 tanh',\n",
    "                 'MLPR sgd 30 tanh',\n",
    "                 'MLPR sgd 50 tanh',\n",
    "                 'MLPR adam 10 tanh',\n",
    "                 'MLPR adam 30 tanh',\n",
    "                 'MLPR adam 50 tanh'])\n",
    "    dicc = [{'hidden_layer_sizes': (10,), 'solver': 'sgd',  'activation': 'relu','early_stopping': True, 'max_iter': 1500},\n",
    "            {'hidden_layer_sizes': (30,), 'solver': 'sgd',  'activation': 'relu','early_stopping': True, 'max_iter': 1500},\n",
    "            {'hidden_layer_sizes': (50,), 'solver': 'sgd',  'activation': 'relu','early_stopping': True, 'max_iter': 1500},\n",
    "            {'hidden_layer_sizes': (10,), 'solver': 'adam', 'activation': 'relu','early_stopping': True, 'max_iter': 1500},\n",
    "            {'hidden_layer_sizes': (30,), 'solver': 'adam', 'activation': 'relu','early_stopping': True, 'max_iter': 1500},\n",
    "            {'hidden_layer_sizes': (50,), 'solver': 'adam', 'activation': 'relu','early_stopping': True, 'max_iter': 1500},\n",
    "            {'hidden_layer_sizes': (10,), 'solver': 'sgd',  'activation': 'tanh','early_stopping': True, 'max_iter': 1500},\n",
    "            {'hidden_layer_sizes': (30,), 'solver': 'sgd',  'activation': 'tanh','early_stopping': True, 'max_iter': 1500},\n",
    "            {'hidden_layer_sizes': (50,), 'solver': 'sgd',  'activation': 'tanh','early_stopping': True, 'max_iter': 1500},\n",
    "            {'hidden_layer_sizes': (10,), 'solver': 'adam', 'activation': 'tanh','early_stopping': True, 'max_iter': 1500},\n",
    "            {'hidden_layer_sizes': (30,), 'solver': 'adam', 'activation': 'tanh','early_stopping': True, 'max_iter': 1500},\n",
    "            {'hidden_layer_sizes': (50,), 'solver': 'adam', 'activation': 'tanh','early_stopping': True, 'max_iter': 1500}]\n",
    "\n",
    "    for i in range(len(dicc)):\n",
    "        train_indices2 = []\n",
    "        test_indices2 = []\n",
    "        for j in range(3):\n",
    "            for train_index, test_index in kf.split(X):\n",
    "                X_train, X_test,y_train, y_test = X[train_index],X[test_index],y[train_index],y[test_index]\n",
    "                train_indices2.append(train_index)\n",
    "                test_indices2.append(test_index)\n",
    "                alg = MLPRegressor(**dicc[i])\n",
    "                alg.fit(X_train, y_train)\n",
    "                model.append(alg)\n",
    "                y_pred_test = alg.predict(X_test)\n",
    "                y_pred_train = alg.predict(X_train)\n",
    "                resultados_train.append(mean_squared_error(y_train,y_pred_train))\n",
    "                resultados_test.append(mean_squared_error(y_test,y_pred_test))\n",
    "        res_train = np.hstack((res_train, np.array(resultados_train,ndmin=2).T))\n",
    "        res_test = np.hstack((res_test, np.array(resultados_test,ndmin=2).T))\n",
    "        resultados_train = []\n",
    "        resultados_test = []\n",
    "        train_indices.append(train_indices2)\n",
    "        test_indices.append(test_indices2)"
   ]
  },
  {
   "cell_type": "code",
   "execution_count": null,
   "metadata": {},
   "outputs": [],
   "source": [
    "#definicion de variables globales.\n",
    "kf = KFold(n_splits=10,shuffle=True)\n",
    "resultados_train = []\n",
    "resultados_test = []\n",
    "model = []\n",
    "res_train = np.empty((30,0))\n",
    "res_test = np.empty((30,0))\n",
    "train_indices = []\n",
    "test_indices = []\n",
    "etiquetas = []\n",
    "scaler = StandardScaler()\n",
    "\n",
    "Xinicial,_ = Henon(1000)\n",
    "\n",
    "for t_ventana in (25,50):\n",
    "    X,y = Ventanas(Xinicial, t_ventana)\n",
    "    X = scaler.fit_transform(X)\n",
    "    y = (y - np.mean(y))/np.std(y)\n",
    "\n",
    "    %time SVR_multiple()\n",
    "    %time MLP_multiple()\n"
   ]
  },
  {
   "cell_type": "markdown",
   "metadata": {},
   "source": [
    "**Persistencia**"
   ]
  },
  {
   "cell_type": "code",
   "execution_count": null,
   "metadata": {},
   "outputs": [],
   "source": [
    "with open('p4_henon-res_test.bin','wb') as file:\n",
    "    pickle.dump(res_test, file)\n",
    "with open('p4_henon-train_indices.bin','wb') as file:\n",
    "    pickle.dump(train_indices, file)\n",
    "with open('p4_henon-test_indices.bin','wb') as file:\n",
    "    pickle.dump(test_indices, file)\n",
    "with open('p4_henon-models.bin','wb') as file:\n",
    "    pickle.dump(model, file)"
   ]
  },
  {
   "cell_type": "code",
   "execution_count": null,
   "metadata": {},
   "outputs": [],
   "source": [
    "# with open('p4_henon-res_test.bin','rb') as file:\n",
    "#     res_test = pickle.load(file)\n",
    "# with open('p4_henon-train_indices.bin','wb') as file:\n",
    "#     train_indices = pickle.load(file)\n",
    "# with open('p4_henon-test_indices.bin','wb') as file:\n",
    "#     test_indices = pickle.load(file)\n",
    "# with open('p4_henon-models.bin','wb') as file:\n",
    "#     model = pickle.load(file)"
   ]
  },
  {
   "cell_type": "markdown",
   "metadata": {},
   "source": [
    "**Test de normalidad**  \n",
    "Rechazamos normalidad, realizamos el test no paramétrico de Kruskal-Wallis en lugar de un Anova "
   ]
  },
  {
   "cell_type": "code",
   "execution_count": null,
   "metadata": {},
   "outputs": [],
   "source": [
    "np.apply_along_axis(lambda x: stats.shapiro(x)[1], axis=0, arr=res_test)"
   ]
  },
  {
   "cell_type": "markdown",
   "metadata": {},
   "source": [
    "**Test de Kruskal-Wallis**  \n",
    "Rechazamos que las precisiones sean similares"
   ]
  },
  {
   "cell_type": "code",
   "execution_count": null,
   "metadata": {
    "scrolled": false
   },
   "outputs": [],
   "source": [
    "print(stats.kruskal(*zip(*list(res_test))))"
   ]
  },
  {
   "cell_type": "code",
   "execution_count": null,
   "metadata": {},
   "outputs": [],
   "source": [
    "labels = [etiquetas[i] for i in range(res_test.shape[1]) for _ in range(res_test.shape[0])]\n",
    "arr_test = res_test.flatten('F')\n",
    "resultados = pairwise_tukeyhsd(arr_test,labels)\n",
    "# resultados.summary()"
   ]
  },
  {
   "cell_type": "code",
   "execution_count": null,
   "metadata": {},
   "outputs": [],
   "source": [
    "#seleccionamos el que tiene mejor media y vemos en el anterior cuales son iguales\n",
    "best_group = np.argmin(np.mean(res_test, axis = 0))\n",
    "best_group = etiquetas[int(best_group)]"
   ]
  },
  {
   "cell_type": "code",
   "execution_count": null,
   "metadata": {},
   "outputs": [],
   "source": [
    "print(resultados.plot_simultaneous(comparison_name=best_group))"
   ]
  },
  {
   "cell_type": "code",
   "execution_count": null,
   "metadata": {},
   "outputs": [],
   "source": [
    "resultados = resultados._results_table.data"
   ]
  },
  {
   "cell_type": "code",
   "execution_count": null,
   "metadata": {},
   "outputs": [],
   "source": [
    "group1 = resultados[0].index('group1')\n",
    "group2 = resultados[0].index('group2')\n",
    "reject = resultados[0].index('reject')\n",
    "best_groups = []\n",
    "for row in resultados[1:]:\n",
    "    if (row[group1] == str(best_group) or row[group2] == str(best_group)) and not row[reject]:\n",
    "        best_groups.append(row[group1])\n",
    "        best_groups.append(row[group2])\n",
    "best_groups.append(best_group)\n",
    "best_groups = set(best_groups)\n",
    "sorted(best_groups)"
   ]
  },
  {
   "cell_type": "markdown",
   "metadata": {},
   "source": [
    "**Nos quedamos con el más sencillo**  \n",
    "El cual asumimos que es el MLPR con:\n",
    "- sgd (Stochastic Gradient Descent)  \n",
    "- relu (Rectified linear unit function)  \n",
    "- 10 neuronas en la capa oculta"
   ]
  },
  {
   "cell_type": "code",
   "execution_count": null,
   "metadata": {},
   "outputs": [],
   "source": [
    "for ind, tag in enumerate(best_groups):\n",
    "    mean_test = np.mean(res_test[:,ind])\n",
    "    std_test = np.std(res_test[:,ind])\n",
    "    print('{}: {:.2f} +- {:.2f}'.format(tag, mean_test, std_test))"
   ]
  }
 ],
 "metadata": {
  "kernelspec": {
   "display_name": "Python 3",
   "language": "python",
   "name": "python3"
  },
  "language_info": {
   "codemirror_mode": {
    "name": "ipython",
    "version": 3
   },
   "file_extension": ".py",
   "mimetype": "text/x-python",
   "name": "python",
   "nbconvert_exporter": "python",
   "pygments_lexer": "ipython3",
   "version": "3.6.7"
  }
 },
 "nbformat": 4,
 "nbformat_minor": 2
}
