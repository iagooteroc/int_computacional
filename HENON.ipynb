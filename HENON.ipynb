{
 "cells": [
  {
   "cell_type": "code",
   "execution_count": 1,
   "metadata": {},
   "outputs": [],
   "source": [
    "import numpy as np\n",
    "from sklearn.svm import SVR\n",
    "from sklearn.neural_network import MLPRegressor\n",
    "from sklearn.metrics import mean_squared_error\n",
    "from sklearn.pipeline import Pipeline\n",
    "from sklearn.model_selection import KFold\n",
    "from sklearn.model_selection import cross_val_predict\n",
    "from sklearn.preprocessing import StandardScaler\n",
    "from scipy import stats\n",
    "from statsmodels.stats.multicomp import (pairwise_tukeyhsd,\n",
    "                                         MultiComparison)\n",
    "from statsmodels.sandbox.stats.multicomp import TukeyHSDResults\n",
    "import pickle\n",
    "from sklearn.metrics import confusion_matrix"
   ]
  },
  {
   "cell_type": "code",
   "execution_count": 2,
   "metadata": {},
   "outputs": [],
   "source": [
    "def Henon(n):\n",
    "    a = 1.4\n",
    "    b = 0.3\n",
    "    x = np.zeros((n+1))\n",
    "    y = np.zeros((n+1))\n",
    "    for i in range(n):\n",
    "        x[i+1] = 1-a*x[i]*x[i] + y[i]\n",
    "        y[i+1] = b*x[i]\n",
    "    return (x,y)"
   ]
  },
  {
   "cell_type": "code",
   "execution_count": 3,
   "metadata": {},
   "outputs": [],
   "source": [
    "def Ventanas(x,size):\n",
    "    size += 1\n",
    "    arr = np.empty((0,size))\n",
    "    for i in range(len(x) - size):\n",
    "        arr = np.vstack((arr,x[i:i + size]))\n",
    "    return (arr[:,:-1],arr[:,-1])"
   ]
  },
  {
   "cell_type": "markdown",
   "metadata": {},
   "source": [
    "## Entrenamiento de Modelos"
   ]
  },
  {
   "cell_type": "markdown",
   "metadata": {},
   "source": [
    "**kFold - Support Vector Regression**"
   ]
  },
  {
   "cell_type": "code",
   "execution_count": 4,
   "metadata": {},
   "outputs": [],
   "source": [
    "def SVR_multiple():\n",
    "    \n",
    "    global resultados_train\n",
    "    global resultados_test\n",
    "    global res_train\n",
    "    global res_test\n",
    "    global model\n",
    "    global train_indices\n",
    "    global test_indices\n",
    "    global etiquetas\n",
    "    \n",
    "    etiquetas.extend(['SVR linear C1',\n",
    "                 'SVR poly 2º C1',\n",
    "                 'SVR poly 3º C1',\n",
    "                 'SVR poly 4º C1',\n",
    "                 'SVR rfb auto C1',\n",
    "                 'SVR rfb 0.05 C1',\n",
    "                 'SVR rfb 0.1 C1',\n",
    "                 'SVR rfb 0.2 C1'])\n",
    "    etiquetas.extend(['SVR linear C100',\n",
    "                 'SVR poly 2º C100',\n",
    "                 'SVR poly 3º C100',\n",
    "                 'SVR poly 4º C100',\n",
    "                 'SVR rfb auto C100',\n",
    "                 'SVR rfb 0.05 C100',\n",
    "                 'SVR rfb 0.1 C100',\n",
    "                 'SVR rfb 0.2 C100'])\n",
    "    dicc = [{'C': 1.0, 'kernel': 'linear', 'degree': 1, 'gamma': 'auto', 'tol': 0.1},\n",
    "            {'C': 1.0, 'kernel': 'poly', 'degree': 2, 'gamma': 'auto', 'tol': 0.1},\n",
    "            {'C': 1.0, 'kernel': 'poly', 'degree': 3, 'gamma': 'auto', 'tol': 0.1},\n",
    "            {'C': 1.0, 'kernel': 'poly', 'degree': 4, 'gamma': 'auto', 'tol': 0.1},\n",
    "            {'C': 1.0, 'kernel': 'rbf', 'degree': 2, 'gamma': 'auto', 'tol': 0.1},\n",
    "            {'C': 1.0, 'kernel': 'rbf', 'degree': 2, 'gamma': 0.05, 'tol': 0.1},\n",
    "            {'C': 1.0, 'kernel': 'rbf', 'degree': 2, 'gamma': 0.1, 'tol': 0.1},\n",
    "            {'C': 1.0, 'kernel': 'rbf', 'degree': 2, 'gamma': 0.2, 'tol': 0.1},\n",
    "            {'C': 100.0, 'kernel': 'linear', 'degree': 1, 'gamma': 'auto', 'tol': 0.1},\n",
    "            {'C': 100.0, 'kernel': 'poly', 'degree': 2, 'gamma': 'auto', 'tol': 0.1},\n",
    "            {'C': 100.0, 'kernel': 'poly', 'degree': 3, 'gamma': 'auto', 'tol': 0.1},\n",
    "            {'C': 100.0, 'kernel': 'poly', 'degree': 4, 'gamma': 'auto', 'tol': 0.1},\n",
    "            {'C': 100.0, 'kernel': 'rbf', 'degree': 2, 'gamma': 'auto', 'tol': 0.1},\n",
    "            {'C': 100.0, 'kernel': 'rbf', 'degree': 2, 'gamma': 0.05, 'tol': 0.1},\n",
    "            {'C': 100.0, 'kernel': 'rbf', 'degree': 2, 'gamma': 0.1, 'tol': 0.1},\n",
    "            {'C': 100.0, 'kernel': 'rbf', 'degree': 2, 'gamma': 0.2, 'tol': 0.1}]\n",
    "\n",
    "    for i in range(len(dicc)):\n",
    "        train_indices2 = []\n",
    "        test_indices2 = []\n",
    "        for j in range(3):\n",
    "            for train_index, test_index in kf.split(X):\n",
    "                X_train, X_test,y_train, y_test = X[train_index],X[test_index],y[train_index],y[test_index]\n",
    "                train_indices2.append(train_index)\n",
    "                test_indices2.append(test_index)\n",
    "                alg = SVR(**dicc[i])\n",
    "                alg.fit(X_train, y_train)\n",
    "                model.append(alg)\n",
    "                y_pred_test = alg.predict(X_test)\n",
    "                y_pred_train = alg.predict(X_train)\n",
    "                resultados_train.append(mean_squared_error(y_train,y_pred_train))\n",
    "                resultados_test.append(mean_squared_error(y_test,y_pred_test))\n",
    "        res_train = np.hstack((res_train, np.array(resultados_train,ndmin=2).T))\n",
    "        res_test = np.hstack((res_test, np.array(resultados_test,ndmin=2).T))\n",
    "        resultados_train = []\n",
    "        resultados_test = []\n",
    "        test_indices.append(test_indices2)"
   ]
  },
  {
   "cell_type": "markdown",
   "metadata": {},
   "source": [
    "**kFold - Multi-layer Perceptron Regressor**"
   ]
  },
  {
   "cell_type": "code",
   "execution_count": 5,
   "metadata": {},
   "outputs": [],
   "source": [
    "def MLP_multiple():\n",
    "    \n",
    "    global resultados_train\n",
    "    global resultados_test\n",
    "    global res_train\n",
    "    global res_test\n",
    "    global model\n",
    "    global train_indices\n",
    "    global test_indices\n",
    "    global etiquetas\n",
    "    \n",
    "    etiquetas.extend(['MLPR sgd 10 relu',\n",
    "                 'MLPR sgd 30 relu',\n",
    "                 'MLPR sgd 50 relu',\n",
    "                 'MLPR adam 10 relu',\n",
    "                 'MLPR adam 30 relu',\n",
    "                 'MLPR adam 50 relu'])\n",
    "    etiquetas.extend(['MLPR sgd 10 tanh',\n",
    "                 'MLPR sgd 30 tanh',\n",
    "                 'MLPR sgd 50 tanh',\n",
    "                 'MLPR adam 10 tanh',\n",
    "                 'MLPR adam 30 tanh',\n",
    "                 'MLPR adam 50 tanh'])\n",
    "    dicc = [{'hidden_layer_sizes': (10,), 'solver': 'sgd',  'activation': 'relu','early_stopping': True, 'max_iter': 1500},\n",
    "            {'hidden_layer_sizes': (30,), 'solver': 'sgd',  'activation': 'relu','early_stopping': True, 'max_iter': 1500},\n",
    "            {'hidden_layer_sizes': (50,), 'solver': 'sgd',  'activation': 'relu','early_stopping': True, 'max_iter': 1500},\n",
    "            {'hidden_layer_sizes': (10,), 'solver': 'adam', 'activation': 'relu','early_stopping': True, 'max_iter': 1500},\n",
    "            {'hidden_layer_sizes': (30,), 'solver': 'adam', 'activation': 'relu','early_stopping': True, 'max_iter': 1500},\n",
    "            {'hidden_layer_sizes': (50,), 'solver': 'adam', 'activation': 'relu','early_stopping': True, 'max_iter': 1500},\n",
    "            {'hidden_layer_sizes': (10,), 'solver': 'sgd',  'activation': 'tanh','early_stopping': True, 'max_iter': 1500},\n",
    "            {'hidden_layer_sizes': (30,), 'solver': 'sgd',  'activation': 'tanh','early_stopping': True, 'max_iter': 1500},\n",
    "            {'hidden_layer_sizes': (50,), 'solver': 'sgd',  'activation': 'tanh','early_stopping': True, 'max_iter': 1500},\n",
    "            {'hidden_layer_sizes': (10,), 'solver': 'adam', 'activation': 'tanh','early_stopping': True, 'max_iter': 1500},\n",
    "            {'hidden_layer_sizes': (30,), 'solver': 'adam', 'activation': 'tanh','early_stopping': True, 'max_iter': 1500},\n",
    "            {'hidden_layer_sizes': (50,), 'solver': 'adam', 'activation': 'tanh','early_stopping': True, 'max_iter': 1500}]\n",
    "\n",
    "    for i in range(len(dicc)):\n",
    "        train_indices2 = []\n",
    "        test_indices2 = []\n",
    "        for j in range(3):\n",
    "            for train_index, test_index in kf.split(X):\n",
    "                X_train, X_test,y_train, y_test = X[train_index],X[test_index],y[train_index],y[test_index]\n",
    "                train_indices2.append(train_index)\n",
    "                test_indices2.append(test_index)\n",
    "                alg = MLPRegressor(**dicc[i])\n",
    "                alg.fit(X_train, y_train)\n",
    "                model.append(alg)\n",
    "                y_pred_test = alg.predict(X_test)\n",
    "                y_pred_train = alg.predict(X_train)\n",
    "                resultados_train.append(mean_squared_error(y_train,y_pred_train))\n",
    "                resultados_test.append(mean_squared_error(y_test,y_pred_test))\n",
    "        res_train = np.hstack((res_train, np.array(resultados_train,ndmin=2).T))\n",
    "        res_test = np.hstack((res_test, np.array(resultados_test,ndmin=2).T))\n",
    "        resultados_train = []\n",
    "        resultados_test = []\n",
    "        train_indices.append(train_indices2)\n",
    "        test_indices.append(test_indices2)"
   ]
  },
  {
   "cell_type": "code",
   "execution_count": 6,
   "metadata": {},
   "outputs": [
    {
     "name": "stdout",
     "output_type": "stream",
     "text": [
      "CPU times: user 5.17 s, sys: 0 ns, total: 5.17 s\n",
      "Wall time: 5.17 s\n"
     ]
    },
    {
     "name": "stderr",
     "output_type": "stream",
     "text": [
      "/home/diego/.local/lib/python3.6/site-packages/sklearn/neural_network/multilayer_perceptron.py:562: ConvergenceWarning: Stochastic Optimizer: Maximum iterations (1500) reached and the optimization hasn't converged yet.\n",
      "  % self.max_iter, ConvergenceWarning)\n",
      "/home/diego/.local/lib/python3.6/site-packages/sklearn/neural_network/multilayer_perceptron.py:562: ConvergenceWarning: Stochastic Optimizer: Maximum iterations (1500) reached and the optimization hasn't converged yet.\n",
      "  % self.max_iter, ConvergenceWarning)\n"
     ]
    },
    {
     "name": "stdout",
     "output_type": "stream",
     "text": [
      "CPU times: user 1min 33s, sys: 438 ms, total: 1min 34s\n",
      "Wall time: 1min 34s\n",
      "CPU times: user 916 ms, sys: 1e+03 ns, total: 916 ms\n",
      "Wall time: 916 ms\n",
      "CPU times: user 46.9 s, sys: 0 ns, total: 46.9 s\n",
      "Wall time: 46.9 s\n"
     ]
    }
   ],
   "source": [
    "#definicion de variables globales.\n",
    "Xinicial,_ = Henon(5000)    \n",
    "for t_ventana in (25,50):    \n",
    "    kf = KFold(n_splits=10,shuffle=True)\n",
    "    resultados_train = []\n",
    "    resultados_test = []\n",
    "    model = []\n",
    "    res_train = np.empty((30,0))\n",
    "    res_test = np.empty((30,0))\n",
    "    train_indices = []\n",
    "    test_indices = []\n",
    "    etiquetas = []\n",
    "    scaler = StandardScaler()\n",
    "    \n",
    "    X,y = Ventanas(Xinicial, t_ventana)\n",
    "    X = scaler.fit_transform(X)\n",
    "    y = (y - np.mean(y))/np.std(y)\n",
    "\n",
    "    %time SVR_multiple()\n",
    "    %time MLP_multiple()\n",
    "    \n",
    "    #Persistencia\n",
    "    with open('p4_henon-res_test_{}.bin'.format(t_ventana),'wb') as file:\n",
    "        pickle.dump(res_test, file)\n",
    "    with open('p4_henon-train_indices_{}.bin'.format(t_ventana),'wb') as file:\n",
    "        pickle.dump(train_indices, file)\n",
    "    with open('p4_henon-test_indices_{}.bin'.format(t_ventana),'wb') as file:\n",
    "        pickle.dump(test_indices, file)\n",
    "    with open('p4_henon-models_{}.bin'.format(t_ventana),'wb') as file:\n",
    "        pickle.dump(model, file)"
   ]
  },
  {
   "cell_type": "markdown",
   "metadata": {},
   "source": [
    "**Persistencia**"
   ]
  },
  {
   "cell_type": "code",
   "execution_count": 17,
   "metadata": {},
   "outputs": [],
   "source": [
    "with open('p4_henon-res_test_25.bin','rb') as file:\n",
    "    res_test = pickle.load(file)"
   ]
  },
  {
   "cell_type": "markdown",
   "metadata": {},
   "source": [
    "**Test de normalidad**  \n",
    "Rechazamos normalidad, realizamos el test no paramétrico de Kruskal-Wallis en lugar de un Anova "
   ]
  },
  {
   "cell_type": "code",
   "execution_count": 18,
   "metadata": {},
   "outputs": [
    {
     "data": {
      "text/plain": [
       "array([4.30830078e-05, 4.28321324e-02, 5.10826297e-02, 7.50823840e-02,\n",
       "       2.06763409e-02, 2.19719615e-02, 2.62150373e-02, 4.47124392e-01,\n",
       "       6.65682554e-01, 2.69603506e-02, 8.55654944e-03, 9.26606543e-03,\n",
       "       5.95204830e-02, 1.54023496e-02, 7.72894770e-02, 1.11098520e-01,\n",
       "       4.69925284e-01, 9.58248377e-02, 3.24307412e-01, 6.89455569e-02,\n",
       "       4.54360396e-02, 2.87630805e-03, 5.79828359e-02, 1.47948205e-01,\n",
       "       2.97158696e-02, 1.71597674e-02, 6.25629947e-02, 3.73377523e-04])"
      ]
     },
     "execution_count": 18,
     "metadata": {},
     "output_type": "execute_result"
    }
   ],
   "source": [
    "np.apply_along_axis(lambda x: stats.shapiro(x)[1], axis=0, arr=res_test)"
   ]
  },
  {
   "cell_type": "markdown",
   "metadata": {},
   "source": [
    "**Test de Kruskal-Wallis**  \n",
    "Rechazamos que las precisiones sean similares"
   ]
  },
  {
   "cell_type": "code",
   "execution_count": 19,
   "metadata": {
    "scrolled": false
   },
   "outputs": [
    {
     "name": "stdout",
     "output_type": "stream",
     "text": [
      "KruskalResult(statistic=165.2901704320252, pvalue=8.126950343363039e-22)\n"
     ]
    }
   ],
   "source": [
    "print(stats.kruskal(*zip(*list(res_test))))"
   ]
  },
  {
   "cell_type": "code",
   "execution_count": 20,
   "metadata": {},
   "outputs": [],
   "source": [
    "labels = [etiquetas[i] for i in range(res_test.shape[1]) for _ in range(res_test.shape[0])]\n",
    "arr_test = res_test.flatten('F')\n",
    "resultados = pairwise_tukeyhsd(arr_test,labels)\n",
    "# resultados.summary()"
   ]
  },
  {
   "cell_type": "code",
   "execution_count": 21,
   "metadata": {},
   "outputs": [],
   "source": [
    "#seleccionamos el que tiene mejor media y vemos en el anterior cuales son iguales\n",
    "best_group = np.argmin(np.mean(res_test, axis = 0))\n",
    "best_group = etiquetas[int(best_group)]"
   ]
  },
  {
   "cell_type": "code",
   "execution_count": 22,
   "metadata": {},
   "outputs": [
    {
     "name": "stdout",
     "output_type": "stream",
     "text": [
      "Figure(720x432)\n"
     ]
    },
    {
     "data": {
      "image/png": "[encoded data removed]",
      "text/plain": [
       "<Figure size 720x432 with 1 Axes>"
      ]
     },
     "metadata": {
      "needs_background": "light"
     },
     "output_type": "display_data"
    }
   ],
   "source": [
    "print(resultados.plot_simultaneous(comparison_name=best_group))"
   ]
  },
  {
   "cell_type": "code",
   "execution_count": 23,
   "metadata": {},
   "outputs": [],
   "source": [
    "resultados = resultados._results_table.data"
   ]
  },
  {
   "cell_type": "code",
   "execution_count": 24,
   "metadata": {},
   "outputs": [
    {
     "data": {
      "text/plain": [
       "['MLPR adam 50 relu',\n",
       " 'MLPR adam 50 tanh',\n",
       " 'MLPR sgd 10 tanh',\n",
       " 'MLPR sgd 30 tanh',\n",
       " 'SVR poly 2º C1',\n",
       " 'SVR poly 2º C100',\n",
       " 'SVR poly 3º C1',\n",
       " 'SVR poly 3º C100',\n",
       " 'SVR poly 4º C1',\n",
       " 'SVR poly 4º C100',\n",
       " 'SVR rfb 0.05 C1',\n",
       " 'SVR rfb 0.05 C100',\n",
       " 'SVR rfb 0.1 C1',\n",
       " 'SVR rfb 0.1 C100',\n",
       " 'SVR rfb 0.2 C1',\n",
       " 'SVR rfb 0.2 C100',\n",
       " 'SVR rfb auto C1',\n",
       " 'SVR rfb auto C100']"
      ]
     },
     "execution_count": 24,
     "metadata": {},
     "output_type": "execute_result"
    }
   ],
   "source": [
    "group1 = resultados[0].index('group1')\n",
    "group2 = resultados[0].index('group2')\n",
    "reject = resultados[0].index('reject')\n",
    "best_groups = []\n",
    "for row in resultados[1:]:\n",
    "    if (row[group1] == str(best_group) or row[group2] == str(best_group)) and not row[reject]:\n",
    "        best_groups.append(row[group1])\n",
    "        best_groups.append(row[group2])\n",
    "best_groups.append(best_group)\n",
    "best_groups = set(best_groups)\n",
    "sorted(best_groups)"
   ]
  },
  {
   "cell_type": "markdown",
   "metadata": {},
   "source": [
    "**Nos quedamos con el más sencillo**  \n",
    "El cual asumimos que es el MLPR con:\n",
    "- sgd (Stochastic Gradient Descent)  \n",
    "- relu (Rectified linear unit function)  \n",
    "- 10 neuronas en la capa oculta"
   ]
  },
  {
   "cell_type": "code",
   "execution_count": 25,
   "metadata": {},
   "outputs": [
    {
     "name": "stdout",
     "output_type": "stream",
     "text": [
      "MLPR sgd 30 tanh: 1.61 +- 0.73\n",
      "MLPR sgd 10 tanh: 0.91 +- 0.43\n",
      "SVR rfb auto C100: 0.78 +- 0.38\n",
      "SVR poly 3º C1: 0.79 +- 0.38\n",
      "SVR rfb 0.2 C100: 0.84 +- 0.35\n",
      "SVR rfb auto C1: 0.75 +- 0.38\n",
      "SVR rfb 0.05 C100: 0.82 +- 0.41\n",
      "SVR rfb 0.1 C1: 0.89 +- 0.36\n",
      "SVR poly 4º C100: 1.54 +- 0.50\n",
      "SVR poly 4º C1: 0.94 +- 0.43\n",
      "SVR poly 3º C100: 0.75 +- 0.44\n",
      "SVR rfb 0.2 C1: 0.75 +- 0.42\n",
      "SVR rfb 0.1 C100: 0.71 +- 0.30\n",
      "MLPR adam 50 relu: 0.68 +- 0.35\n",
      "SVR rfb 0.05 C1: 0.77 +- 0.36\n",
      "MLPR adam 50 tanh: 0.85 +- 0.33\n",
      "SVR poly 2º C100: 1.21 +- 0.49\n",
      "SVR poly 2º C1: 1.29 +- 0.59\n"
     ]
    }
   ],
   "source": [
    "for ind, tag in enumerate(best_groups):\n",
    "    mean_test = np.mean(res_test[:,ind])\n",
    "    std_test = np.std(res_test[:,ind])\n",
    "    print('{}: {:.2f} +- {:.2f}'.format(tag, mean_test, std_test))"
   ]
  }
 ],
 "metadata": {
  "kernelspec": {
   "display_name": "Python 3",
   "language": "python",
   "name": "python3"
  },
  "language_info": {
   "codemirror_mode": {
    "name": "ipython",
    "version": 3
   },
   "file_extension": ".py",
   "mimetype": "text/x-python",
   "name": "python",
   "nbconvert_exporter": "python",
   "pygments_lexer": "ipython3",
   "version": "3.6.7"
  }
 },
 "nbformat": 4,
 "nbformat_minor": 2
}
