{
 "cells": [
  {
   "cell_type": "code",
   "execution_count": 1,
   "metadata": {},
   "outputs": [],
   "source": [
    "import numpy as np\n",
    "from sklearn.svm import SVR\n",
    "from sklearn.metrics import mean_squared_error\n",
    "from sklearn.pipeline import Pipeline\n",
    "from sklearn.model_selection import KFold\n",
    "from sklearn.model_selection import cross_val_predict\n",
    "from sklearn.preprocessing import StandardScaler"
   ]
  },
  {
   "cell_type": "code",
   "execution_count": 2,
   "metadata": {},
   "outputs": [],
   "source": [
    "def Henon(n):\n",
    "    a = 1.4\n",
    "    b = 0.3\n",
    "    x = np.zeros((n+1))\n",
    "    y = np.zeros((n+1))\n",
    "    for i in range(n):\n",
    "        x[i+1] = 1-a*x[i]*x[i] + y[i]\n",
    "        y[i+1] = b*x[i]\n",
    "    return (x,y)\n",
    "\n",
    "    "
   ]
  },
  {
   "cell_type": "code",
   "execution_count": 3,
   "metadata": {},
   "outputs": [],
   "source": [
    "def Ventanas(x,size):\n",
    "    size += 1\n",
    "    arr = np.empty((0,size))\n",
    "    for i in range(len(x) - size):\n",
    "        arr = np.vstack((arr,x[i:i + size]))\n",
    "    return (arr[:,:-1],arr[:,-1])\n",
    "\n",
    "    "
   ]
  },
  {
   "cell_type": "code",
   "execution_count": 4,
   "metadata": {},
   "outputs": [
    {
     "data": {
      "text/plain": [
       "(array([[ 0.        ,  1.        ],\n",
       "        [ 1.        , -0.4       ],\n",
       "        [-0.4       ,  1.076     ],\n",
       "        [ 1.076     , -0.7408864 ],\n",
       "        [-0.7408864 ,  0.55432228],\n",
       "        [ 0.55432228,  0.34755162],\n",
       "        [ 0.34755162,  0.99718771],\n",
       "        [ 0.99718771, -0.28787117]]),\n",
       " array([-0.4       ,  1.076     , -0.7408864 ,  0.55432228,  0.34755162,\n",
       "         0.99718771, -0.28787117,  1.18313858]))"
      ]
     },
     "execution_count": 4,
     "metadata": {},
     "output_type": "execute_result"
    }
   ],
   "source": [
    "Ventanas(Henon(10)[0],2)"
   ]
  },
  {
   "cell_type": "code",
   "execution_count": 5,
   "metadata": {},
   "outputs": [],
   "source": [
    "Xinicial,_ = Henon(100)\n",
    "X,y = Ventanas(Xinicial,25)"
   ]
  },
  {
   "cell_type": "markdown",
   "metadata": {},
   "source": [
    "Estandarizamos los datos."
   ]
  },
  {
   "cell_type": "code",
   "execution_count": 6,
   "metadata": {},
   "outputs": [],
   "source": [
    "scaler = StandardScaler()\n",
    "X = scaler.fit_transform(X)\n",
    "y = (y - np.mean(y))/np.std(y)\n"
   ]
  },
  {
   "cell_type": "code",
   "execution_count": 7,
   "metadata": {},
   "outputs": [],
   "source": [
    "kf = KFold(n_splits=10,shuffle=True)\n",
    "resultados_train = []\n",
    "resultados_test = []\n",
    "model = []\n",
    "res_train = np.empty((30,0))\n",
    "res_test = np.empty((30,0))\n",
    "test_indices = []\n",
    "etiquetas = []\n",
    "dicc = [{'kernel': 'rbf','tol': 0.1,'gamma':'auto'}]\n",
    "\n",
    "for i in range(len(dicc)):\n",
    "    test_indices2 = []\n",
    "    for j in range(3):\n",
    "        for train_index, test_index in kf.split(X):\n",
    "    #         train_test_split del conjunto train y pillar 1/9 para validación\n",
    "            X_train, X_test,y_train, y_test = X[train_index],X[test_index],y[train_index],y[test_index]\n",
    "            \n",
    "            test_indices2.append(test_index)\n",
    "    #         print('X_train: {}\\n, X_valid: {}\\n, X_test: {}'.format(X_train, X_valid, X_test))\n",
    "            alg = SVR(**dicc[i])\n",
    "            alg.fit(X_train, y_train)\n",
    "            model.append(alg)\n",
    "            y_pred_test = alg.predict(X_test)\n",
    "            y_pred_train = alg.predict(X_train)\n",
    "            resultados_train.append(mean_squared_error(y_train,y_pred_train))\n",
    "            resultados_test.append(mean_squared_error(y_test,y_pred_test))\n",
    "    \n",
    "    res_train = np.hstack((res_train, np.array(resultados_train,ndmin=2).T))\n",
    "    res_test = np.hstack((res_test, np.array(resultados_test,ndmin=2).T))\n",
    "    resultados_train = []\n",
    "    resultados_test = []\n",
    "    test_indices.append(test_indices2)\n",
    "\n",
    "    \n",
    "            "
   ]
  },
  {
   "cell_type": "code",
   "execution_count": 10,
   "metadata": {},
   "outputs": [
    {
     "data": {
      "text/plain": [
       "array([[0.70164669],\n",
       "       [0.67695508],\n",
       "       [0.45672216],\n",
       "       [0.50206599],\n",
       "       [0.98037887],\n",
       "       [0.62439476],\n",
       "       [0.42390006],\n",
       "       [1.1162334 ],\n",
       "       [1.38668978],\n",
       "       [0.80517382],\n",
       "       [0.57991978],\n",
       "       [0.87553679],\n",
       "       [0.68189836],\n",
       "       [0.34411046],\n",
       "       [0.14816608],\n",
       "       [1.13693937],\n",
       "       [0.77595326],\n",
       "       [1.09771597],\n",
       "       [0.36154011],\n",
       "       [1.21837756],\n",
       "       [0.58381108],\n",
       "       [0.6685601 ],\n",
       "       [0.79790681],\n",
       "       [0.47086448],\n",
       "       [0.57606575],\n",
       "       [0.86000137],\n",
       "       [0.83593131],\n",
       "       [0.27558717],\n",
       "       [2.14672089],\n",
       "       [0.53781339]])"
      ]
     },
     "execution_count": 10,
     "metadata": {},
     "output_type": "execute_result"
    }
   ],
   "source": [
    "res_test"
   ]
  }
 ],
 "metadata": {
  "kernelspec": {
   "display_name": "Python 3",
   "language": "python",
   "name": "python3"
  },
  "language_info": {
   "codemirror_mode": {
    "name": "ipython",
    "version": 3
   },
   "file_extension": ".py",
   "mimetype": "text/x-python",
   "name": "python",
   "nbconvert_exporter": "python",
   "pygments_lexer": "ipython3",
   "version": "3.6.7"
  }
 },
 "nbformat": 4,
 "nbformat_minor": 2
}
