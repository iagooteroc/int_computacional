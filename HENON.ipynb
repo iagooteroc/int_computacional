{
 "cells": [
  {
   "cell_type": "code",
   "execution_count": 26,
   "metadata": {},
   "outputs": [],
   "source": [
    "import numpy as np\n",
    "from sklearn.svm import SVR\n",
    "from sklearn.neural_network import MLPRegressor\n",
    "from sklearn.metrics import mean_squared_error\n",
    "from sklearn.pipeline import Pipeline\n",
    "from sklearn.model_selection import KFold\n",
    "from sklearn.model_selection import cross_val_predict\n",
    "from sklearn.preprocessing import StandardScaler\n",
    "from scipy import stats\n",
    "from statsmodels.stats.multicomp import (pairwise_tukeyhsd,\n",
    "                                         MultiComparison)\n",
    "from statsmodels.sandbox.stats.multicomp import TukeyHSDResults"
   ]
  },
  {
   "cell_type": "code",
   "execution_count": 2,
   "metadata": {},
   "outputs": [],
   "source": [
    "def Henon(n):\n",
    "    a = 1.4\n",
    "    b = 0.3\n",
    "    x = np.zeros((n+1))\n",
    "    y = np.zeros((n+1))\n",
    "    for i in range(n):\n",
    "        x[i+1] = 1-a*x[i]*x[i] + y[i]\n",
    "        y[i+1] = b*x[i]\n",
    "    return (x,y)"
   ]
  },
  {
   "cell_type": "code",
   "execution_count": 3,
   "metadata": {},
   "outputs": [],
   "source": [
    "def Ventanas(x,size):\n",
    "    size += 1\n",
    "    arr = np.empty((0,size))\n",
    "    for i in range(len(x) - size):\n",
    "        arr = np.vstack((arr,x[i:i + size]))\n",
    "    return (arr[:,:-1],arr[:,-1])"
   ]
  },
  {
   "cell_type": "code",
   "execution_count": 5,
   "metadata": {},
   "outputs": [],
   "source": [
    "Xinicial,_ = Henon(100)\n",
    "X,y = Ventanas(Xinicial,25)"
   ]
  },
  {
   "cell_type": "markdown",
   "metadata": {},
   "source": [
    "**Estandarizamos los datos**"
   ]
  },
  {
   "cell_type": "code",
   "execution_count": 6,
   "metadata": {},
   "outputs": [],
   "source": [
    "scaler = StandardScaler()\n",
    "X = scaler.fit_transform(X)\n",
    "y = (y - np.mean(y))/np.std(y)\n"
   ]
  },
  {
   "cell_type": "code",
   "execution_count": 7,
   "metadata": {},
   "outputs": [],
   "source": [
    "kf = KFold(n_splits=10,shuffle=True)\n",
    "resultados_train = []\n",
    "resultados_test = []\n",
    "model = []\n",
    "res_train = np.empty((30,0))\n",
    "res_test = np.empty((30,0))\n",
    "test_indices = []\n",
    "etiquetas = []\n",
    "dicc = [{'kernel': 'rbf','tol': 0.1,'gamma':'auto'}]\n",
    "\n",
    "for i in range(len(dicc)):\n",
    "    test_indices2 = []\n",
    "    for j in range(3):\n",
    "        for train_index, test_index in kf.split(X):\n",
    "    #         train_test_split del conjunto train y pillar 1/9 para validación\n",
    "            X_train, X_test,y_train, y_test = X[train_index],X[test_index],y[train_index],y[test_index]\n",
    "            \n",
    "            test_indices2.append(test_index)\n",
    "    #         print('X_train: {}\\n, X_valid: {}\\n, X_test: {}'.format(X_train, X_valid, X_test))\n",
    "            alg = SVR(**dicc[i])\n",
    "            alg.fit(X_train, y_train)\n",
    "            model.append(alg)\n",
    "            y_pred_test = alg.predict(X_test)\n",
    "            y_pred_train = alg.predict(X_train)\n",
    "            resultados_train.append(mean_squared_error(y_train,y_pred_train))\n",
    "            resultados_test.append(mean_squared_error(y_test,y_pred_test))\n",
    "    \n",
    "    res_train = np.hstack((res_train, np.array(resultados_train,ndmin=2).T))\n",
    "    res_test = np.hstack((res_test, np.array(resultados_test,ndmin=2).T))\n",
    "    resultados_train = []\n",
    "    resultados_test = []\n",
    "    test_indices.append(test_indices2)\n",
    "\n",
    "    \n",
    "            "
   ]
  },
  {
   "cell_type": "markdown",
   "metadata": {},
   "source": [
    "## Entrenamiento de Modelos"
   ]
  },
  {
   "cell_type": "markdown",
   "metadata": {},
   "source": [
    "**kFold - Support Vector Regression**"
   ]
  },
  {
   "cell_type": "code",
   "execution_count": 18,
   "metadata": {},
   "outputs": [
    {
     "name": "stdout",
     "output_type": "stream",
     "text": [
      "Wall time: 310 ms\n"
     ]
    }
   ],
   "source": [
    "%%time\n",
    "kf = KFold(n_splits=10,shuffle=True)\n",
    "resultados_train = []\n",
    "resultados_test = []\n",
    "model = []\n",
    "res_train = np.empty((30,0))\n",
    "res_test = np.empty((30,0))\n",
    "test_indices = []\n",
    "etiquetas = []\n",
    "# dicc = [{'kernel': 'rbf','tol': 0.1,'gamma':'auto'}]\n",
    "etiquetas.extend(['SVR linear C1',\n",
    "             'SVR poly 2º C1',\n",
    "             'SVR poly 3º C1',\n",
    "             'SVR poly 4º C1',\n",
    "             'SVR rfb auto C1',\n",
    "             'SVR rfb 0.05 C1',\n",
    "             'SVR rfb 0.1 C1',\n",
    "             'SVR rfb 0.2 C1'])\n",
    "# etiquetas.extend(['SVR linear C100',\n",
    "#              'SVR poly 2º C100',\n",
    "#              'SVR poly 3º C100',\n",
    "#              'SVR poly 4º C100',\n",
    "#              'SVR rfb auto C100',\n",
    "#              'SVR rfb 0.05 C100',\n",
    "#              'SVR rfb 0.1 C100',\n",
    "#              'SVR rfb 0.2 C100'])\n",
    "dicc = [{'C': 1.0, 'kernel': 'linear', 'degree': 1, 'gamma': 'auto', 'tol': 0.1},\n",
    "        {'C': 1.0, 'kernel': 'poly', 'degree': 2, 'gamma': 'auto', 'tol': 0.1},\n",
    "        {'C': 1.0, 'kernel': 'poly', 'degree': 3, 'gamma': 'auto', 'tol': 0.1},\n",
    "        {'C': 1.0, 'kernel': 'poly', 'degree': 4, 'gamma': 'auto', 'tol': 0.1},\n",
    "        {'C': 1.0, 'kernel': 'rbf', 'degree': 2, 'gamma': 'auto', 'tol': 0.1},\n",
    "        {'C': 1.0, 'kernel': 'rbf', 'degree': 2, 'gamma': 0.05, 'tol': 0.1},\n",
    "        {'C': 1.0, 'kernel': 'rbf', 'degree': 2, 'gamma': 0.1, 'tol': 0.1},\n",
    "        {'C': 1.0, 'kernel': 'rbf', 'degree': 2, 'gamma': 0.2, 'tol': 0.1}]\n",
    "\n",
    "for i in range(len(dicc)):\n",
    "    test_indices2 = []\n",
    "    for j in range(3):\n",
    "        for train_index, test_index in kf.split(X):\n",
    "            X_train, X_test,y_train, y_test = X[train_index],X[test_index],y[train_index],y[test_index]\n",
    "            test_indices2.append(test_index)\n",
    "            alg = SVR(**dicc[i])\n",
    "            alg.fit(X_train, y_train)\n",
    "            model.append(alg)\n",
    "            y_pred_test = alg.predict(X_test)\n",
    "            y_pred_train = alg.predict(X_train)\n",
    "            resultados_train.append(mean_squared_error(y_train,y_pred_train))\n",
    "            resultados_test.append(mean_squared_error(y_test,y_pred_test))\n",
    "    res_train = np.hstack((res_train, np.array(resultados_train,ndmin=2).T))\n",
    "    res_test = np.hstack((res_test, np.array(resultados_test,ndmin=2).T))\n",
    "    resultados_train = []\n",
    "    resultados_test = []\n",
    "    test_indices.append(test_indices2)"
   ]
  },
  {
   "cell_type": "markdown",
   "metadata": {},
   "source": [
    "**kFold - Multi-layer Perceptron Regressor**"
   ]
  },
  {
   "cell_type": "code",
   "execution_count": 19,
   "metadata": {},
   "outputs": [
    {
     "name": "stderr",
     "output_type": "stream",
     "text": [
      "C:\\Users\\iago_\\Anaconda3\\lib\\site-packages\\sklearn\\neural_network\\multilayer_perceptron.py:562: ConvergenceWarning: Stochastic Optimizer: Maximum iterations (1500) reached and the optimization hasn't converged yet.\n",
      "  % self.max_iter, ConvergenceWarning)\n",
      "C:\\Users\\iago_\\Anaconda3\\lib\\site-packages\\sklearn\\neural_network\\multilayer_perceptron.py:562: ConvergenceWarning: Stochastic Optimizer: Maximum iterations (1500) reached and the optimization hasn't converged yet.\n",
      "  % self.max_iter, ConvergenceWarning)\n"
     ]
    },
    {
     "name": "stdout",
     "output_type": "stream",
     "text": [
      "Wall time: 26.6 s\n"
     ]
    }
   ],
   "source": [
    "%%time\n",
    "etiquetas.extend(['MLPR sgd 20',\n",
    "             'MLPR sgd 25',\n",
    "             'MLPR sgd 30',\n",
    "             'MLPR adam 20',\n",
    "             'MLPR adam 25',\n",
    "             'MLPR adam 30'])\n",
    "dicc = [{'hidden_layer_sizes': (20,), 'solver': 'sgd', 'early_stopping': True, 'max_iter': 1500},\n",
    "        {'hidden_layer_sizes': (25,), 'solver': 'sgd', 'early_stopping': True, 'max_iter': 1500},\n",
    "        {'hidden_layer_sizes': (30,), 'solver': 'sgd', 'early_stopping': True, 'max_iter': 1500},\n",
    "        {'hidden_layer_sizes': (20,), 'solver': 'adam', 'early_stopping': True, 'max_iter': 1500},\n",
    "        {'hidden_layer_sizes': (25,), 'solver': 'adam', 'early_stopping': True, 'max_iter': 1500},\n",
    "        {'hidden_layer_sizes': (30,), 'solver': 'adam', 'early_stopping': True, 'max_iter': 1500}]\n",
    "\n",
    "for i in range(len(dicc)):\n",
    "    test_indices2 = []\n",
    "    for j in range(3):\n",
    "        for train_index, test_index in kf.split(X):\n",
    "            X_train, X_test,y_train, y_test = X[train_index],X[test_index],y[train_index],y[test_index]\n",
    "            test_indices2.append(test_index)\n",
    "            alg = MLPRegressor(**dicc[i])\n",
    "            alg.fit(X_train, y_train)\n",
    "            model.append(alg)\n",
    "            y_pred_test = alg.predict(X_test)\n",
    "            y_pred_train = alg.predict(X_train)\n",
    "            resultados_train.append(mean_squared_error(y_train,y_pred_train))\n",
    "            resultados_test.append(mean_squared_error(y_test,y_pred_test))\n",
    "    res_train = np.hstack((res_train, np.array(resultados_train,ndmin=2).T))\n",
    "    res_test = np.hstack((res_test, np.array(resultados_test,ndmin=2).T))\n",
    "    resultados_train = []\n",
    "    resultados_test = []\n",
    "    test_indices.append(test_indices2)"
   ]
  },
  {
   "cell_type": "markdown",
   "metadata": {},
   "source": [
    "**Test de normalidad**  \n",
    "Rechazamos normalidad, podriamos asumir normalidad en alguno de ellos pero como en algunos no, realizamos el test no paramétrico de Kruskal-Wallis en lugar de un Anova "
   ]
  },
  {
   "cell_type": "code",
   "execution_count": 23,
   "metadata": {},
   "outputs": [
    {
     "data": {
      "text/plain": [
       "array([2.42951289e-01, 8.44048858e-02, 2.22680941e-01, 6.34279311e-01,\n",
       "       3.44507575e-01, 5.61316870e-03, 2.55777296e-02, 6.32748194e-03,\n",
       "       2.66219932e-03, 4.54629597e-04, 4.23761427e-01, 7.55169749e-01,\n",
       "       2.53370926e-02, 2.07420792e-02])"
      ]
     },
     "execution_count": 23,
     "metadata": {},
     "output_type": "execute_result"
    }
   ],
   "source": [
    "np.apply_along_axis(lambda x: stats.shapiro(x)[1], axis=0, arr=res_test)"
   ]
  },
  {
   "cell_type": "markdown",
   "metadata": {},
   "source": [
    "**Test de Kruskal-Wallis**  \n",
    "Rechazamos que las precisiones sean similares"
   ]
  },
  {
   "cell_type": "code",
   "execution_count": 24,
   "metadata": {
    "scrolled": false
   },
   "outputs": [
    {
     "name": "stdout",
     "output_type": "stream",
     "text": [
      "KruskalResult(statistic=78.13065942766661, pvalue=2.4756778016538105e-11)\n"
     ]
    }
   ],
   "source": [
    "print(stats.kruskal(*zip(*list(res_test))))"
   ]
  },
  {
   "cell_type": "code",
   "execution_count": 32,
   "metadata": {},
   "outputs": [],
   "source": [
    "labels = [etiquetas[i] for i in range(res_test.shape[1]) for _ in range(res_test.shape[0])]\n",
    "arr_test = res_test.flatten('F')\n",
    "resultados = pairwise_tukeyhsd(arr_test,labels)\n",
    "# resultados.summary()"
   ]
  },
  {
   "cell_type": "code",
   "execution_count": 28,
   "metadata": {},
   "outputs": [],
   "source": [
    "#seleccionamos el que tiene mejor media y vemos en el anterior cuales son iguales\n",
    "best_group = np.argmax(np.mean(res_test, axis = 0))\n",
    "best_group = etiquetas[int(best_group)]"
   ]
  },
  {
   "cell_type": "code",
   "execution_count": 30,
   "metadata": {},
   "outputs": [
    {
     "name": "stdout",
     "output_type": "stream",
     "text": [
      "Figure(720x432)\n"
     ]
    },
    {
     "data": {
      "image/png": "[encoded data removed]",
      "text/plain": [
       "<Figure size 720x432 with 1 Axes>"
      ]
     },
     "metadata": {
      "needs_background": "light"
     },
     "output_type": "display_data"
    }
   ],
   "source": [
    "print(resultados.plot_simultaneous(comparison_name=best_group))"
   ]
  }
 ],
 "metadata": {
  "kernelspec": {
   "display_name": "Python 3",
   "language": "python",
   "name": "python3"
  },
  "language_info": {
   "codemirror_mode": {
    "name": "ipython",
    "version": 3
   },
   "file_extension": ".py",
   "mimetype": "text/x-python",
   "name": "python",
   "nbconvert_exporter": "python",
   "pygments_lexer": "ipython3",
   "version": "3.7.1"
  }
 },
 "nbformat": 4,
 "nbformat_minor": 2
}
