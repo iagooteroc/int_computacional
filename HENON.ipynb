{
 "cells": [
  {
   "cell_type": "code",
   "execution_count": 25,
   "metadata": {},
   "outputs": [],
   "source": [
    "import numpy as np\n",
    "from sklearn.svm import SVR\n",
    "from sklearn.neural_network import MLPRegressor\n",
    "from sklearn.metrics import mean_squared_error\n",
    "from sklearn.pipeline import Pipeline\n",
    "from sklearn.model_selection import KFold\n",
    "from sklearn.model_selection import cross_val_predict\n",
    "from sklearn.preprocessing import StandardScaler\n",
    "from scipy import stats\n",
    "from statsmodels.stats.multicomp import (pairwise_tukeyhsd,\n",
    "                                         MultiComparison)\n",
    "from statsmodels.sandbox.stats.multicomp import TukeyHSDResults\n",
    "import pickle\n",
    "from sklearn.metrics import confusion_matrix"
   ]
  },
  {
   "cell_type": "code",
   "execution_count": 2,
   "metadata": {},
   "outputs": [],
   "source": [
    "def Henon(n):\n",
    "    a = 1.4\n",
    "    b = 0.3\n",
    "    x = np.zeros((n+1))\n",
    "    y = np.zeros((n+1))\n",
    "    for i in range(n):\n",
    "        x[i+1] = 1-a*x[i]*x[i] + y[i]\n",
    "        y[i+1] = b*x[i]\n",
    "    return (x,y)"
   ]
  },
  {
   "cell_type": "code",
   "execution_count": 3,
   "metadata": {},
   "outputs": [],
   "source": [
    "def Ventanas(x,size):\n",
    "    size += 1\n",
    "    arr = np.empty((0,size))\n",
    "    for i in range(len(x) - size):\n",
    "        arr = np.vstack((arr,x[i:i + size]))\n",
    "    return (arr[:,:-1],arr[:,-1])"
   ]
  },
  {
   "cell_type": "code",
   "execution_count": 4,
   "metadata": {},
   "outputs": [],
   "source": [
    "Xinicial,_ = Henon(1000)\n",
    "X,y = Ventanas(Xinicial,25)\n",
    "#X,y = Ventanas(Xinicial,50)"
   ]
  },
  {
   "cell_type": "markdown",
   "metadata": {},
   "source": [
    "**Estandarizamos los datos**"
   ]
  },
  {
   "cell_type": "code",
   "execution_count": 5,
   "metadata": {},
   "outputs": [],
   "source": [
    "scaler = StandardScaler()\n",
    "X = scaler.fit_transform(X)\n",
    "y = (y - np.mean(y))/np.std(y)\n"
   ]
  },
  {
   "cell_type": "code",
   "execution_count": 6,
   "metadata": {},
   "outputs": [],
   "source": [
    "kf = KFold(n_splits=10,shuffle=True)\n",
    "resultados_train = []\n",
    "resultados_test = []\n",
    "model = []\n",
    "res_train = np.empty((30,0))\n",
    "res_test = np.empty((30,0))\n",
    "test_indices = []\n",
    "etiquetas = []\n",
    "dicc = [{'kernel': 'rbf','tol': 0.1,'gamma':'auto'}]\n",
    "\n",
    "for i in range(len(dicc)):\n",
    "    test_indices2 = []\n",
    "    for j in range(3):\n",
    "        for train_index, test_index in kf.split(X):\n",
    "    #         train_test_split del conjunto train y pillar 1/9 para validación\n",
    "            X_train, X_test,y_train, y_test = X[train_index],X[test_index],y[train_index],y[test_index]\n",
    "            \n",
    "            test_indices2.append(test_index)\n",
    "    #         print('X_train: {}\\n, X_valid: {}\\n, X_test: {}'.format(X_train, X_valid, X_test))\n",
    "            alg = SVR(**dicc[i])\n",
    "            alg.fit(X_train, y_train)\n",
    "            model.append(alg)\n",
    "            y_pred_test = alg.predict(X_test)\n",
    "            y_pred_train = alg.predict(X_train)\n",
    "            resultados_train.append(mean_squared_error(y_train,y_pred_train))\n",
    "            resultados_test.append(mean_squared_error(y_test,y_pred_test))\n",
    "    \n",
    "    res_train = np.hstack((res_train, np.array(resultados_train,ndmin=2).T))\n",
    "    res_test = np.hstack((res_test, np.array(resultados_test,ndmin=2).T))\n",
    "    resultados_train = []\n",
    "    resultados_test = []\n",
    "    test_indices.append(test_indices2)\n",
    "\n",
    "    \n",
    "            "
   ]
  },
  {
   "cell_type": "markdown",
   "metadata": {},
   "source": [
    "## Entrenamiento de Modelos"
   ]
  },
  {
   "cell_type": "markdown",
   "metadata": {},
   "source": [
    "**kFold - Support Vector Regression**"
   ]
  },
  {
   "cell_type": "code",
   "execution_count": 7,
   "metadata": {},
   "outputs": [
    {
     "name": "stdout",
     "output_type": "stream",
     "text": [
      "Wall time: 2.64 s\n"
     ]
    }
   ],
   "source": [
    "%%time\n",
    "kf = KFold(n_splits=10,shuffle=True)\n",
    "resultados_train = []\n",
    "resultados_test = []\n",
    "model = []\n",
    "res_train = np.empty((30,0))\n",
    "res_test = np.empty((30,0))\n",
    "train_indices = []\n",
    "test_indices = []\n",
    "etiquetas = []\n",
    "# dicc = [{'kernel': 'rbf','tol': 0.1,'gamma':'auto'}]\n",
    "etiquetas.extend(['SVR linear C1',\n",
    "             'SVR poly 2º C1',\n",
    "             'SVR poly 3º C1',\n",
    "             'SVR poly 4º C1',\n",
    "             'SVR rfb auto C1',\n",
    "             'SVR rfb 0.05 C1',\n",
    "             'SVR rfb 0.1 C1',\n",
    "             'SVR rfb 0.2 C1'])\n",
    "etiquetas.extend(['SVR linear C100',\n",
    "             'SVR poly 2º C100',\n",
    "             'SVR poly 3º C100',\n",
    "             'SVR poly 4º C100',\n",
    "             'SVR rfb auto C100',\n",
    "             'SVR rfb 0.05 C100',\n",
    "             'SVR rfb 0.1 C100',\n",
    "             'SVR rfb 0.2 C100'])\n",
    "dicc = [{'C': 1.0, 'kernel': 'linear', 'degree': 1, 'gamma': 'auto', 'tol': 0.1},\n",
    "        {'C': 1.0, 'kernel': 'poly', 'degree': 2, 'gamma': 'auto', 'tol': 0.1},\n",
    "        {'C': 1.0, 'kernel': 'poly', 'degree': 3, 'gamma': 'auto', 'tol': 0.1},\n",
    "        {'C': 1.0, 'kernel': 'poly', 'degree': 4, 'gamma': 'auto', 'tol': 0.1},\n",
    "        {'C': 1.0, 'kernel': 'rbf', 'degree': 2, 'gamma': 'auto', 'tol': 0.1},\n",
    "        {'C': 1.0, 'kernel': 'rbf', 'degree': 2, 'gamma': 0.05, 'tol': 0.1},\n",
    "        {'C': 1.0, 'kernel': 'rbf', 'degree': 2, 'gamma': 0.1, 'tol': 0.1},\n",
    "        {'C': 1.0, 'kernel': 'rbf', 'degree': 2, 'gamma': 0.2, 'tol': 0.1},\n",
    "        {'C': 100.0, 'kernel': 'linear', 'degree': 1, 'gamma': 'auto', 'tol': 0.1},\n",
    "        {'C': 100.0, 'kernel': 'poly', 'degree': 2, 'gamma': 'auto', 'tol': 0.1},\n",
    "        {'C': 100.0, 'kernel': 'poly', 'degree': 3, 'gamma': 'auto', 'tol': 0.1},\n",
    "        {'C': 100.0, 'kernel': 'poly', 'degree': 4, 'gamma': 'auto', 'tol': 0.1},\n",
    "        {'C': 100.0, 'kernel': 'rbf', 'degree': 2, 'gamma': 'auto', 'tol': 0.1},\n",
    "        {'C': 100.0, 'kernel': 'rbf', 'degree': 2, 'gamma': 0.05, 'tol': 0.1},\n",
    "        {'C': 100.0, 'kernel': 'rbf', 'degree': 2, 'gamma': 0.1, 'tol': 0.1},\n",
    "        {'C': 100.0, 'kernel': 'rbf', 'degree': 2, 'gamma': 0.2, 'tol': 0.1}]\n",
    "\n",
    "for i in range(len(dicc)):\n",
    "    train_indices2 = []\n",
    "    test_indices2 = []\n",
    "    for j in range(3):\n",
    "        for train_index, test_index in kf.split(X):\n",
    "            X_train, X_test,y_train, y_test = X[train_index],X[test_index],y[train_index],y[test_index]\n",
    "            train_indices2.append(train_index)\n",
    "            test_indices2.append(test_index)\n",
    "            alg = SVR(**dicc[i])\n",
    "            alg.fit(X_train, y_train)\n",
    "            model.append(alg)\n",
    "            y_pred_test = alg.predict(X_test)\n",
    "            y_pred_train = alg.predict(X_train)\n",
    "            resultados_train.append(mean_squared_error(y_train,y_pred_train))\n",
    "            resultados_test.append(mean_squared_error(y_test,y_pred_test))\n",
    "    res_train = np.hstack((res_train, np.array(resultados_train,ndmin=2).T))\n",
    "    res_test = np.hstack((res_test, np.array(resultados_test,ndmin=2).T))\n",
    "    resultados_train = []\n",
    "    resultados_test = []\n",
    "    test_indices.append(test_indices2)"
   ]
  },
  {
   "cell_type": "markdown",
   "metadata": {},
   "source": [
    "**kFold - Multi-layer Perceptron Regressor**"
   ]
  },
  {
   "cell_type": "code",
   "execution_count": 8,
   "metadata": {},
   "outputs": [
    {
     "name": "stderr",
     "output_type": "stream",
     "text": [
      "C:\\Users\\iago_\\Anaconda3\\lib\\site-packages\\sklearn\\neural_network\\multilayer_perceptron.py:562: ConvergenceWarning: Stochastic Optimizer: Maximum iterations (1500) reached and the optimization hasn't converged yet.\n",
      "  % self.max_iter, ConvergenceWarning)\n",
      "C:\\Users\\iago_\\Anaconda3\\lib\\site-packages\\sklearn\\neural_network\\multilayer_perceptron.py:562: ConvergenceWarning: Stochastic Optimizer: Maximum iterations (1500) reached and the optimization hasn't converged yet.\n",
      "  % self.max_iter, ConvergenceWarning)\n",
      "C:\\Users\\iago_\\Anaconda3\\lib\\site-packages\\sklearn\\neural_network\\multilayer_perceptron.py:562: ConvergenceWarning: Stochastic Optimizer: Maximum iterations (1500) reached and the optimization hasn't converged yet.\n",
      "  % self.max_iter, ConvergenceWarning)\n",
      "C:\\Users\\iago_\\Anaconda3\\lib\\site-packages\\sklearn\\neural_network\\multilayer_perceptron.py:562: ConvergenceWarning: Stochastic Optimizer: Maximum iterations (1500) reached and the optimization hasn't converged yet.\n",
      "  % self.max_iter, ConvergenceWarning)\n"
     ]
    },
    {
     "name": "stdout",
     "output_type": "stream",
     "text": [
      "Wall time: 57.6 s\n"
     ]
    }
   ],
   "source": [
    "%%time\n",
    "etiquetas.extend(['MLPR sgd 10 relu',\n",
    "             'MLPR sgd 30 relu',\n",
    "             'MLPR sgd 50 relu',\n",
    "             'MLPR adam 10 relu',\n",
    "             'MLPR adam 30 relu',\n",
    "             'MLPR adam 50 relu'])\n",
    "etiquetas.extend(['MLPR sgd 10 tanh',\n",
    "             'MLPR sgd 30 tanh',\n",
    "             'MLPR sgd 50 tanh',\n",
    "             'MLPR adam 10 tanh',\n",
    "             'MLPR adam 30 tanh',\n",
    "             'MLPR adam 50 tanh'])\n",
    "dicc = [{'hidden_layer_sizes': (10,), 'solver': 'sgd',  'activation': 'relu','early_stopping': True, 'max_iter': 1500},\n",
    "        {'hidden_layer_sizes': (30,), 'solver': 'sgd',  'activation': 'relu','early_stopping': True, 'max_iter': 1500},\n",
    "        {'hidden_layer_sizes': (50,), 'solver': 'sgd',  'activation': 'relu','early_stopping': True, 'max_iter': 1500},\n",
    "        {'hidden_layer_sizes': (10,), 'solver': 'adam', 'activation': 'relu','early_stopping': True, 'max_iter': 1500},\n",
    "        {'hidden_layer_sizes': (30,), 'solver': 'adam', 'activation': 'relu','early_stopping': True, 'max_iter': 1500},\n",
    "        {'hidden_layer_sizes': (50,), 'solver': 'adam', 'activation': 'relu','early_stopping': True, 'max_iter': 1500},\n",
    "        {'hidden_layer_sizes': (10,), 'solver': 'sgd',  'activation': 'tanh','early_stopping': True, 'max_iter': 1500},\n",
    "        {'hidden_layer_sizes': (30,), 'solver': 'sgd',  'activation': 'tanh','early_stopping': True, 'max_iter': 1500},\n",
    "        {'hidden_layer_sizes': (50,), 'solver': 'sgd',  'activation': 'tanh','early_stopping': True, 'max_iter': 1500},\n",
    "        {'hidden_layer_sizes': (10,), 'solver': 'adam', 'activation': 'tanh','early_stopping': True, 'max_iter': 1500},\n",
    "        {'hidden_layer_sizes': (30,), 'solver': 'adam', 'activation': 'tanh','early_stopping': True, 'max_iter': 1500},\n",
    "        {'hidden_layer_sizes': (50,), 'solver': 'adam', 'activation': 'tanh','early_stopping': True, 'max_iter': 1500}]\n",
    "\n",
    "for i in range(len(dicc)):\n",
    "    train_indices2 = []\n",
    "    test_indices2 = []\n",
    "    for j in range(3):\n",
    "        for train_index, test_index in kf.split(X):\n",
    "            X_train, X_test,y_train, y_test = X[train_index],X[test_index],y[train_index],y[test_index]\n",
    "            train_indices2.append(train_index)\n",
    "            test_indices2.append(test_index)\n",
    "            alg = MLPRegressor(**dicc[i])\n",
    "            alg.fit(X_train, y_train)\n",
    "            model.append(alg)\n",
    "            y_pred_test = alg.predict(X_test)\n",
    "            y_pred_train = alg.predict(X_train)\n",
    "            resultados_train.append(mean_squared_error(y_train,y_pred_train))\n",
    "            resultados_test.append(mean_squared_error(y_test,y_pred_test))\n",
    "    res_train = np.hstack((res_train, np.array(resultados_train,ndmin=2).T))\n",
    "    res_test = np.hstack((res_test, np.array(resultados_test,ndmin=2).T))\n",
    "    resultados_train = []\n",
    "    resultados_test = []\n",
    "    train_indices.append(train_indices2)\n",
    "    test_indices.append(test_indices2)"
   ]
  },
  {
   "cell_type": "markdown",
   "metadata": {},
   "source": [
    "**Persistencia**"
   ]
  },
  {
   "cell_type": "code",
   "execution_count": 9,
   "metadata": {},
   "outputs": [],
   "source": [
    "with open('p4_henon-res_test.bin','wb') as file:\n",
    "    pickle.dump(res_test, file)\n",
    "with open('p4_henon-train_indices.bin','wb') as file:\n",
    "    pickle.dump(train_indices, file)\n",
    "with open('p4_henon-test_indices.bin','wb') as file:\n",
    "    pickle.dump(test_indices, file)\n",
    "with open('p4_henon-models.bin','wb') as file:\n",
    "    pickle.dump(model, file)"
   ]
  },
  {
   "cell_type": "code",
   "execution_count": 10,
   "metadata": {},
   "outputs": [],
   "source": [
    "# with open('p4_henon-res_test.bin','rb') as file:\n",
    "#     res_test = pickle.load(file)\n",
    "# with open('p4_henon-train_indices.bin','wb') as file:\n",
    "#     train_indices = pickle.load(file)\n",
    "# with open('p4_henon-test_indices.bin','wb') as file:\n",
    "#     test_indices = pickle.load(file)\n",
    "# with open('p4_henon-models.bin','wb') as file:\n",
    "#     model = pickle.load(file)"
   ]
  },
  {
   "cell_type": "markdown",
   "metadata": {},
   "source": [
    "**Test de normalidad**  \n",
    "Rechazamos normalidad, realizamos el test no paramétrico de Kruskal-Wallis en lugar de un Anova "
   ]
  },
  {
   "cell_type": "code",
   "execution_count": 11,
   "metadata": {},
   "outputs": [
    {
     "data": {
      "text/plain": [
       "array([1.22083863e-02, 4.67292160e-01, 3.94199602e-02, 5.87577596e-02,\n",
       "       1.73930198e-01, 3.35123062e-01, 4.06054854e-01, 5.64979203e-03,\n",
       "       4.10950452e-04, 4.59577516e-03, 1.54183403e-01, 2.66871065e-01,\n",
       "       9.05152634e-02, 7.25071728e-01, 4.41424698e-01, 3.45884085e-01,\n",
       "       9.51536298e-02, 2.16455776e-02, 8.28252077e-01, 1.88713502e-02,\n",
       "       1.30277434e-02, 3.88619244e-01, 3.26675810e-02, 8.51894617e-02,\n",
       "       7.53819384e-03, 1.87589433e-02, 5.84679656e-02, 1.62615746e-01])"
      ]
     },
     "execution_count": 11,
     "metadata": {},
     "output_type": "execute_result"
    }
   ],
   "source": [
    "np.apply_along_axis(lambda x: stats.shapiro(x)[1], axis=0, arr=res_test)"
   ]
  },
  {
   "cell_type": "markdown",
   "metadata": {},
   "source": [
    "**Test de Kruskal-Wallis**  \n",
    "Rechazamos que las precisiones sean similares"
   ]
  },
  {
   "cell_type": "code",
   "execution_count": 12,
   "metadata": {
    "scrolled": false
   },
   "outputs": [
    {
     "name": "stdout",
     "output_type": "stream",
     "text": [
      "KruskalResult(statistic=150.05224052998074, pvalue=5.02813544080591e-19)\n"
     ]
    }
   ],
   "source": [
    "print(stats.kruskal(*zip(*list(res_test))))"
   ]
  },
  {
   "cell_type": "code",
   "execution_count": 13,
   "metadata": {},
   "outputs": [],
   "source": [
    "labels = [etiquetas[i] for i in range(res_test.shape[1]) for _ in range(res_test.shape[0])]\n",
    "arr_test = res_test.flatten('F')\n",
    "resultados = pairwise_tukeyhsd(arr_test,labels)\n",
    "# resultados.summary()"
   ]
  },
  {
   "cell_type": "code",
   "execution_count": 14,
   "metadata": {},
   "outputs": [],
   "source": [
    "#seleccionamos el que tiene mejor media y vemos en el anterior cuales son iguales\n",
    "best_group = np.argmin(np.mean(res_test, axis = 0))\n",
    "best_group = etiquetas[int(best_group)]"
   ]
  },
  {
   "cell_type": "code",
   "execution_count": 18,
   "metadata": {},
   "outputs": [
    {
     "name": "stdout",
     "output_type": "stream",
     "text": [
      "Figure(720x432)\n"
     ]
    },
    {
     "data": {
      "image/png": "[encoded data removed]",
      "text/plain": [
       "<Figure size 720x432 with 1 Axes>"
      ]
     },
     "metadata": {
      "needs_background": "light"
     },
     "output_type": "display_data"
    }
   ],
   "source": [
    "print(resultados.plot_simultaneous(comparison_name=best_group))"
   ]
  },
  {
   "cell_type": "code",
   "execution_count": 20,
   "metadata": {},
   "outputs": [],
   "source": [
    "resultados = resultados._results_table.data"
   ]
  },
  {
   "cell_type": "code",
   "execution_count": 21,
   "metadata": {},
   "outputs": [
    {
     "data": {
      "text/plain": [
       "['MLPR adam 10 relu',\n",
       " 'MLPR adam 30 relu',\n",
       " 'MLPR adam 50 relu',\n",
       " 'MLPR adam 50 tanh',\n",
       " 'MLPR sgd 10 tanh',\n",
       " 'MLPR sgd 30 tanh',\n",
       " 'MLPR sgd 50 tanh',\n",
       " 'SVR poly 2º C1',\n",
       " 'SVR poly 2º C100',\n",
       " 'SVR poly 3º C1',\n",
       " 'SVR poly 3º C100',\n",
       " 'SVR poly 4º C1',\n",
       " 'SVR poly 4º C100',\n",
       " 'SVR rfb 0.05 C1',\n",
       " 'SVR rfb 0.05 C100',\n",
       " 'SVR rfb 0.1 C1',\n",
       " 'SVR rfb 0.1 C100',\n",
       " 'SVR rfb 0.2 C1',\n",
       " 'SVR rfb 0.2 C100',\n",
       " 'SVR rfb auto C1',\n",
       " 'SVR rfb auto C100']"
      ]
     },
     "execution_count": 21,
     "metadata": {},
     "output_type": "execute_result"
    }
   ],
   "source": [
    "group1 = resultados[0].index('group1')\n",
    "group2 = resultados[0].index('group2')\n",
    "reject = resultados[0].index('reject')\n",
    "best_groups = []\n",
    "for row in resultados[1:]:\n",
    "    if (row[group1] == str(best_group) or row[group2] == str(best_group)) and not row[reject]:\n",
    "        best_groups.append(row[group1])\n",
    "        best_groups.append(row[group2])\n",
    "best_groups.append(best_group)\n",
    "best_groups = set(best_groups)\n",
    "sorted(best_groups)"
   ]
  },
  {
   "cell_type": "markdown",
   "metadata": {},
   "source": [
    "**Nos quedamos con el más sencillo**  \n",
    "El cual asumimos que es el MLPR con:\n",
    "- sgd (Stochastic Gradient Descent)  \n",
    "- relu (Rectified linear unit function)  \n",
    "- 10 neuronas en la capa oculta"
   ]
  },
  {
   "cell_type": "code",
   "execution_count": 28,
   "metadata": {},
   "outputs": [
    {
     "name": "stdout",
     "output_type": "stream",
     "text": [
      "SVR poly 2º C1: 1.67 +- 0.88\n",
      "MLPR adam 30 relu: 0.96 +- 0.47\n",
      "SVR rfb 0.05 C100: 0.81 +- 0.45\n",
      "MLPR sgd 30 tanh: 0.79 +- 0.33\n",
      "SVR poly 4º C1: 0.78 +- 0.37\n",
      "SVR poly 4º C100: 0.74 +- 0.31\n",
      "SVR rfb auto C1: 0.81 +- 0.35\n",
      "SVR rfb 0.05 C1: 0.92 +- 0.37\n",
      "MLPR sgd 10 tanh: 1.54 +- 0.70\n",
      "SVR poly 3º C1: 1.02 +- 0.49\n",
      "SVR rfb 0.1 C1: 0.83 +- 0.44\n",
      "SVR rfb auto C100: 0.76 +- 0.36\n",
      "MLPR sgd 50 tanh: 0.70 +- 0.35\n",
      "SVR rfb 0.1 C100: 0.74 +- 0.33\n",
      "MLPR adam 10 relu: 0.76 +- 0.34\n",
      "SVR rfb 0.2 C1: 0.87 +- 0.28\n",
      "MLPR adam 50 relu: 1.37 +- 0.71\n",
      "SVR rfb 0.2 C100: 1.28 +- 0.61\n",
      "MLPR adam 50 tanh: 1.25 +- 0.52\n",
      "SVR poly 2º C100: 1.15 +- 0.63\n",
      "SVR poly 3º C100: 1.11 +- 0.53\n"
     ]
    }
   ],
   "source": [
    "for ind, tag in enumerate(best_groups):\n",
    "    mean_test = np.mean(res_test[:,ind])\n",
    "    std_test = np.std(res_test[:,ind])\n",
    "    print('{}: {:.2f} +- {:.2f}'.format(tag, mean_test, std_test))"
   ]
  }
 ],
 "metadata": {
  "kernelspec": {
   "display_name": "Python 3",
   "language": "python",
   "name": "python3"
  },
  "language_info": {
   "codemirror_mode": {
    "name": "ipython",
    "version": 3
   },
   "file_extension": ".py",
   "mimetype": "text/x-python",
   "name": "python",
   "nbconvert_exporter": "python",
   "pygments_lexer": "ipython3",
   "version": "3.7.1"
  }
 },
 "nbformat": 4,
 "nbformat_minor": 2
}
