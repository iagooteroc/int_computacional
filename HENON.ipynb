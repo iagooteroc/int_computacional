{
 "cells": [
  {
   "cell_type": "code",
   "execution_count": 79,
   "metadata": {},
   "outputs": [],
   "source": [
    "import numpy as np\n",
    "from sklearn.svm import SVR\n",
    "from sklearn.neural_network import MLPRegressor\n",
    "from sklearn.metrics import mean_squared_error\n",
    "from sklearn.pipeline import Pipeline\n",
    "from sklearn.model_selection import KFold\n",
    "from sklearn.model_selection import cross_val_predict\n",
    "from sklearn.preprocessing import StandardScaler\n",
    "from scipy import stats\n",
    "from statsmodels.stats.multicomp import (pairwise_tukeyhsd,\n",
    "                                         MultiComparison)\n",
    "from statsmodels.sandbox.stats.multicomp import TukeyHSDResults\n",
    "import pickle\n",
    "from sklearn.metrics import confusion_matrix"
   ]
  },
  {
   "cell_type": "code",
   "execution_count": 3,
   "metadata": {},
   "outputs": [],
   "source": [
    "def Henon(n):\n",
    "    a = 1.4\n",
    "    b = 0.3\n",
    "    x = np.zeros((n+1))\n",
    "    y = np.zeros((n+1))\n",
    "    for i in range(n):\n",
    "        x[i+1] = 1-a*x[i]*x[i] + y[i]\n",
    "        y[i+1] = b*x[i]\n",
    "    return (x,y)"
   ]
  },
  {
   "cell_type": "code",
   "execution_count": 4,
   "metadata": {},
   "outputs": [],
   "source": [
    "def Ventanas(x,size):\n",
    "    size += 1\n",
    "    arr = np.empty((0,size))\n",
    "    for i in range(len(x) - size):\n",
    "        arr = np.vstack((arr,x[i:i + size]))\n",
    "    return (arr[:,:-1],arr[:,-1])"
   ]
  },
  {
   "cell_type": "markdown",
   "metadata": {},
   "source": [
    "## Entrenamiento de Modelos"
   ]
  },
  {
   "cell_type": "markdown",
   "metadata": {},
   "source": [
    "**kFold - Support Vector Regression**"
   ]
  },
  {
   "cell_type": "code",
   "execution_count": 5,
   "metadata": {},
   "outputs": [],
   "source": [
    "def SVR_multiple():\n",
    "    \n",
    "    global resultados_train\n",
    "    global resultados_test\n",
    "    global res_train\n",
    "    global res_test\n",
    "    global model\n",
    "    global train_indices\n",
    "    global test_indices\n",
    "    global etiquetas\n",
    "    \n",
    "    etiquetas.extend(['SVR linear C1',\n",
    "                 'SVR poly 2º C1',\n",
    "                 'SVR poly 3º C1',\n",
    "                 'SVR poly 4º C1',\n",
    "                 'SVR rfb auto C1',\n",
    "                 'SVR rfb 0.05 C1',\n",
    "                 'SVR rfb 0.1 C1',\n",
    "                 'SVR rfb 0.2 C1'])\n",
    "    etiquetas.extend(['SVR linear C100',\n",
    "                 'SVR poly 2º C100',\n",
    "                 'SVR poly 3º C100',\n",
    "                 'SVR poly 4º C100',\n",
    "                 'SVR rfb auto C100',\n",
    "                 'SVR rfb 0.05 C100',\n",
    "                 'SVR rfb 0.1 C100',\n",
    "                 'SVR rfb 0.2 C100'])\n",
    "    dicc = [{'C': 1.0, 'kernel': 'linear', 'degree': 1, \n",
    "             'gamma': 'auto', 'tol': 0.1},\n",
    "            {'C': 1.0, 'kernel': 'poly', 'degree': 2,   \n",
    "             'gamma': 'auto', 'tol': 0.1},\n",
    "            {'C': 1.0, 'kernel': 'poly', 'degree': 3,   \n",
    "             'gamma': 'auto', 'tol': 0.1},\n",
    "            {'C': 1.0, 'kernel': 'poly', 'degree': 4,   \n",
    "             'gamma': 'auto', 'tol': 0.1},\n",
    "            {'C': 1.0, 'kernel': 'rbf', 'degree': 2,    \n",
    "             'gamma': 'auto', 'tol': 0.1},\n",
    "            {'C': 1.0, 'kernel': 'rbf', 'degree': 2,    \n",
    "             'gamma': 0.05, 'tol': 0.1},\n",
    "            {'C': 1.0, 'kernel': 'rbf', 'degree': 2,    \n",
    "             'gamma': 0.1, 'tol': 0.1},\n",
    "            {'C': 1.0, 'kernel': 'rbf', 'degree': 2,    \n",
    "             'gamma': 0.2, 'tol': 0.1},\n",
    "            {'C': 100.0, 'kernel': 'linear', 'degree': 1, \n",
    "             'gamma': 'auto', 'tol': 0.1},\n",
    "            {'C': 100.0, 'kernel': 'poly', 'degree': 2, \n",
    "             'gamma': 'auto', 'tol': 0.1},\n",
    "            {'C': 100.0, 'kernel': 'poly', 'degree': 3, \n",
    "             'gamma': 'auto', 'tol': 0.1},\n",
    "            {'C': 100.0, 'kernel': 'poly', 'degree': 4, \n",
    "             'gamma': 'auto', 'tol': 0.1},\n",
    "            {'C': 100.0, 'kernel': 'rbf', 'degree': 2, \n",
    "             'gamma': 'auto', 'tol': 0.1},\n",
    "            {'C': 100.0, 'kernel': 'rbf', 'degree': 2, \n",
    "             'gamma': 0.05, 'tol': 0.1},\n",
    "            {'C': 100.0, 'kernel': 'rbf', 'degree': 2, \n",
    "             'gamma': 0.1, 'tol': 0.1},\n",
    "            {'C': 100.0, 'kernel': 'rbf', 'degree': 2, \n",
    "             'gamma': 0.2, 'tol': 0.1}]\n",
    "\n",
    "    for i in range(len(dicc)):\n",
    "        train_indices2 = []\n",
    "        test_indices2 = []\n",
    "        for j in range(3):\n",
    "            for train_index, test_index in kf.split(X):\n",
    "                X_train, X_test = X[train_index],X[test_index]\n",
    "                y_train, y_test = y[train_index],y[test_index]\n",
    "                train_indices2.append(train_index)\n",
    "                test_indices2.append(test_index)\n",
    "                alg = SVR(**dicc[i])\n",
    "                alg.fit(X_train, y_train)\n",
    "                model.append(alg)\n",
    "                y_pred_test = alg.predict(X_test)\n",
    "                y_pred_train = alg.predict(X_train)\n",
    "                resultados_train.append(mean_squared_error(y_train,y_pred_train))\n",
    "                resultados_test.append(mean_squared_error(y_test,y_pred_test))\n",
    "        res_train = np.hstack((res_train, np.array(resultados_train,ndmin=2).T))\n",
    "        res_test = np.hstack((res_test, np.array(resultados_test,ndmin=2).T))\n",
    "        resultados_train = []\n",
    "        resultados_test = []\n",
    "        test_indices.append(test_indices2)"
   ]
  },
  {
   "cell_type": "markdown",
   "metadata": {},
   "source": [
    "**kFold - Multi-layer Perceptron Regressor**"
   ]
  },
  {
   "cell_type": "code",
   "execution_count": 6,
   "metadata": {},
   "outputs": [],
   "source": [
    "\n",
    "def MLP_multiple():\n",
    "    \n",
    "    global resultados_train\n",
    "    global resultados_test\n",
    "    global res_train\n",
    "    global res_test\n",
    "    global model\n",
    "    global train_indices\n",
    "    global test_indices\n",
    "    global etiquetas\n",
    "    \n",
    "    etiquetas.extend(['MLPR sgd 10 relu',\n",
    "                 'MLPR sgd 30 relu',\n",
    "                 'MLPR sgd 50 relu',\n",
    "                 'MLPR adam 10 relu',\n",
    "                 'MLPR adam 30 relu',\n",
    "                 'MLPR adam 50 relu'])\n",
    "    etiquetas.extend(['MLPR sgd 10 tanh',\n",
    "                 'MLPR sgd 30 tanh',\n",
    "                 'MLPR sgd 50 tanh',\n",
    "                 'MLPR adam 10 tanh',\n",
    "                 'MLPR adam 30 tanh',\n",
    "                 'MLPR adam 50 tanh'])\n",
    "    dicc = [{'hidden_layer_sizes': (10,), 'solver': 'sgd',  \n",
    "             'activation': 'relu','early_stopping': True, 'max_iter': 1500},\n",
    "            {'hidden_layer_sizes': (30,), 'solver': 'sgd',  \n",
    "             'activation': 'relu','early_stopping': True, 'max_iter': 1500},\n",
    "            {'hidden_layer_sizes': (50,), 'solver': 'sgd',  \n",
    "             'activation': 'relu','early_stopping': True, 'max_iter': 1500},\n",
    "            {'hidden_layer_sizes': (10,), 'solver': 'adam', \n",
    "             'activation': 'relu','early_stopping': True, 'max_iter': 1500},\n",
    "            {'hidden_layer_sizes': (30,), 'solver': 'adam', \n",
    "             'activation': 'relu','early_stopping': True, 'max_iter': 1500},\n",
    "            {'hidden_layer_sizes': (50,), 'solver': 'adam', \n",
    "             'activation': 'relu','early_stopping': True, 'max_iter': 1500},\n",
    "            {'hidden_layer_sizes': (10,), 'solver': 'sgd',  \n",
    "             'activation': 'tanh','early_stopping': True, 'max_iter': 1500},\n",
    "            {'hidden_layer_sizes': (30,), 'solver': 'sgd',  \n",
    "             'activation': 'tanh','early_stopping': True, 'max_iter': 1500},\n",
    "            {'hidden_layer_sizes': (50,), 'solver': 'sgd',  \n",
    "             'activation': 'tanh','early_stopping': True, 'max_iter': 1500},\n",
    "            {'hidden_layer_sizes': (10,), 'solver': 'adam', \n",
    "             'activation': 'tanh','early_stopping': True, 'max_iter': 1500},\n",
    "            {'hidden_layer_sizes': (30,), 'solver': 'adam', \n",
    "             'activation': 'tanh','early_stopping': True, 'max_iter': 1500},\n",
    "            {'hidden_layer_sizes': (50,), 'solver': 'adam', \n",
    "             'activation': 'tanh','early_stopping': True, 'max_iter': 1500}]\n",
    "\n",
    "    for i in range(len(dicc)):\n",
    "        train_indices2 = []\n",
    "        test_indices2 = []\n",
    "        for j in range(3):\n",
    "            for train_index, test_index in kf.split(X):\n",
    "                X_train, X_test = X[train_index],X[test_index]\n",
    "                y_train, y_test = y[train_index],y[test_index]\n",
    "                train_indices2.append(train_index)\n",
    "                test_indices2.append(test_index)\n",
    "                alg = MLPRegressor(**dicc[i])\n",
    "                alg.fit(X_train, y_train)\n",
    "                model.append(alg)\n",
    "                y_pred_test = alg.predict(X_test)\n",
    "                y_pred_train = alg.predict(X_train)\n",
    "                resultados_train.append(mean_squared_error(y_train,y_pred_train))\n",
    "                resultados_test.append(mean_squared_error(y_test,y_pred_test))\n",
    "        res_train = np.hstack((res_train, np.array(resultados_train,ndmin=2).T))\n",
    "        res_test = np.hstack((res_test, np.array(resultados_test,ndmin=2).T))\n",
    "        resultados_train = []\n",
    "        resultados_test = []\n",
    "        train_indices.append(train_indices2)\n",
    "        test_indices.append(test_indices2)"
   ]
  },
  {
   "cell_type": "code",
   "execution_count": 30,
   "metadata": {},
   "outputs": [
    {
     "name": "stdout",
     "output_type": "stream",
     "text": [
      "Wall time: 3h 39min 13s\n"
     ]
    },
    {
     "name": "stderr",
     "output_type": "stream",
     "text": [
      "C:\\Users\\iago_\\Anaconda3\\lib\\site-packages\\sklearn\\neural_network\\multilayer_perceptron.py:562: ConvergenceWarning: Stochastic Optimizer: Maximum iterations (1500) reached and the optimization hasn't converged yet.\n",
      "  % self.max_iter, ConvergenceWarning)\n"
     ]
    },
    {
     "name": "stdout",
     "output_type": "stream",
     "text": [
      "Wall time: 33min 27s\n"
     ]
    }
   ],
   "source": [
    "#definicion de variables globales.\n",
    "Xinicial,_ = Henon(5000)    \n",
    "t_ventana = 50   \n",
    "kf = KFold(n_splits=10,shuffle=True)\n",
    "resultados_train = []\n",
    "resultados_test = []\n",
    "model = []\n",
    "res_train = np.empty((30,0))\n",
    "res_test = np.empty((30,0))\n",
    "train_indices = []\n",
    "test_indices = []\n",
    "etiquetas = []\n",
    "scaler = StandardScaler()\n",
    "\n",
    "X,y = Ventanas(Xinicial, t_ventana)\n",
    "X = scaler.fit_transform(X)\n",
    "y = (y - np.mean(y))/np.std(y)\n",
    "\n",
    "%time SVR_multiple()\n",
    "%time MLP_multiple()\n",
    "\n",
    "#Persistencia\n",
    "with open('p4_henon-res_test_{}.bin'.format(t_ventana),'wb') as file:\n",
    "    pickle.dump(res_test, file)\n",
    "with open('p4_henon-train_indices_{}.bin'.format(t_ventana),'wb') as file:\n",
    "    pickle.dump(train_indices, file)\n",
    "with open('p4_henon-test_indices_{}.bin'.format(t_ventana),'wb') as file:\n",
    "    pickle.dump(test_indices, file)\n",
    "with open('p4_henon-models_{}.bin'.format(t_ventana),'wb') as file:\n",
    "    pickle.dump(model, file)\n",
    "with open('p4_henon-etiquetas_{}.bin'.format(t_ventana),'wb') as file:\n",
    "    pickle.dump(etiquetas, file)"
   ]
  },
  {
   "cell_type": "markdown",
   "metadata": {},
   "source": [
    "-------------------------------------------"
   ]
  },
  {
   "cell_type": "markdown",
   "metadata": {},
   "source": [
    "**Tamaño de ventana 25**"
   ]
  },
  {
   "cell_type": "code",
   "execution_count": 117,
   "metadata": {},
   "outputs": [],
   "source": [
    "with open('p4_henon-res_test_25.bin','rb') as file:\n",
    "    res_test = pickle.load(file)\n",
    "with open('p4_henon-etiquetas_25.bin','rb') as file:\n",
    "    etiquetas = pickle.load(file)"
   ]
  },
  {
   "cell_type": "markdown",
   "metadata": {},
   "source": [
    "**Test de normalidad**  \n",
    "No podemos rechazamos normalidad en el 82% de los modelos, por lo que realizamos un ANOVA (y Kruskal-Wallis para asegurarnos) "
   ]
  },
  {
   "cell_type": "code",
   "execution_count": 118,
   "metadata": {},
   "outputs": [
    {
     "data": {
      "text/plain": [
       "array([1.07282497e-01, 9.51114357e-01, 4.32747513e-01, 3.27298880e-01,\n",
       "       7.12458551e-01, 9.14164484e-01, 9.87228870e-01, 7.40317404e-01,\n",
       "       2.10345499e-02, 4.24262136e-01, 6.07879460e-01, 1.08250804e-01,\n",
       "       8.51956829e-02, 5.04126310e-01, 4.85553920e-01, 7.65059710e-01,\n",
       "       8.15281644e-02, 8.71062458e-01, 2.51818687e-01, 7.25765972e-07,\n",
       "       4.24751729e-01, 1.74684008e-03, 2.79816122e-05, 3.33196610e-01,\n",
       "       3.72855127e-01, 1.21497475e-02, 1.67014182e-01, 1.88577861e-01])"
      ]
     },
     "execution_count": 118,
     "metadata": {},
     "output_type": "execute_result"
    }
   ],
   "source": [
    "np.apply_along_axis(lambda x: stats.shapiro(x)[1], axis=0, arr=res_test)"
   ]
  },
  {
   "cell_type": "markdown",
   "metadata": {},
   "source": [
    "**Test Anova**  \n",
    "Rechazamos que las precisiones sean similares"
   ]
  },
  {
   "cell_type": "code",
   "execution_count": 119,
   "metadata": {},
   "outputs": [
    {
     "name": "stdout",
     "output_type": "stream",
     "text": [
      "F_onewayResult(statistic=3782.5052755684633, pvalue=0.0)\n"
     ]
    }
   ],
   "source": [
    "print(stats.f_oneway(*zip(*list(res_test))))"
   ]
  },
  {
   "cell_type": "markdown",
   "metadata": {},
   "source": [
    "**Test de Kruskal-Wallis**  \n",
    "Rechazamos que las precisiones sean similares"
   ]
  },
  {
   "cell_type": "code",
   "execution_count": 120,
   "metadata": {
    "scrolled": false
   },
   "outputs": [
    {
     "name": "stdout",
     "output_type": "stream",
     "text": [
      "KruskalResult(statistic=805.7100130230433, pvalue=2.438782354593256e-152)\n"
     ]
    }
   ],
   "source": [
    "print(stats.kruskal(*zip(*list(res_test))))"
   ]
  },
  {
   "cell_type": "code",
   "execution_count": 126,
   "metadata": {},
   "outputs": [],
   "source": [
    "# Ej: Para los 8 primeros modelos, min_i = 0, max_i = 9.\n",
    "def tukey_test(res_test, min_i, max_i, etiquetas):\n",
    "    test = [res_test[i][min_i:max_i] for i in range(res_test.shape[0])]\n",
    "    flat_test = np.array(test).flatten('F')\n",
    "    tags = [etiquetas[i] for i in range(min_i,max_i) for _ in range(res_test.shape[0])]\n",
    "    # seleccionamos el que tiene mejor media y vemos en el anterior cuales son iguales\n",
    "    best_group = np.argmin(np.mean(np.array(test), axis=0))\n",
    "    best_group = tags[int(best_group)*res_test.shape[0]]\n",
    "    result = pairwise_tukeyhsd(flat_test,tags)\n",
    "    print(result.plot_simultaneous(comparison_name=best_group))\n",
    "    return (result,best_group)"
   ]
  },
  {
   "cell_type": "code",
   "execution_count": 127,
   "metadata": {},
   "outputs": [
    {
     "name": "stdout",
     "output_type": "stream",
     "text": [
      "Figure(720x432)\n"
     ]
    },
    {
     "data": {
      "image/png": "[encoded data removed]",
      "text/plain": [
       "<Figure size 720x432 with 1 Axes>"
      ]
     },
     "metadata": {
      "needs_background": "light"
     },
     "output_type": "display_data"
    }
   ],
   "source": [
    "result,best_group = tukey_test(res_test, 2, 16, etiquetas)"
   ]
  },
  {
   "cell_type": "code",
   "execution_count": 128,
   "metadata": {},
   "outputs": [
    {
     "data": {
      "text/plain": [
       "['SVR poly 2º C100',\n",
       " 'SVR poly 3º C100',\n",
       " 'SVR rfb 0.05 C1',\n",
       " 'SVR rfb 0.05 C100',\n",
       " 'SVR rfb auto C1',\n",
       " 'SVR rfb auto C100']"
      ]
     },
     "execution_count": 128,
     "metadata": {},
     "output_type": "execute_result"
    }
   ],
   "source": [
    "resultados = result._results_table.data\n",
    "group1 = resultados[0].index('group1')\n",
    "group2 = resultados[0].index('group2')\n",
    "reject = resultados[0].index('reject')\n",
    "best_groups = []\n",
    "for row in resultados[1:]:\n",
    "    if (row[group1] == str(best_group) or row[group2] == str(best_group)) and not row[reject]:\n",
    "        best_groups.append(row[group1])\n",
    "        best_groups.append(row[group2])\n",
    "best_groups.append(best_group)\n",
    "best_groups = set(best_groups)\n",
    "sorted(best_groups)"
   ]
  },
  {
   "cell_type": "code",
   "execution_count": 129,
   "metadata": {},
   "outputs": [
    {
     "name": "stdout",
     "output_type": "stream",
     "text": [
      "Figure(720x432)\n"
     ]
    },
    {
     "data": {
      "image/png": "[encoded data removed]",
      "text/plain": [
       "<Figure size 720x432 with 1 Axes>"
      ]
     },
     "metadata": {
      "needs_background": "light"
     },
     "output_type": "display_data"
    }
   ],
   "source": [
    "best_list = sorted(best_groups)\n",
    "result,best_group = tukey_test(res_test, 16, 28, etiquetas)"
   ]
  },
  {
   "cell_type": "code",
   "execution_count": 130,
   "metadata": {},
   "outputs": [
    {
     "data": {
      "text/plain": [
       "['MLPR adam 10 relu',\n",
       " 'MLPR adam 10 tanh',\n",
       " 'MLPR adam 30 relu',\n",
       " 'MLPR adam 30 tanh',\n",
       " 'MLPR adam 50 relu',\n",
       " 'MLPR adam 50 tanh']"
      ]
     },
     "execution_count": 130,
     "metadata": {},
     "output_type": "execute_result"
    }
   ],
   "source": [
    "resultados = result._results_table.data\n",
    "group1 = resultados[0].index('group1')\n",
    "group2 = resultados[0].index('group2')\n",
    "reject = resultados[0].index('reject')\n",
    "best_groups = []\n",
    "for row in resultados[1:]:\n",
    "    if (row[group1] == str(best_group) or row[group2] == str(best_group)) and not row[reject]:\n",
    "        best_groups.append(row[group1])\n",
    "        best_groups.append(row[group2])\n",
    "best_groups.append(best_group)\n",
    "best_groups = set(best_groups)\n",
    "sorted(best_groups)"
   ]
  },
  {
   "cell_type": "code",
   "execution_count": 131,
   "metadata": {},
   "outputs": [],
   "source": [
    "best_list += sorted(best_groups)"
   ]
  },
  {
   "cell_type": "code",
   "execution_count": 132,
   "metadata": {},
   "outputs": [],
   "source": [
    "# Ej: Para los 8 primeros modelos, min_i = 0, max_i = 9.\n",
    "def tukey_best(res_test, simple_best, etiquetas):\n",
    "    simple_idx = [etiquetas.index(simple_tag) for simple_tag in simple_best]\n",
    "    # Para obtener los scores de test de los modelos indicados (30 de cada)\n",
    "    test = []\n",
    "    for simple_tag in simple_idx:\n",
    "        test += [res_test[i][simple_tag] for i in range(res_test.shape[0])]\n",
    "    flat_test = np.array(test)\n",
    "    tags = [tag for tag in simple_best for _ in range(res_test.shape[0])]\n",
    "    # seleccionamos el que tiene mejor media y vemos en el anterior cuales son iguales\n",
    "    best_group = np.argmin(np.mean(flat_test.reshape((len(simple_best), 30),order='C'), axis=1))\n",
    "    best_group = tags[int(best_group)*res_test.shape[0]]\n",
    "    result = pairwise_tukeyhsd(flat_test,tags)\n",
    "    print(result.plot_simultaneous(comparison_name=best_group))\n",
    "    return (result,best_group)"
   ]
  },
  {
   "cell_type": "code",
   "execution_count": 133,
   "metadata": {},
   "outputs": [
    {
     "name": "stdout",
     "output_type": "stream",
     "text": [
      "Figure(720x432)\n"
     ]
    },
    {
     "data": {
      "image/png": "[encoded data removed]",
      "text/plain": [
       "<Figure size 720x432 with 1 Axes>"
      ]
     },
     "metadata": {
      "needs_background": "light"
     },
     "output_type": "display_data"
    }
   ],
   "source": [
    "result, best_group = tukey_best(res_test, best_list, etiquetas)"
   ]
  },
  {
   "cell_type": "markdown",
   "metadata": {},
   "source": [
    "**Nos quedamos con el más sencillo**  \n",
    "El cual asumimos que es el MLPR con:\n",
    "- adam (Stochastic gradient-based optimizer)  \n",
    "- tanh (Hyperbolic tan function)  \n",
    "- 10 neuronas en la capa oculta"
   ]
  },
  {
   "cell_type": "code",
   "execution_count": 134,
   "metadata": {},
   "outputs": [
    {
     "name": "stdout",
     "output_type": "stream",
     "text": [
      "SVR poly 2º C100: 0.0270 +- 0.0020\n",
      "SVR poly 3º C100: 0.0219 +- 0.0013\n",
      "SVR rfb 0.05 C1: 0.0268 +- 0.0019\n",
      "SVR rfb 0.05 C100: 0.0161 +- 0.0013\n",
      "SVR rfb auto C1: 0.0229 +- 0.0023\n",
      "SVR rfb auto C100: 0.0125 +- 0.0010\n",
      "MLPR adam 10 relu: 0.0057 +- 0.0035\n",
      "MLPR adam 10 tanh: 0.0027 +- 0.0006\n",
      "MLPR adam 30 relu: 0.0050 +- 0.0010\n",
      "MLPR adam 30 tanh: 0.0023 +- 0.0004\n",
      "MLPR adam 50 relu: 0.0058 +- 0.0013\n",
      "MLPR adam 50 tanh: 0.0026 +- 0.0007\n"
     ]
    }
   ],
   "source": [
    "simple_idx = [etiquetas.index(simple_tag) for simple_tag in best_list]\n",
    "for ind, tag in enumerate(best_list):\n",
    "    mean_test = np.mean(res_test[:,simple_idx[ind]])\n",
    "    std_test = np.std(res_test[:,simple_idx[ind]])\n",
    "    print('{}: {:.4f} +- {:.4f}'.format(tag, mean_test, std_test))"
   ]
  },
  {
   "cell_type": "markdown",
   "metadata": {},
   "source": [
    "-------------------------------------------"
   ]
  },
  {
   "cell_type": "markdown",
   "metadata": {},
   "source": [
    "**Tamaño de ventana 50**"
   ]
  },
  {
   "cell_type": "code",
   "execution_count": 135,
   "metadata": {},
   "outputs": [],
   "source": [
    "with open('p4_henon-res_test_50.bin','rb') as file:\n",
    "    res_test = pickle.load(file)\n",
    "with open('p4_henon-etiquetas_50.bin','rb') as file:\n",
    "    etiquetas = pickle.load(file)"
   ]
  },
  {
   "cell_type": "markdown",
   "metadata": {},
   "source": [
    "**Test de normalidad**  \n",
    "Rechazamos normalidad, realizamos el test no paramétrico de Kruskal-Wallis en lugar de un Anova "
   ]
  },
  {
   "cell_type": "code",
   "execution_count": 136,
   "metadata": {},
   "outputs": [
    {
     "data": {
      "text/plain": [
       "array([7.10901916e-01, 5.77068567e-01, 5.45762122e-01, 9.98513520e-01,\n",
       "       6.10155404e-01, 1.69478983e-01, 1.24734409e-01, 7.06209600e-01,\n",
       "       9.22867537e-01, 1.42733589e-01, 5.16477346e-01, 9.32402492e-01,\n",
       "       9.63944852e-01, 3.95693421e-01, 7.70855725e-01, 4.32972997e-01,\n",
       "       8.41898561e-01, 1.01142429e-01, 6.88059807e-01, 2.49090884e-02,\n",
       "       9.36750730e-05, 2.04332434e-02, 1.59795448e-01, 4.91075660e-08,\n",
       "       5.22395624e-07, 4.57998581e-08, 1.61466449e-08, 4.74230262e-07])"
      ]
     },
     "execution_count": 136,
     "metadata": {},
     "output_type": "execute_result"
    }
   ],
   "source": [
    "np.apply_along_axis(lambda x: stats.shapiro(x)[1], axis=0, arr=res_test)"
   ]
  },
  {
   "cell_type": "markdown",
   "metadata": {},
   "source": [
    "**Test ANOVA**"
   ]
  },
  {
   "cell_type": "code",
   "execution_count": 137,
   "metadata": {},
   "outputs": [
    {
     "name": "stdout",
     "output_type": "stream",
     "text": [
      "F_onewayResult(statistic=462.8229904350119, pvalue=0.0)\n"
     ]
    }
   ],
   "source": [
    "print(stats.f_oneway(*zip(*list(res_test))))"
   ]
  },
  {
   "cell_type": "markdown",
   "metadata": {},
   "source": [
    "**Test de Kruskal-Wallis**  \n",
    "Rechazamos que las precisiones sean similares"
   ]
  },
  {
   "cell_type": "code",
   "execution_count": 138,
   "metadata": {
    "scrolled": false
   },
   "outputs": [
    {
     "name": "stdout",
     "output_type": "stream",
     "text": [
      "KruskalResult(statistic=796.8986829737833, pvalue=1.7417522962462723e-150)\n"
     ]
    }
   ],
   "source": [
    "print(stats.kruskal(*zip(*list(res_test))))"
   ]
  },
  {
   "cell_type": "code",
   "execution_count": 144,
   "metadata": {},
   "outputs": [
    {
     "name": "stdout",
     "output_type": "stream",
     "text": [
      "Figure(720x432)\n"
     ]
    },
    {
     "data": {
      "image/png": "[encoded data removed]",
      "text/plain": [
       "<Figure size 720x432 with 1 Axes>"
      ]
     },
     "metadata": {
      "needs_background": "light"
     },
     "output_type": "display_data"
    }
   ],
   "source": [
    "result,best_group = tukey_test(res_test, 2, 16, etiquetas)"
   ]
  },
  {
   "cell_type": "code",
   "execution_count": 145,
   "metadata": {},
   "outputs": [
    {
     "data": {
      "text/plain": [
       "['SVR poly 2º C100']"
      ]
     },
     "execution_count": 145,
     "metadata": {},
     "output_type": "execute_result"
    }
   ],
   "source": [
    "resultados = result._results_table.data\n",
    "group1 = resultados[0].index('group1')\n",
    "group2 = resultados[0].index('group2')\n",
    "reject = resultados[0].index('reject')\n",
    "best_groups = []\n",
    "for row in resultados[1:]:\n",
    "    if (row[group1] == str(best_group) or row[group2] == str(best_group)) and not row[reject]:\n",
    "        best_groups.append(row[group1])\n",
    "        best_groups.append(row[group2])\n",
    "best_groups.append(best_group)\n",
    "best_groups = set(best_groups)\n",
    "sorted(best_groups)"
   ]
  },
  {
   "cell_type": "code",
   "execution_count": 146,
   "metadata": {},
   "outputs": [
    {
     "name": "stdout",
     "output_type": "stream",
     "text": [
      "Figure(720x432)\n"
     ]
    },
    {
     "data": {
      "image/png": "[encoded data removed]",
      "text/plain": [
       "<Figure size 720x432 with 1 Axes>"
      ]
     },
     "metadata": {
      "needs_background": "light"
     },
     "output_type": "display_data"
    }
   ],
   "source": [
    "best_list = sorted(best_groups)\n",
    "result,best_group = tukey_test(res_test, 16, 28, etiquetas)"
   ]
  },
  {
   "cell_type": "code",
   "execution_count": 147,
   "metadata": {},
   "outputs": [
    {
     "data": {
      "text/plain": [
       "['MLPR adam 10 relu',\n",
       " 'MLPR adam 10 tanh',\n",
       " 'MLPR adam 30 relu',\n",
       " 'MLPR adam 30 tanh',\n",
       " 'MLPR adam 50 relu',\n",
       " 'MLPR adam 50 tanh',\n",
       " 'MLPR sgd 10 relu',\n",
       " 'MLPR sgd 10 tanh',\n",
       " 'MLPR sgd 30 relu',\n",
       " 'MLPR sgd 50 relu']"
      ]
     },
     "execution_count": 147,
     "metadata": {},
     "output_type": "execute_result"
    }
   ],
   "source": [
    "resultados = result._results_table.data\n",
    "group1 = resultados[0].index('group1')\n",
    "group2 = resultados[0].index('group2')\n",
    "reject = resultados[0].index('reject')\n",
    "best_groups = []\n",
    "for row in resultados[1:]:\n",
    "    if (row[group1] == str(best_group) or row[group2] == str(best_group)) and not row[reject]:\n",
    "        best_groups.append(row[group1])\n",
    "        best_groups.append(row[group2])\n",
    "best_groups.append(best_group)\n",
    "best_groups = set(best_groups)\n",
    "sorted(best_groups)"
   ]
  },
  {
   "cell_type": "code",
   "execution_count": 148,
   "metadata": {},
   "outputs": [],
   "source": [
    "best_list += sorted(best_groups)"
   ]
  },
  {
   "cell_type": "code",
   "execution_count": 149,
   "metadata": {},
   "outputs": [
    {
     "name": "stdout",
     "output_type": "stream",
     "text": [
      "Figure(720x432)\n"
     ]
    },
    {
     "data": {
      "image/png": "[encoded data removed]",
      "text/plain": [
       "<Figure size 720x432 with 1 Axes>"
      ]
     },
     "metadata": {
      "needs_background": "light"
     },
     "output_type": "display_data"
    }
   ],
   "source": [
    "result, best_group = tukey_best(res_test, best_list, etiquetas)"
   ]
  },
  {
   "cell_type": "markdown",
   "metadata": {},
   "source": [
    "**Nos quedamos con el más sencillo**  \n",
    "El cual asumimos que es el MLPR con:\n",
    "- adam (Stochastic gradient-based optimizer)  \n",
    "- relu (Rectified linear unit function)  \n",
    "- 10 neuronas en la capa oculta"
   ]
  },
  {
   "cell_type": "code",
   "execution_count": 150,
   "metadata": {},
   "outputs": [
    {
     "name": "stdout",
     "output_type": "stream",
     "text": [
      "SVR poly 2º C100: 0.0327 +- 0.0027\n",
      "MLPR adam 10 relu: 0.0065 +- 0.0027\n",
      "MLPR adam 10 tanh: 0.0039 +- 0.0029\n",
      "MLPR adam 30 relu: 0.0088 +- 0.0032\n",
      "MLPR adam 30 tanh: 0.0047 +- 0.0039\n",
      "MLPR adam 50 relu: 0.0166 +- 0.0053\n",
      "MLPR adam 50 tanh: 0.0128 +- 0.0123\n",
      "MLPR sgd 10 relu: 0.0330 +- 0.0098\n",
      "MLPR sgd 10 tanh: 0.0220 +- 0.0067\n",
      "MLPR sgd 30 relu: 0.0302 +- 0.0077\n",
      "MLPR sgd 50 relu: 0.0367 +- 0.0075\n"
     ]
    }
   ],
   "source": [
    "simple_idx = [etiquetas.index(simple_tag) for simple_tag in best_list]\n",
    "for ind, tag in enumerate(best_list):\n",
    "    mean_test = np.mean(res_test[:,simple_idx[ind]])\n",
    "    std_test = np.std(res_test[:,simple_idx[ind]])\n",
    "    print('{}: {:.4f} +- {:.4f}'.format(tag, mean_test, std_test))"
   ]
  }
 ],
 "metadata": {
  "kernelspec": {
   "display_name": "Python 3",
   "language": "python",
   "name": "python3"
  },
  "language_info": {
   "codemirror_mode": {
    "name": "ipython",
    "version": 3
   },
   "file_extension": ".py",
   "mimetype": "text/x-python",
   "name": "python",
   "nbconvert_exporter": "python",
   "pygments_lexer": "ipython3",
   "version": "3.7.1"
  }
 },
 "nbformat": 4,
 "nbformat_minor": 2
}
