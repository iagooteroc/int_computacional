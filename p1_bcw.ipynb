{
 "cells": [
  {
   "cell_type": "code",
   "execution_count": 31,
   "metadata": {},
   "outputs": [],
   "source": [
    "import pandas as pd\n",
    "import os\n",
    "from sklearn import datasets\n",
    "import numpy as np\n",
    "import matplotlib.pyplot as plt\n",
    "import itertools as it\n",
    "from sklearn.neighbors import LocalOutlierFactor\n",
    "from sklearn.model_selection import train_test_split, GridSearchCV, KFold\n",
    "from sklearn.discriminant_analysis import LinearDiscriminantAnalysis, QuadraticDiscriminantAnalysis\n",
    "from sklearn.metrics import confusion_matrix, classification_report\n",
    "from sklearn.utils import shuffle\n",
    "from scipy import stats\n",
    "from statsmodels.stats.multicomp import (pairwise_tukeyhsd,\n",
    "                                         MultiComparison)\n",
    "from sklearn.metrics import roc_curve"
   ]
  },
  {
   "cell_type": "markdown",
   "metadata": {},
   "source": [
    "## Cargamos dataset"
   ]
  },
  {
   "cell_type": "code",
   "execution_count": 32,
   "metadata": {},
   "outputs": [],
   "source": [
    "# Cargamos dataset Breast Cancer Wisconsin (Original)\n",
    "ds = pd.read_csv('./breast-cancer-wisconsin.data', usecols=[1,2,3,4,5,6,7,8,9,10], names=[0,1,2,3,4,5,6,7,8,9], header=None)"
   ]
  },
  {
   "cell_type": "code",
   "execution_count": 33,
   "metadata": {},
   "outputs": [],
   "source": [
    "output = 9\n",
    "# Transformamos la columna de clases a 0-1 (actualmente son 2,4)\n",
    "ds[output] = np.uint8(ds[output]/2-1)\n",
    "y = ds[output].values\n",
    "X = ds.drop(output,axis=1).values"
   ]
  },
  {
   "cell_type": "markdown",
   "metadata": {},
   "source": [
    "## Preprocesado de datos"
   ]
  },
  {
   "cell_type": "markdown",
   "metadata": {},
   "source": [
    "**Comprobamos que no haya \"missing values\"**  \n",
    "Según https://archive.ics.uci.edu/ml/datasets, los Missing Values están etiquetados como '?'.  \n",
    "Eliminamos las filas con dicho valor."
   ]
  },
  {
   "cell_type": "code",
   "execution_count": 34,
   "metadata": {},
   "outputs": [],
   "source": [
    "rows = np.argwhere(X == '?')[:,0]\n",
    "X = np.delete(X,rows,0)\n",
    "y = np.delete(y,rows)\n",
    "X = X.astype(np.uint8)"
   ]
  },
  {
   "cell_type": "code",
   "execution_count": 35,
   "metadata": {
    "scrolled": true
   },
   "outputs": [
    {
     "data": {
      "text/plain": [
       "True"
      ]
     },
     "execution_count": 35,
     "metadata": {},
     "output_type": "execute_result"
    }
   ],
   "source": [
    "attr = []\n",
    "# Iteramos los atributos del dataset\n",
    "for i in ds.columns:\n",
    "    # Comprobamos los valores de cada atributo\n",
    "    attr.append(np.all(ds[i].notna()))\n",
    "# Ningún atributo tiene missing values:\n",
    "np.all(np.array(attr))"
   ]
  },
  {
   "cell_type": "markdown",
   "metadata": {},
   "source": [
    "**Comprobamos que no haya variables con \"near-zero variance\"**  \n",
    "Vemos que no hay ninguna."
   ]
  },
  {
   "cell_type": "code",
   "execution_count": 36,
   "metadata": {
    "scrolled": true
   },
   "outputs": [
    {
     "data": {
      "text/plain": [
       "Int64Index([], dtype='int64')"
      ]
     },
     "execution_count": 36,
     "metadata": {},
     "output_type": "execute_result"
    }
   ],
   "source": [
    "ds.columns.drop(output)[ds.std() < 0.001]"
   ]
  },
  {
   "cell_type": "markdown",
   "metadata": {},
   "source": [
    "**Comprobamos que no haya variables iguales**  \n",
    "Vemos que no hay ninguna."
   ]
  },
  {
   "cell_type": "code",
   "execution_count": 37,
   "metadata": {},
   "outputs": [],
   "source": [
    "resultados = np.zeros((len(ds.columns), len(ds.columns)))\n",
    "for i in range(len(ds.columns)):\n",
    "    for j in range(len(ds.columns)):\n",
    "        resultados[i, j] = np.mean(ds.iloc[:, i] == ds.iloc[:, j])"
   ]
  },
  {
   "cell_type": "code",
   "execution_count": 38,
   "metadata": {},
   "outputs": [],
   "source": [
    "iguales = []\n",
    "for i, j in it.combinations(range(len(ds.columns)), 2):\n",
    "    if round(resultados[i, j], 4) == 1:\n",
    "        iguales.append(ds.columns[i])\n",
    "        print(ds.columns[i], ds.columns[j])"
   ]
  },
  {
   "cell_type": "markdown",
   "metadata": {},
   "source": [
    "**Comprobamos que las clases no estén desbalanceadas**  \n"
   ]
  },
  {
   "cell_type": "code",
   "execution_count": 39,
   "metadata": {},
   "outputs": [],
   "source": [
    "y = np.array([i for i,j in enumerate(set(y)) for k in y if j == k])"
   ]
  },
  {
   "cell_type": "code",
   "execution_count": 56,
   "metadata": {
    "scrolled": false
   },
   "outputs": [
    {
     "name": "stdout",
     "output_type": "stream",
     "text": [
      "Proporción clase 0:  0.6500732064421669\n",
      "Proporción clase 1:  0.34992679355783307\n"
     ]
    }
   ],
   "source": [
    "print('Proporción clase 0: ',np.mean(y==0))\n",
    "print('Proporción clase 1: ',np.mean(y==1))"
   ]
  },
  {
   "cell_type": "markdown",
   "metadata": {},
   "source": [
    "**Desordenamos los datos**"
   ]
  },
  {
   "cell_type": "code",
   "execution_count": 41,
   "metadata": {},
   "outputs": [],
   "source": [
    "X,y = shuffle(X,y)"
   ]
  },
  {
   "cell_type": "markdown",
   "metadata": {},
   "source": [
    "## Detección de Outliers"
   ]
  },
  {
   "cell_type": "code",
   "execution_count": 42,
   "metadata": {},
   "outputs": [],
   "source": [
    "clf = LocalOutlierFactor(n_neighbors=20, contamination=0.1)"
   ]
  },
  {
   "cell_type": "code",
   "execution_count": 43,
   "metadata": {},
   "outputs": [],
   "source": [
    "y_pred = clf.fit_predict(X)"
   ]
  },
  {
   "cell_type": "code",
   "execution_count": 44,
   "metadata": {},
   "outputs": [],
   "source": [
    "X_scores = clf.negative_outlier_factor_"
   ]
  },
  {
   "cell_type": "code",
   "execution_count": 57,
   "metadata": {},
   "outputs": [
    {
     "data": {
      "image/png": "[encoded data removed]",
      "text/plain": [
       "<Figure size 432x288 with 1 Axes>"
      ]
     },
     "metadata": {
      "needs_background": "light"
     },
     "output_type": "display_data"
    }
   ],
   "source": [
    "plt.title(\"Local Outlier Factor (LOF)\")\n",
    "plt.scatter(X[:, 0], X[:, 1], color='k', s=3., label='Data points')\n",
    "# plot circles with radius proportional to the outlier scores\n",
    "radius = (X_scores.max() - X_scores) / (X_scores.max() - X_scores.min())\n",
    "plt.scatter(X[:, 0], X[:, 1], s=1000 * radius, edgecolors='r',\n",
    "            facecolors='none', label='Outlier scores')\n",
    "plt.show()"
   ]
  },
  {
   "cell_type": "code",
   "execution_count": 62,
   "metadata": {
    "scrolled": true
   },
   "outputs": [
    {
     "data": {
      "image/png": "[encoded data removed]",
      "text/plain": [
       "<Figure size 648x360 with 2 Axes>"
      ]
     },
     "metadata": {
      "needs_background": "light"
     },
     "output_type": "display_data"
    }
   ],
   "source": [
    "f, ax = plt.subplots(2,1,figsize=(9,5))\n",
    "for i in set(y):\n",
    "    temp = X[y == i]\n",
    "    y_pred = clf.fit_predict(temp)\n",
    "    temp_scores = clf.negative_outlier_factor_\n",
    "    ax[i].plot(range(len(temp_scores)),sorted(-temp_scores))"
   ]
  },
  {
   "cell_type": "code",
   "execution_count": 63,
   "metadata": {},
   "outputs": [
    {
     "data": {
      "image/png": "[encoded data removed]",
      "text/plain": [
       "<Figure size 1080x360 with 2 Axes>"
      ]
     },
     "metadata": {
      "needs_background": "light"
     },
     "output_type": "display_data"
    }
   ],
   "source": [
    "f, ax = plt.subplots(1,2,figsize=(15,5))\n",
    "for i in set(y):\n",
    "    temp = X[y == i]\n",
    "    data = []\n",
    "    for j in range(X.shape[1]):\n",
    "        data.append(temp[:,j])\n",
    "    bp = ax[i].boxplot(data)\n",
    "plt.show()"
   ]
  },
  {
   "cell_type": "code",
   "execution_count": 64,
   "metadata": {
    "scrolled": true
   },
   "outputs": [
    {
     "data": {
      "image/png": "[encoded data removed]",
      "text/plain": [
       "<Figure size 576x360 with 1 Axes>"
      ]
     },
     "metadata": {
      "needs_background": "light"
     },
     "output_type": "display_data"
    }
   ],
   "source": [
    "# Create a figure instance\n",
    "fig = plt.figure(figsize=(8, 5))\n",
    "# Create an axes instance\n",
    "ax = fig.add_subplot(111)\n",
    "data = []\n",
    "for j in range(X.shape[1]):\n",
    "    data.append(X[:,j])\n",
    "bp = ax.boxplot(data)\n",
    "plt.show()"
   ]
  },
  {
   "cell_type": "markdown",
   "metadata": {},
   "source": [
    "## Entrenamiento de Modelos"
   ]
  },
  {
   "cell_type": "markdown",
   "metadata": {},
   "source": [
    "**Hold Out**"
   ]
  },
  {
   "cell_type": "code",
   "execution_count": 50,
   "metadata": {},
   "outputs": [],
   "source": [
    "def performance_indexes(CM, PositiveClass):\n",
    "    classNum = len(CM)\n",
    "    TP = CM[PositiveClass, PositiveClass]\n",
    "    TN = 0\n",
    "    FP = 0\n",
    "    FN = 0\n",
    "    for real in range(classNum):\n",
    "        for predicted in range(classNum):\n",
    "            if (real != PositiveClass and predicted != PositiveClass):\n",
    "                TN += CM[real, predicted]\n",
    "            if (real != PositiveClass and predicted == PositiveClass):\n",
    "                FP += CM[real, predicted]\n",
    "            if (real != PositiveClass and predicted == PositiveClass):\n",
    "                FN += CM[real, predicted]\n",
    "    Sens = TP/(TP+FN)\n",
    "    Spec = TN/(TN+FP)\n",
    "    PPV = TP/(TP+FP)\n",
    "    NPV = TN/(TN+FN)\n",
    "    ACC = (TP+TN)/(TP+TN+FP+FN)\n",
    "    return Sens,Spec,PPV,NPV,ACC"
   ]
  },
  {
   "cell_type": "code",
   "execution_count": 51,
   "metadata": {},
   "outputs": [],
   "source": [
    "# CM = confusion_matrix(y_test, y_pred)\n",
    "# Sens,Spec,PPV,NPV,ACC = performance_indexes(CM,1)\n",
    "# print('Sens: {:.4f}, Spec: {:.4f}, PPV: {:.4f}, NPV: {:.4f}, ACC: {:.4f}'.format(Sens,Spec,PPV,NPV,ACC))"
   ]
  },
  {
   "cell_type": "markdown",
   "metadata": {},
   "source": [
    "**kFold - Linear Discriminant Analysis**"
   ]
  },
  {
   "cell_type": "code",
   "execution_count": 52,
   "metadata": {},
   "outputs": [],
   "source": [
    "kf = KFold(n_splits=10)\n",
    "resultados_train = []\n",
    "resultados_test = []\n",
    "for tipo in ('lsqr', 'eigen', 'svd'):\n",
    "    for _ in range(3):\n",
    "        for train_index, test_index in kf.split(X):\n",
    "            X_train, X_test = X[train_index], X[test_index]\n",
    "            y_train, y_test = y[train_index], y[test_index]\n",
    "            alg = LinearDiscriminantAnalysis(solver=tipo, shrinkage=None)\n",
    "            alg.fit(X_train, y_train)\n",
    "            resultados_train.append(alg.score(X_train, y_train))\n",
    "            resultados_test.append(alg.score(X_test, y_test))\n",
    "resultados_train = np.reshape(resultados_train,(30,3),order='F')\n",
    "resultados_test = np.reshape(resultados_test,(30,3),order='F')"
   ]
  },
  {
   "cell_type": "markdown",
   "metadata": {},
   "source": [
    "**Test de normalidad**  \n",
    "Rechazamos normalidad"
   ]
  },
  {
   "cell_type": "code",
   "execution_count": 53,
   "metadata": {},
   "outputs": [
    {
     "name": "stdout",
     "output_type": "stream",
     "text": [
      "0.00027405022410675883\n",
      "0.07240431010723114\n",
      "0.0001589820603840053\n"
     ]
    }
   ],
   "source": [
    "print(stats.shapiro(resultados_test[:,0])[1])\n",
    "print(stats.shapiro(resultados_test[:,1])[1])\n",
    "print(stats.shapiro(resultados_test[:,2])[1])"
   ]
  },
  {
   "cell_type": "markdown",
   "metadata": {},
   "source": [
    "**Test de Kruskal-Wallis**  \n",
    "No se puede rechazar que las precisiones sean similares"
   ]
  },
  {
   "cell_type": "code",
   "execution_count": 54,
   "metadata": {
    "scrolled": false
   },
   "outputs": [
    {
     "name": "stdout",
     "output_type": "stream",
     "text": [
      "KruskalResult(statistic=5.823730734360863, pvalue=0.05437420734838911)\n"
     ]
    }
   ],
   "source": [
    "print(stats.kruskal(resultados_test[:,0],resultados_test[:,1],resultados_test[:,2]))"
   ]
  },
  {
   "cell_type": "markdown",
   "metadata": {},
   "source": [
    "**kFold - Quadratic Discriminant Analysis**"
   ]
  },
  {
   "cell_type": "code",
   "execution_count": 70,
   "metadata": {},
   "outputs": [],
   "source": [
    "kf = KFold(n_splits=10)\n",
    "resultados_trainq = []\n",
    "resultados_testq = []\n",
    "for _ in range(3):\n",
    "    for train_index, test_index in kf.split(X):\n",
    "        X_train, X_test = X[train_index], X[test_index]\n",
    "        y_train, y_test = y[train_index], y[test_index]\n",
    "        alg = QuadraticDiscriminantAnalysis(priors=np.array([1/3, 1/3]))\n",
    "        alg.fit(X_train, y_train)\n",
    "        # print(classification_report(y_true, y_pred, target_names=target_names))\n",
    "        resultados_trainq.append(alg.score(X_train, y_train))\n",
    "        resultados_testq.append(alg.score(X_test, y_test))\n",
    "# resultados_train = np.reshape(resultados_train,(10,3),order='F')\n",
    "# resultados_test = np.reshape(resultados_test,(10,3),order='F')"
   ]
  },
  {
   "cell_type": "markdown",
   "metadata": {},
   "source": [
    "**Test de normalidad**  \n",
    "Rechazamos normalidad"
   ]
  },
  {
   "cell_type": "code",
   "execution_count": 71,
   "metadata": {
    "scrolled": true
   },
   "outputs": [
    {
     "name": "stdout",
     "output_type": "stream",
     "text": [
      "0.01982201635837555\n"
     ]
    }
   ],
   "source": [
    "print(stats.shapiro(resultados_testq)[1])"
   ]
  },
  {
   "cell_type": "markdown",
   "metadata": {},
   "source": [
    "**Test de Kruskal-Wallis**  \n",
    "Se puede rechazar que las precisiones sean similares"
   ]
  },
  {
   "cell_type": "code",
   "execution_count": 72,
   "metadata": {
    "scrolled": true
   },
   "outputs": [
    {
     "name": "stdout",
     "output_type": "stream",
     "text": [
      "KruskalResult(statistic=31.945725928733882, pvalue=5.373131172807649e-07)\n"
     ]
    }
   ],
   "source": [
    "#TODO: renombrar variables mejor\n",
    "print(stats.kruskal(resultados_test[:,0],resultados_test[:,1],resultados_test[:,2], resultados_testq))"
   ]
  },
  {
   "cell_type": "markdown",
   "metadata": {},
   "source": [
    "**Tukey**"
   ]
  },
  {
   "cell_type": "code",
   "execution_count": 76,
   "metadata": {},
   "outputs": [],
   "source": [
    "resultados_test = resultados_test.flatten(\"F\")\n",
    "resultados_testq = np.array(resultados_testq)\n",
    "resultados_test = np.concatenate((resultados_test,resultados_testq))\n",
    "labels = [i for i in \"0123\" for _ in range(int(resultados_test.shape[0]/4))]"
   ]
  },
  {
   "cell_type": "code",
   "execution_count": 77,
   "metadata": {},
   "outputs": [
    {
     "name": "stdout",
     "output_type": "stream",
     "text": [
      "Multiple Comparison of Means - Tukey HSD,FWER=0.05\n",
      "=============================================\n",
      "group1 group2 meandiff  lower   upper  reject\n",
      "---------------------------------------------\n",
      "  0      1    -0.0353  -0.0788  0.0083 False \n",
      "  0      2    -0.0015   -0.045  0.0421 False \n",
      "  0      3    -0.0893  -0.1329 -0.0458  True \n",
      "  1      2     0.0338  -0.0098  0.0774 False \n",
      "  1      3    -0.0541  -0.0976 -0.0105  True \n",
      "  2      3    -0.0879  -0.1314 -0.0443  True \n",
      "---------------------------------------------\n"
     ]
    }
   ],
   "source": [
    "resultados = pairwise_tukeyhsd(resultados_test,labels)\n",
    "print(resultados.summary())"
   ]
  },
  {
   "cell_type": "markdown",
   "metadata": {},
   "source": [
    "**----------------------------------------------------------------------------------------------------------------------------**"
   ]
  },
  {
   "cell_type": "markdown",
   "metadata": {},
   "source": [
    "## Persistencia"
   ]
  },
  {
   "cell_type": "code",
   "execution_count": 75,
   "metadata": {},
   "outputs": [],
   "source": [
    "# with open('RForest_Zika_oversampled.bin','wb') as file:\n",
    "#     pickle.dump(alg_o, file)\n",
    "# with open('RForest_Zika_undersampled.bin','wb') as file:\n",
    "#     pickle.dump(alg_u, file)"
   ]
  },
  {
   "cell_type": "markdown",
   "metadata": {},
   "source": [
    "## FIN"
   ]
  }
 ],
 "metadata": {
  "kernelspec": {
   "display_name": "Python 3",
   "language": "python",
   "name": "python3"
  },
  "language_info": {
   "codemirror_mode": {
    "name": "ipython",
    "version": 3
   },
   "file_extension": ".py",
   "mimetype": "text/x-python",
   "name": "python",
   "nbconvert_exporter": "python",
   "pygments_lexer": "ipython3",
   "version": "3.7.1"
  }
 },
 "nbformat": 4,
 "nbformat_minor": 2
}
