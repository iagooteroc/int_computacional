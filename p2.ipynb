{
 "cells": [
  {
   "cell_type": "code",
   "execution_count": 1,
   "metadata": {},
   "outputs": [],
   "source": [
    "import pandas as pd\n",
    "import os\n",
    "from sklearn import datasets\n",
    "import numpy as np\n",
    "import matplotlib.pyplot as plt\n",
    "import itertools as it\n",
    "from sklearn.neighbors import LocalOutlierFactor\n",
    "from sklearn.model_selection import train_test_split, GridSearchCV, KFold\n",
    "from sklearn.discriminant_analysis import (LinearDiscriminantAnalysis, \n",
    "                                            QuadraticDiscriminantAnalysis)\n",
    "from sklearn.metrics import confusion_matrix, classification_report\n",
    "from sklearn.utils import shuffle\n",
    "from scipy import stats\n",
    "from statsmodels.stats.multicomp import (pairwise_tukeyhsd,\n",
    "                                         MultiComparison)\n",
    "from sklearn.metrics import roc_curve\n",
    "from sklearn.tree import DecisionTreeClassifier"
   ]
  },
  {
   "cell_type": "markdown",
   "metadata": {},
   "source": [
    "## Cargamos dataset"
   ]
  },
  {
   "cell_type": "code",
   "execution_count": 2,
   "metadata": {},
   "outputs": [],
   "source": [
    "# Cargamos dataset Iris\n",
    "ds = pd.read_csv('iris.data', header=None, names=['largo_sepalo',\n",
    "                                                  'ancho_sepalo',\n",
    "                                                  'largo_petalo',\n",
    "                                                  'ancho_petalo',\n",
    "                                                  'clase'])"
   ]
  },
  {
   "cell_type": "code",
   "execution_count": 3,
   "metadata": {},
   "outputs": [],
   "source": [
    "output = 'clase'\n",
    "y = ds[output].values\n",
    "X = ds.drop(output,axis=1).values"
   ]
  },
  {
   "cell_type": "markdown",
   "metadata": {},
   "source": [
    "## Preprocesado de datos"
   ]
  },
  {
   "cell_type": "markdown",
   "metadata": {},
   "source": [
    "**Comprobamos que no haya \"missing values\"**  \n",
    "Dado que no los hay, seguimos adelante."
   ]
  },
  {
   "cell_type": "code",
   "execution_count": 4,
   "metadata": {
    "scrolled": true
   },
   "outputs": [
    {
     "data": {
      "text/plain": [
       "True"
      ]
     },
     "execution_count": 4,
     "metadata": {},
     "output_type": "execute_result"
    }
   ],
   "source": [
    "attr = []\n",
    "# Iteramos los atributos del dataset\n",
    "for i in ds.columns:\n",
    "    # Comprobamos los valores de cada atributo\n",
    "    attr.append(np.all(ds[i].notna()))\n",
    "# Ningún atributo tiene missing values:\n",
    "np.all(np.array(attr))"
   ]
  },
  {
   "cell_type": "markdown",
   "metadata": {},
   "source": [
    "**Comprobamos que no haya variables con \"near-zero variance\"**  \n",
    "Vemos que no hay ninguna."
   ]
  },
  {
   "cell_type": "code",
   "execution_count": 5,
   "metadata": {
    "scrolled": true
   },
   "outputs": [
    {
     "data": {
      "text/plain": [
       "Index([], dtype='object')"
      ]
     },
     "execution_count": 5,
     "metadata": {},
     "output_type": "execute_result"
    }
   ],
   "source": [
    "ds.columns.drop(output)[ds.std() < 0.001]"
   ]
  },
  {
   "cell_type": "markdown",
   "metadata": {},
   "source": [
    "**Comprobamos que no haya variables iguales**  \n",
    "Vemos que no hay ninguna."
   ]
  },
  {
   "cell_type": "code",
   "execution_count": 6,
   "metadata": {},
   "outputs": [],
   "source": [
    "resultados = np.zeros((len(ds.columns), len(ds.columns)))\n",
    "for i in range(len(ds.columns)):\n",
    "    for j in range(len(ds.columns)):\n",
    "        resultados[i, j] = np.mean(ds.iloc[:, i] == ds.iloc[:, j])"
   ]
  },
  {
   "cell_type": "code",
   "execution_count": 7,
   "metadata": {},
   "outputs": [],
   "source": [
    "iguales = []\n",
    "for i, j in it.combinations(range(len(ds.columns)), 2):\n",
    "    if round(resultados[i, j], 4) == 1:\n",
    "        iguales.append(ds.columns[i])\n",
    "        print(ds.columns[i], ds.columns[j])"
   ]
  },
  {
   "cell_type": "markdown",
   "metadata": {},
   "source": [
    "**Comprobamos que las clases no estén desbalanceadas**  \n",
    "No lo están."
   ]
  },
  {
   "cell_type": "code",
   "execution_count": 8,
   "metadata": {},
   "outputs": [],
   "source": [
    "y = np.array([i for i,j in enumerate(set(y)) for k in y if j == k])"
   ]
  },
  {
   "cell_type": "code",
   "execution_count": 9,
   "metadata": {
    "scrolled": false
   },
   "outputs": [
    {
     "name": "stdout",
     "output_type": "stream",
     "text": [
      "Proporción clase 0:  0.3333333333333333\n",
      "Proporción clase 1:  0.3333333333333333\n",
      "Proporción clase 2:  0.3333333333333333\n"
     ]
    }
   ],
   "source": [
    "print('Proporción clase 0: ',np.mean(y==0))\n",
    "print('Proporción clase 1: ',np.mean(y==1))\n",
    "print('Proporción clase 2: ',np.mean(y==2))"
   ]
  },
  {
   "cell_type": "markdown",
   "metadata": {},
   "source": [
    "**Desordenamos los datos**"
   ]
  },
  {
   "cell_type": "code",
   "execution_count": 10,
   "metadata": {},
   "outputs": [],
   "source": [
    "X,y = shuffle(X,y)"
   ]
  },
  {
   "cell_type": "markdown",
   "metadata": {},
   "source": [
    "## Detección de Outliers\n",
    "Visualizamos de distintas formas los posibles outliers  \n",
    "y vemos que se puede considerar que existen pero son pocos y no los tratamos."
   ]
  },
  {
   "cell_type": "code",
   "execution_count": 11,
   "metadata": {},
   "outputs": [],
   "source": [
    "clf = LocalOutlierFactor(n_neighbors=20, contamination=0.1)"
   ]
  },
  {
   "cell_type": "code",
   "execution_count": 12,
   "metadata": {},
   "outputs": [],
   "source": [
    "y_pred = clf.fit_predict(X)"
   ]
  },
  {
   "cell_type": "code",
   "execution_count": 13,
   "metadata": {},
   "outputs": [],
   "source": [
    "X_scores = clf.negative_outlier_factor_"
   ]
  },
  {
   "cell_type": "code",
   "execution_count": 14,
   "metadata": {},
   "outputs": [
    {
     "data": {
      "image/png": "[encoded data removed]",
      "text/plain": [
       "<Figure size 432x288 with 1 Axes>"
      ]
     },
     "metadata": {
      "needs_background": "light"
     },
     "output_type": "display_data"
    }
   ],
   "source": [
    "plt.title(\"Local Outlier Factor (LOF)\")\n",
    "plt.scatter(X[:, 0], X[:, 1], color='k', s=3., label='Data points')\n",
    "# plot circles with radius proportional to the outlier scores\n",
    "radius = (X_scores.max() - X_scores) / (X_scores.max() - X_scores.min())\n",
    "plt.scatter(X[:, 0], X[:, 1], s=1000 * radius, edgecolors='r',\n",
    "            facecolors='none', label='Outlier scores')\n",
    "plt.show()"
   ]
  },
  {
   "cell_type": "code",
   "execution_count": 15,
   "metadata": {},
   "outputs": [
    {
     "data": {
      "image/png": "[encoded data removed]",
      "text/plain": [
       "<Figure size 648x432 with 3 Axes>"
      ]
     },
     "metadata": {
      "needs_background": "light"
     },
     "output_type": "display_data"
    }
   ],
   "source": [
    "f, ax = plt.subplots(3,1,figsize=(9,6))\n",
    "for i in set(y):\n",
    "    temp = X[y == i]\n",
    "    y_pred = clf.fit_predict(temp)\n",
    "    temp_scores = clf.negative_outlier_factor_\n",
    "    ax[i].plot(range(len(temp_scores)),sorted(-temp_scores))"
   ]
  },
  {
   "cell_type": "code",
   "execution_count": 16,
   "metadata": {},
   "outputs": [
    {
     "data": {
      "image/png": "[encoded data removed]",
      "text/plain": [
       "<Figure size 1080x360 with 3 Axes>"
      ]
     },
     "metadata": {
      "needs_background": "light"
     },
     "output_type": "display_data"
    }
   ],
   "source": [
    "f, ax = plt.subplots(1,3,figsize=(15,5))\n",
    "for i in set(y):\n",
    "    temp = X[y == i]\n",
    "    data = []\n",
    "    for j in range(X.shape[1]):\n",
    "        data.append(temp[:,j])\n",
    "    bp = ax[i].boxplot(data)\n",
    "plt.show()"
   ]
  },
  {
   "cell_type": "code",
   "execution_count": 17,
   "metadata": {
    "scrolled": true
   },
   "outputs": [
    {
     "data": {
      "image/png": "[encoded data removed]",
      "text/plain": [
       "<Figure size 576x360 with 1 Axes>"
      ]
     },
     "metadata": {
      "needs_background": "light"
     },
     "output_type": "display_data"
    }
   ],
   "source": [
    "# Create a figure instance\n",
    "fig = plt.figure(figsize=(8, 5))\n",
    "# Create an axes instance\n",
    "ax = fig.add_subplot(111)\n",
    "data = []\n",
    "for j in range(X.shape[1]):\n",
    "    data.append(X[:,j])\n",
    "bp = ax.boxplot(data)\n",
    "plt.show()"
   ]
  },
  {
   "cell_type": "markdown",
   "metadata": {},
   "source": [
    "## Entrenamiento de Modelos"
   ]
  },
  {
   "cell_type": "markdown",
   "metadata": {},
   "source": [
    "**kFold - Linear Discriminant Analysis**"
   ]
  },
  {
   "cell_type": "code",
   "execution_count": 18,
   "metadata": {},
   "outputs": [],
   "source": [
    "kf = KFold(n_splits=10)\n",
    "resultados_train = []\n",
    "resultados_test = []\n",
    "for tipo in ('lsqr', 'eigen', 'svd'):\n",
    "    for _ in range(3):\n",
    "        for train_index, test_index in kf.split(X):\n",
    "            X_train, X_test = X[train_index], X[test_index]\n",
    "            y_train, y_test = y[train_index], y[test_index]\n",
    "            alg = LinearDiscriminantAnalysis(solver=tipo, shrinkage=None)\n",
    "            alg.fit(X_train, y_train)\n",
    "            resultados_train.append(alg.score(X_train, y_train))\n",
    "            resultados_test.append(alg.score(X_test, y_test))\n",
    "resultados_train = np.reshape(resultados_train,(30,3),order='F')\n",
    "resultados_test = np.reshape(resultados_test,(30,3),order='F')"
   ]
  },
  {
   "cell_type": "markdown",
   "metadata": {},
   "source": [
    "**Test de normalidad**  \n",
    "Rechazamos normalidad"
   ]
  },
  {
   "cell_type": "code",
   "execution_count": 19,
   "metadata": {},
   "outputs": [
    {
     "name": "stdout",
     "output_type": "stream",
     "text": [
      "3.9143813523878634e-08\n",
      "2.2110947384135216e-07\n",
      "3.9143813523878634e-08\n"
     ]
    }
   ],
   "source": [
    "print(stats.shapiro(resultados_test[:,0])[1])\n",
    "print(stats.shapiro(resultados_test[:,1])[1])\n",
    "print(stats.shapiro(resultados_test[:,2])[1])"
   ]
  },
  {
   "cell_type": "markdown",
   "metadata": {},
   "source": [
    "**Test de Kruskal-Wallis**  \n",
    "No se puede rechazar que las precisiones sean similares"
   ]
  },
  {
   "cell_type": "code",
   "execution_count": 20,
   "metadata": {
    "scrolled": false
   },
   "outputs": [
    {
     "name": "stdout",
     "output_type": "stream",
     "text": [
      "KruskalResult(statistic=3.40669856459333, pvalue=0.18207268886049355)\n"
     ]
    }
   ],
   "source": [
    "print(stats.kruskal(resultados_test[:,0],\n",
    "                    resultados_test[:,1],\n",
    "                    resultados_test[:,2]))"
   ]
  },
  {
   "cell_type": "markdown",
   "metadata": {},
   "source": [
    "**kFold - Quadratic Discriminant Analysis**"
   ]
  },
  {
   "cell_type": "code",
   "execution_count": 21,
   "metadata": {},
   "outputs": [],
   "source": [
    "kf = KFold(n_splits=10)\n",
    "resultados_trainq = []\n",
    "resultados_testq = []\n",
    "for _ in range(3):\n",
    "    for train_index, test_index in kf.split(X):\n",
    "        X_train, X_test = X[train_index], X[test_index]\n",
    "        y_train, y_test = y[train_index], y[test_index]\n",
    "        alg = QuadraticDiscriminantAnalysis(priors=np.array([1/3, 1/3, 1/3]))\n",
    "        alg.fit(X_train, y_train)\n",
    "        resultados_trainq.append(alg.score(X_train, y_train))\n",
    "        resultados_testq.append(alg.score(X_test, y_test))"
   ]
  },
  {
   "cell_type": "markdown",
   "metadata": {},
   "source": [
    "**Test de normalidad**  \n",
    "Rechazamos normalidad"
   ]
  },
  {
   "cell_type": "code",
   "execution_count": 22,
   "metadata": {
    "scrolled": true
   },
   "outputs": [
    {
     "name": "stdout",
     "output_type": "stream",
     "text": [
      "3.9143813523878634e-08\n"
     ]
    }
   ],
   "source": [
    "print(stats.shapiro(resultados_testq)[1])"
   ]
  },
  {
   "cell_type": "markdown",
   "metadata": {},
   "source": [
    "**Test de Kruskal-Wallis**  \n",
    "No se puede rechazar que las precisiones sean similares"
   ]
  },
  {
   "cell_type": "code",
   "execution_count": 23,
   "metadata": {
    "scrolled": false
   },
   "outputs": [
    {
     "name": "stdout",
     "output_type": "stream",
     "text": [
      "KruskalResult(statistic=3.9230769230768985, pvalue=0.2698911311004027)\n"
     ]
    }
   ],
   "source": [
    "print(stats.kruskal(resultados_test[:,0],\n",
    "                    resultados_test[:,1],\n",
    "                    resultados_test[:,2],\n",
    "                    resultados_testq))"
   ]
  },
  {
   "cell_type": "markdown",
   "metadata": {},
   "source": [
    "**Nos quedamos con el más sencillo**  \n",
    "El cual asumimos que es el Lineal Discriminant Analysis con lsqr (mínimos cuadrados)"
   ]
  },
  {
   "cell_type": "code",
   "execution_count": 24,
   "metadata": {},
   "outputs": [],
   "source": [
    "def performance_indexes(CM, PositiveClass):\n",
    "    classNum = len(CM)\n",
    "    TP = CM[PositiveClass, PositiveClass]\n",
    "    TN = 0\n",
    "    FP = 0\n",
    "    FN = 0\n",
    "    for real in range(classNum):\n",
    "        for predicted in range(classNum):\n",
    "            if (real != PositiveClass and predicted != PositiveClass):\n",
    "                TN += CM[real, predicted]\n",
    "            if (real != PositiveClass and predicted == PositiveClass):\n",
    "                FP += CM[real, predicted]\n",
    "            if (real == PositiveClass and predicted != PositiveClass):\n",
    "                FN += CM[real, predicted]\n",
    "    Sens = TP/(TP+FN)\n",
    "    Spec = TN/(TN+FP)\n",
    "    PPV = TP/(TP+FP)\n",
    "    NPV = TN/(TN+FN)\n",
    "    ACC = (TP+TN)/(TP+TN+FP+FN)\n",
    "    return Sens,Spec,PPV,NPV,ACC"
   ]
  },
  {
   "cell_type": "code",
   "execution_count": 25,
   "metadata": {},
   "outputs": [
    {
     "name": "stdout",
     "output_type": "stream",
     "text": [
      "Sens: 1.00, Spec: 1.00, PPV: 1.00, NPV: 1.00, ACC: 1.00\n"
     ]
    }
   ],
   "source": [
    "X_train,X_test,y_train,y_test = train_test_split(X,y,test_size=0.25\n",
    "alg = LinearDiscriminantAnalysis(solver='lsqr', shrinkage=None)\n",
    "alg.fit(X_train, y_train)\n",
    "y_pred = alg.predict(X_test)\n",
    "CM = confusion_matrix(y_test, y_pred)\n",
    "Sens,Spec,PPV,NPV,ACC = performance_indexes(CM,1)\n",
    "print(('Sens: {:.2f}, Spec: {:.2f}, ' +\n",
    "      'PPV: {:.2f}, NPV: {:.2f}, ACC: {:.2f}').format(Sens,Spec,PPV,NPV,ACC))"
   ]
  },
  {
   "cell_type": "markdown",
   "metadata": {},
   "source": [
    "**----------------------------------------------------------------------------------------------------------------------------**"
   ]
  },
  {
   "cell_type": "markdown",
   "metadata": {},
   "source": [
    "**kFold - Decision Tree Classifier**"
   ]
  },
  {
   "cell_type": "code",
   "execution_count": 26,
   "metadata": {},
   "outputs": [],
   "source": [
    "\n",
    "kf = KFold(n_splits=10)\n",
    "resultados_traind = []\n",
    "resultados_testd = []\n",
    "for _ in range(3):\n",
    "    for train_index, test_index in kf.split(X):\n",
    "#         train_test_split del conjunto train y pillar 1/9 para validación\n",
    "        X_train, X_test = X[train_index], X[test_index]\n",
    "        y_train, y_test = y[train_index], y[test_index]\n",
    "        alg = DecisionTreeClassifier()\n",
    "        alg.fit(X_train, y_train)\n",
    "        resultados_traind.append(alg.score(X_train, y_train))\n",
    "        resultados_testd.append(alg.score(X_test, y_test))"
   ]
  },
  {
   "cell_type": "markdown",
   "metadata": {},
   "source": [
    "**TODO:**\n",
    "Entrenar varias versiones (mínimo 5) variando:\n",
    "- max_depth [3,5,7]\n",
    "- min_samples_leaf\n",
    "- min_samples_split\n",
    "Usar 8/10 train 1/10 validation 1/10 test"
   ]
  },
  {
   "cell_type": "markdown",
   "metadata": {},
   "source": [
    "## Persistencia"
   ]
  },
  {
   "cell_type": "code",
   "execution_count": 26,
   "metadata": {},
   "outputs": [],
   "source": [
    "# with open('RForest_Zika_oversampled.bin','wb') as file:\n",
    "#     pickle.dump(alg_o, file)\n",
    "# with open('RForest_Zika_undersampled.bin','wb') as file:\n",
    "#     pickle.dump(alg_u, file)"
   ]
  },
  {
   "cell_type": "markdown",
   "metadata": {},
   "source": [
    "## FIN"
   ]
  }
 ],
 "metadata": {
  "kernelspec": {
   "display_name": "Python 3",
   "language": "python",
   "name": "python3"
  },
  "language_info": {
   "codemirror_mode": {
    "name": "ipython",
    "version": 3
   },
   "file_extension": ".py",
   "mimetype": "text/x-python",
   "name": "python",
   "nbconvert_exporter": "python",
   "pygments_lexer": "ipython3",
   "version": "3.7.1"
  }
 },
 "nbformat": 4,
 "nbformat_minor": 2
}
